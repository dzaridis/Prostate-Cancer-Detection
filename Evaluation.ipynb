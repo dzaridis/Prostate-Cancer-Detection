{
 "cells": [
  {
   "cell_type": "code",
   "execution_count": null,
   "metadata": {},
   "outputs": [],
   "source": [
    "import pickle\n",
    "import time\n",
    "start_time = time.time()\n",
    "import numpy as np\n",
    "import os\n",
    "import SimpleITK as sitk\n",
    "import json\n",
    "import ProstateLesionDetectionUtils\n",
    "import random\n",
    "import plotly.express as px\n",
    "import matplotlib.pyplot as plt\n",
    "from scipy import ndimage\n",
    "import math\n",
    "import tensorflow_addons as tfa\n",
    "import tensorflow as tf\n",
    "with open(r\"E:\\DIMITRIS_DEEP_LEARNING\\DATASETS\\UC1_Nifti_Datasets_Paths\\Datasets.json\", 'r') as f:\n",
    "    datasets = json.load(f)\n",
    "p158 = r\"E:\\DIMITRIS_DEEP_LEARNING\\DATASETS\\PROSTATE158\\DATASETPICKLE\\Nifti_files\"\n",
    "picai = r\"E:\\DIMITRIS_DEEP_LEARNING\\DATASETS\\PICAI_DATA\\Nifti_files\"\n",
    "prostatenet = r\"E:\\DIMITRIS_DEEP_LEARNING\\DATASETS\\PROSTATENET_UC1_LESIONS\\nnUNet_raw\\Dataset011_ProstateNet\"\n",
    "with open(r\"E:\\DIMITRIS_DEEP_LEARNING\\DATASETS\\PROSTATENET_UC1_LESIONS\\nnUNet_raw\\Dataset011_ProstateNet\\folds.json\", 'r') as f:\n",
    "    ValidationFolds = json.load(f)\n",
    "    \n",
    "\n",
    "def PrepareTraining(pat):\n",
    "    dataset, labels = {}, {}\n",
    "    for key in pat.keys():\n",
    "        dataset.update({key:np.transpose(np.stack([pat[key][\"T2\"], pat[key][\"ADC\"], pat[key][\"DWI\"]]),(1,2,3,0))}) # tf.convert_to_tensor\n",
    "        labels.update({key:np.expand_dims(pat[key][\"Lesions\"], axis = -1)}) # tf.convert_to_tensor\n",
    "    return dataset, labels"
   ]
  },
  {
   "cell_type": "code",
   "execution_count": null,
   "metadata": {},
   "outputs": [],
   "source": [
    "loader = ProstateLesionDetectionUtils.DatasetsLoaders.Nifti_Loader.LoadSitkImages(ptdc = datasets[\"ProstateNet\"], folder = prostatenet)\n",
    "patients = loader.load_npobj()"
   ]
  },
  {
   "cell_type": "code",
   "execution_count": null,
   "metadata": {},
   "outputs": [],
   "source": [
    "dataset, labels = PrepareTraining(patients)\n",
    "\n",
    "x_train = {key:dataset[key] for key in dataset.keys() if key not in ValidationFolds[\"Fold 0\"]}\n",
    "y_train = {key:labels[key] for key in labels.keys() if key not in ValidationFolds[\"Fold 0\"]}\n",
    "\n",
    "x_test = {key:dataset[key] for key in dataset.keys() if key in ValidationFolds[\"Fold 0\"]}\n",
    "y_test = {key:labels[key] for key in labels.keys() if key in ValidationFolds[\"Fold 0\"]}"
   ]
  }
 ],
 "metadata": {
  "language_info": {
   "name": "python"
  },
  "orig_nbformat": 4
 },
 "nbformat": 4,
 "nbformat_minor": 2
}
