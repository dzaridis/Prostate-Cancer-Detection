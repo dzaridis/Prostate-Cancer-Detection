{
 "cells": [
  {
   "cell_type": "code",
   "execution_count": 1,
   "metadata": {},
   "outputs": [
    {
     "name": "stderr",
     "output_type": "stream",
     "text": [
      "2023-09-06 10:44:06.459867: I tensorflow/core/platform/cpu_feature_guard.cc:182] This TensorFlow binary is optimized to use available CPU instructions in performance-critical operations.\n",
      "To enable the following instructions: AVX2 FMA, in other operations, rebuild TensorFlow with the appropriate compiler flags.\n",
      "2023-09-06 10:44:07.274449: W tensorflow/compiler/tf2tensorrt/utils/py_utils.cc:38] TF-TRT Warning: Could not find TensorRT\n",
      "/home/medadmin/anaconda3/envs/tf12/lib/python3.10/site-packages/tensorflow_addons/utils/tfa_eol_msg.py:23: UserWarning: \n",
      "\n",
      "TensorFlow Addons (TFA) has ended development and introduction of new features.\n",
      "TFA has entered a minimal maintenance and release mode until a planned end of life in May 2024.\n",
      "Please modify downstream libraries to take dependencies from other repositories in our TensorFlow community (e.g. Keras, Keras-CV, and Keras-NLP). \n",
      "\n",
      "For more information see: https://github.com/tensorflow/addons/issues/2807 \n",
      "\n",
      "  warnings.warn(\n"
     ]
    }
   ],
   "source": [
    "import time\n",
    "start_time = time.time()\n",
    "import numpy as np\n",
    "import os\n",
    "import SimpleITK as sitk\n",
    "import json\n",
    "import ProstateLesionDetectionUtils\n",
    "from scipy import ndimage\n",
    "import tensorflow as tf\n",
    "os.environ['TF_CPP_MIN_LOG_LEVEL'] = '3'\n",
    "\n",
    "class NumpyEncoder(json.JSONEncoder):\n",
    "    def default(self, obj):\n",
    "        if isinstance(obj, (np.int_, np.intc, np.intp, np.int8,\n",
    "            np.int16, np.int32, np.int64, np.uint8,\n",
    "            np.uint16, np.uint32, np.uint64)):\n",
    "            return int(obj)\n",
    "        elif isinstance(obj, (np.float_, np.float16, np.float32, \n",
    "            np.float64)):\n",
    "            return float(obj)\n",
    "        elif isinstance(obj, (np.ndarray,)): \n",
    "            return obj.tolist()\n",
    "        return json.JSONEncoder.default(self, obj)\n",
    "\n",
    "with open(\"ProstateNetData/Datasets.json\", 'r') as f:\n",
    "    datasets = json.load(f)\n",
    "prostatenet = \"ProstateNetData/Dataset011_ProstateNet\"\n",
    "with open(r\"folds.json\", 'r') as f:\n",
    "    ValidationFolds = json.load(f)\n",
    "datasets\n",
    "for dataset in datasets.keys():\n",
    "    for pat in datasets[dataset].keys():\n",
    "        for seq in datasets[dataset][pat].keys():\n",
    "            x = datasets[dataset][pat][seq]\n",
    "            x = x.replace(\"\\\\\",\"/\")\n",
    "            datasets[dataset][pat][seq] = x"
   ]
  },
  {
   "cell_type": "code",
   "execution_count": 2,
   "metadata": {},
   "outputs": [],
   "source": [
    "loader = ProstateLesionDetectionUtils.DatasetsLoaders.Nifti_Loader.LoadSitkImages(ptdc = datasets[\"ProstateNet\"], folder = prostatenet)\n",
    "patients = loader.load_sitkobj()\n",
    "patients_test = {key:patients[key] for key in patients.keys() if key in ValidationFolds[\"Fold 0\"]}"
   ]
  },
  {
   "cell_type": "code",
   "execution_count": null,
   "metadata": {},
   "outputs": [],
   "source": [
    "model_names = ['Unet', 'Attention_Unet', 'Vnet', 'USE_net', 'Dense2_Unet', 'Trans_Unet']\n",
    "base_path = \"EXPERIMENTS\"\n",
    "fold = \"fold_0\"\n",
    "weights = \"Final_2048.tf\"\n",
    "weights_check = \"Checkpoint_2048.tf\"\n",
    "\n",
    "\n",
    "for md_nm in model_names:\n",
    "    \n",
    "    path_parent = [base_path, md_nm, fold]\n",
    "    paths = [base_path, md_nm, fold,\"Models\", weights] # chains the paths\n",
    "    model = tf.keras.models.load_model(os.path.join(*paths),compile = False)\n",
    "    print(model.count_params())\n",
    "\n",
    "    eval_params = {\n",
    "        \"MODEL\": model,\n",
    "        \"EVALUATION_DATA\": patients_test,# Needs to be a dictionary {PatName:{T2:arr, ADC:arr, DWI:arr, \"Lesion\":arr}}\n",
    "        \"SAVE_FOLDER\":os.path.join(*path_parent) ,\n",
    "    }\n",
    "\n",
    "    eval = ProstateLesionDetectionUtils.Evaluation.Evaluation.Evaluation(eval_params)\n",
    "    eval.predict()\n",
    "    #eval.calculate_detorient_metric()\n",
    "    eval.save_gt()\n",
    "    eval.save_predictions()\n",
    "    eval.save_predictions_binary()\n",
    "    metrics = eval.get_metrics()\n",
    "    preds = eval.get_predictions()\n",
    "    \n",
    "    for key,value in metrics.items():\n",
    "        metrics[key][0].update({\"Model\": md_nm, \"Number of Parameters\":[model.count_params()]})\n",
    "\n",
    "    path_parent.append(f\"metrics_final_{paths[-1][:-3]}.json\")\n",
    "    \n",
    "    with open(os.path.join(*path_parent, \"Metrics_Json\"), \"w\") as f:\n",
    "        json.dump(metrics, f, cls = NumpyEncoder, indent=4)"
   ]
  },
  {
   "cell_type": "code",
   "execution_count": null,
   "metadata": {},
   "outputs": [],
   "source": []
  }
 ],
 "metadata": {
  "kernelspec": {
   "display_name": "TensorFlow27",
   "language": "python",
   "name": "python3"
  },
  "language_info": {
   "codemirror_mode": {
    "name": "ipython",
    "version": 3
   },
   "file_extension": ".py",
   "mimetype": "text/x-python",
   "name": "python",
   "nbconvert_exporter": "python",
   "pygments_lexer": "ipython3",
   "version": "3.10.11"
  },
  "orig_nbformat": 4
 },
 "nbformat": 4,
 "nbformat_minor": 2
}
