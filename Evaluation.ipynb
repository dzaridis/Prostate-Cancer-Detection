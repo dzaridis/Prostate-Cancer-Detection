{
 "cells": [
  {
   "cell_type": "code",
   "execution_count": null,
   "metadata": {},
   "outputs": [],
   "source": [
    "import pickle\n",
    "import time\n",
    "start_time = time.time()\n",
    "import numpy as np\n",
    "import os\n",
    "import SimpleITK as sitk\n",
    "import json\n",
    "import ProstateLesionDetectionUtils\n",
    "import random\n",
    "import plotly.express as px\n",
    "import matplotlib.pyplot as plt\n",
    "from scipy import ndimage\n",
    "import math\n",
    "import tensorflow_addons as tfa\n",
    "import tensorflow as tf\n",
    "with open(r\"E:\\DIMITRIS_DEEP_LEARNING\\DATASETS\\UC1_Nifti_Datasets_Paths\\Datasets.json\", 'r') as f:\n",
    "    datasets = json.load(f)\n",
    "p158 = r\"E:\\DIMITRIS_DEEP_LEARNING\\DATASETS\\PROSTATE158\\DATASETPICKLE\\Nifti_files\"\n",
    "picai = r\"E:\\DIMITRIS_DEEP_LEARNING\\DATASETS\\PICAI_DATA\\Nifti_files\"\n",
    "prostatenet = r\"E:\\DIMITRIS_DEEP_LEARNING\\DATASETS\\PROSTATENET_UC1_LESIONS\\nnUNet_raw\\Dataset011_ProstateNet\"\n",
    "with open(r\"E:\\DIMITRIS_DEEP_LEARNING\\DATASETS\\PROSTATENET_UC1_LESIONS\\nnUNet_raw\\Dataset011_ProstateNet\\folds.json\", 'r') as f:\n",
    "    ValidationFolds = json.load(f)\n",
    "    \n"
   ]
  },
  {
   "cell_type": "code",
   "execution_count": null,
   "metadata": {},
   "outputs": [],
   "source": [
    "loader = ProstateLesionDetectionUtils.DatasetsLoaders.Nifti_Loader.LoadSitkImages(ptdc = datasets[\"ProstateNet\"], folder = prostatenet)\n",
    "patients = loader.load_sitkobj()\n",
    "patients_test = {key:patients[key] for key in patients.keys() if key in ValidationFolds[\"Fold 0\"]}"
   ]
  },
  {
   "cell_type": "code",
   "execution_count": null,
   "metadata": {},
   "outputs": [],
   "source": [
    "eval_params = {\n",
    "    \"MODEL\": transunet,\n",
    "    \"EVALUATION_DATA\": patients_test,# Needs to be a dictionary {PatName:{T2:arr, ADC:arr, DWI:arr, \"Lesion\":arr}}\n",
    "    \"SAVE_FOLDER\":os.path.join(*path_parent) ,\n",
    "}\n",
    "\n",
    "base_path = r\"E:\\DIMITRIS_DEEP_LEARNING\\RESULTS\\PROCANCER_UC1_RESULTS\"\n",
    "model  = \"Trans_Unet\"\n",
    "fold = \"fold_0\"\n",
    "weights = \"Final_1024.tf\"\n",
    "paths = [base_path, model, fold, weights] # chains the paths\n",
    "path_parent = [base_path, model, fold]\n",
    "\n",
    "transunet = tf.keras.models.load_model(os.path.join(*paths),compile = False)\n",
    "\n",
    "eval = Evaluation(eval_params)\n",
    "eval.predict()\n",
    "eval.calculate_detorient_metric()\n",
    "eval.save_gt()\n",
    "eval.save_predictions()\n",
    "eval.save_predictions_binary()\n",
    "metrics = eval.get_metrics()\n",
    "preds = eval.get_predictions()"
   ]
  }
 ],
 "metadata": {
  "kernelspec": {
   "display_name": "TensorFlow27",
   "language": "python",
   "name": "python3"
  },
  "language_info": {
   "name": "python",
   "version": "3.9.16"
  },
  "orig_nbformat": 4
 },
 "nbformat": 4,
 "nbformat_minor": 2
}
