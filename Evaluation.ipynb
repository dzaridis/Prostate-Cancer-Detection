{
 "cells": [
  {
   "cell_type": "code",
   "execution_count": null,
   "metadata": {},
   "outputs": [],
   "source": [
    "import time\n",
    "start_time = time.time()\n",
    "import numpy as np\n",
    "import os\n",
    "import SimpleITK as sitk\n",
    "import json\n",
    "import ProstateLesionDetectionUtils\n",
    "from scipy import ndimage\n",
    "import tensorflow as tf\n",
    "\n",
    "class NumpyEncoder(json.JSONEncoder):\n",
    "    def default(self, obj):\n",
    "        if isinstance(obj, (np.int_, np.intc, np.intp, np.int8,\n",
    "            np.int16, np.int32, np.int64, np.uint8,\n",
    "            np.uint16, np.uint32, np.uint64)):\n",
    "            return int(obj)\n",
    "        elif isinstance(obj, (np.float_, np.float16, np.float32, \n",
    "            np.float64)):\n",
    "            return float(obj)\n",
    "        elif isinstance(obj, (np.ndarray,)): \n",
    "            return obj.tolist()\n",
    "        return json.JSONEncoder.default(self, obj)\n",
    "\n",
    "with open(r\"E:\\DIMITRIS_DEEP_LEARNING\\DATASETS\\UC1_Nifti_Datasets_Paths\\Datasets.json\", 'r') as f:\n",
    "    datasets = json.load(f)\n",
    "prostatenet = r\"E:\\DIMITRIS_DEEP_LEARNING\\DATASETS\\PROSTATENET_UC1_LESIONS\\nnUNet_raw\\Dataset011_ProstateNet\"\n",
    "with open(r\"E:\\DIMITRIS_DEEP_LEARNING\\DATASETS\\PROSTATENET_UC1_LESIONS\\nnUNet_raw\\Dataset011_ProstateNet\\folds.json\", 'r') as f:\n",
    "    ValidationFolds = json.load(f)"
   ]
  },
  {
   "cell_type": "code",
   "execution_count": null,
   "metadata": {},
   "outputs": [],
   "source": [
    "loader = ProstateLesionDetectionUtils.DatasetsLoaders.Nifti_Loader.LoadSitkImages(ptdc = datasets[\"ProstateNet\"], folder = prostatenet)\n",
    "patients = loader.load_sitkobj()\n",
    "patients_test = {key:patients[key] for key in patients.keys() if key in ValidationFolds[\"Fold 0\"]}"
   ]
  },
  {
   "cell_type": "code",
   "execution_count": null,
   "metadata": {},
   "outputs": [],
   "source": [
    "model_names = ['Attention_Unet', 'Dense2_Unet', 'Trans_Unet', 'Unet', 'USE_net', 'Vnet']\n",
    "base_path = r\"E:\\DIMITRIS_DEEP_LEARNING\\RESULTS\\PROCANCER_UC1_RESULTS\"\n",
    "fold = \"fold_0\"\n",
    "weights = \"Final_1024.tf\"\n",
    "weights_check = \"Checkpoint_1024.tf\"\n",
    "\n",
    "\n",
    "for md_nm in model_names:\n",
    "    \n",
    "    path_parent = [base_path, md_nm, fold]\n",
    "    paths = [base_path, md_nm, fold, weights_check] # chains the paths\n",
    "    model = tf.keras.models.load_model(os.path.join(*paths),compile = False)\n",
    "    print(model.count_params())\n",
    "\n",
    "    eval_params = {\n",
    "        \"MODEL\": model,\n",
    "        \"EVALUATION_DATA\": patients_test,# Needs to be a dictionary {PatName:{T2:arr, ADC:arr, DWI:arr, \"Lesion\":arr}}\n",
    "        \"SAVE_FOLDER\":os.path.join(*path_parent) ,\n",
    "    }\n",
    "\n",
    "    eval = ProstateLesionDetectionUtils.Evaluation.Evaluation.Evaluation(eval_params)\n",
    "    eval.predict()\n",
    "    #eval.calculate_detorient_metric()\n",
    "    eval.save_gt()\n",
    "    eval.save_predictions()\n",
    "    eval.save_predictions_binary()\n",
    "    metrics = eval.get_metrics()\n",
    "    preds = eval.get_predictions()\n",
    "    \n",
    "    for key,value in metrics.items():\n",
    "        metrics[key][0].update({\"Model\": md_nm, \"Number of Parameters\":[model.count_params()]})\n",
    "        \n",
    "    path_parent.append(\"metrics_check.json\")\n",
    "    with open(os.path.join(*path_parent), \"w\") as f:\n",
    "        json.dump(metrics, f, cls = NumpyEncoder, indent=4)"
   ]
  },
  {
   "cell_type": "code",
   "execution_count": null,
   "metadata": {},
   "outputs": [],
   "source": []
  }
 ],
 "metadata": {
  "kernelspec": {
   "display_name": "TensorFlow27",
   "language": "python",
   "name": "python3"
  },
  "language_info": {
   "codemirror_mode": {
    "name": "ipython",
    "version": 3
   },
   "file_extension": ".py",
   "mimetype": "text/x-python",
   "name": "python",
   "nbconvert_exporter": "python",
   "pygments_lexer": "ipython3",
   "version": "3.9.16"
  },
  "orig_nbformat": 4
 },
 "nbformat": 4,
 "nbformat_minor": 2
}
