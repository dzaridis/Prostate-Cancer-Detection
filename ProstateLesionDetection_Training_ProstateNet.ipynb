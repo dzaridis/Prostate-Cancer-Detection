{
 "cells": [
  {
   "cell_type": "code",
   "execution_count": 1,
   "metadata": {},
   "outputs": [
    {
     "name": "stderr",
     "output_type": "stream",
     "text": [
      "/home/medadmin/anaconda3/envs/tf12/lib/python3.10/site-packages/tensorflow_addons/utils/tfa_eol_msg.py:23: UserWarning: \n",
      "\n",
      "TensorFlow Addons (TFA) has ended development and introduction of new features.\n",
      "TFA has entered a minimal maintenance and release mode until a planned end of life in May 2024.\n",
      "Please modify downstream libraries to take dependencies from other repositories in our TensorFlow community (e.g. Keras, Keras-CV, and Keras-NLP). \n",
      "\n",
      "For more information see: https://github.com/tensorflow/addons/issues/2807 \n",
      "\n",
      "  warnings.warn(\n"
     ]
    }
   ],
   "source": [
    "import pickle\n",
    "import time\n",
    "start_time = time.time()\n",
    "import numpy as np\n",
    "import os\n",
    "os.environ['TF_CPP_MIN_LOG_LEVEL'] = '3'\n",
    "import SimpleITK as sitk\n",
    "import json\n",
    "import ProstateLesionDetectionUtils\n",
    "import random\n",
    "import plotly.express as px\n",
    "import matplotlib.pyplot as plt\n",
    "from scipy import ndimage\n",
    "import math\n",
    "import tensorflow_addons as tfa\n",
    "import tensorflow as tf\n",
    "\n",
    "with open(\"ProstateNetData/Datasets_Updated.json\", 'r') as f:\n",
    "    datasets = json.load(f)\n",
    "for dataset in datasets.keys():\n",
    "    for pat in datasets[dataset].keys():\n",
    "        for seq in datasets[dataset][pat].keys():\n",
    "            x = datasets[dataset][pat][seq]\n",
    "            x = x.replace(\"\\\\\",\"/\")\n",
    "            datasets[dataset][pat][seq] = x\n",
    "# p158 = r\"E:\\DIMITRIS_DEEP_LEARNING\\DATASETS\\PROSTATE158\\DATASETPICKLE\\Nifti_files\"\n",
    "# picai = r\"E:\\DIMITRIS_DEEP_LEARNING\\DATASETS\\PICAI_DATA\\Nifti_files\"\n",
    "prostatenet = \"ProstateNetData/Dataset013_ProstateNet_Not_Integerized\"\n",
    "with open(\"ProstateNetData/folds.json\", 'r') as f:\n",
    "    ValidationFolds = json.load(f)\n",
    "    \n",
    "\n",
    "def PrepareTraining(pat, seq_ls =None):\n",
    "    dataset, labels = {}, {}\n",
    "    for key in pat.keys():\n",
    "        ds = []\n",
    "        for item in seq_ls:\n",
    "            ds.append(pat[key][item])\n",
    "        dataset.update({key:np.transpose(np.stack(ds),(1,2,3,0))}) # tf.convert_to_tensor\n",
    "\n",
    "    \n",
    "        labels.update({key:np.expand_dims(pat[key][\"Lesions\"], axis = -1)}) # tf.convert_to_tensor\n",
    "    return dataset, labels"
   ]
  },
  {
   "cell_type": "code",
   "execution_count": 2,
   "metadata": {},
   "outputs": [],
   "source": [
    "loader = ProstateLesionDetectionUtils.DatasetsLoaders.Nifti_Loader.LoadSitkImages(ptdc = datasets[\"ProstateNet_Not_Integerized\"], folder = prostatenet)\n",
    "patients = loader.load_npobj()"
   ]
  },
  {
   "cell_type": "code",
   "execution_count": null,
   "metadata": {},
   "outputs": [],
   "source": [
    "vis = ProstateLesionDetectionUtils.DatasetsProcessing.Visualization.Visualizer(patients)\n",
    "vis.np_vis(\"DWI\", \"PCa-324365095643606010864476831387746614101\",alpha=0.01)"
   ]
  },
  {
   "cell_type": "code",
   "execution_count": null,
   "metadata": {},
   "outputs": [],
   "source": [
    "dt = ProstateLesionDetectionUtils.DetectionMetrics.ModelDetoriention.DetorientLesions(patients, rates = [15,40,50])\n",
    "dt.CreateZones()\n",
    "dt.CreateZaxisZone()\n",
    "dt.KeepZonesNonZeroImageValues()\n",
    "zones = dt.GetZones()\n",
    "zaxis = dt.GetZaxisZones()"
   ]
  },
  {
   "cell_type": "code",
   "execution_count": null,
   "metadata": {},
   "outputs": [],
   "source": [
    "dataset, labels = PrepareTraining(patients, seq_ls=[\"T2\", \"ADC\", \"DWI\"])\n",
    "\n",
    "x_train = {key:dataset[key] for key in dataset.keys() if key not in ValidationFolds[\"Fold 0\"]}\n",
    "y_train = {key:labels[key] for key in labels.keys() if key not in ValidationFolds[\"Fold 0\"]}\n",
    "\n",
    "x_test = {key:dataset[key] for key in dataset.keys() if key in ValidationFolds[\"Fold 0\"]}\n",
    "y_test = {key:labels[key] for key in labels.keys() if key in ValidationFolds[\"Fold 0\"]}"
   ]
  },
  {
   "cell_type": "code",
   "execution_count": null,
   "metadata": {},
   "outputs": [],
   "source": [
    "len(x_train),len(y_train),len(x_test),len(y_test)"
   ]
  },
  {
   "cell_type": "code",
   "execution_count": null,
   "metadata": {},
   "outputs": [],
   "source": [
    "Xtrain = np.array(list(x_train.values()))\n",
    "Ytrain = np.array(list(y_train.values()))\n",
    "Xtest = np.array(list(x_test.values()))\n",
    "Ytest = np.array(list(y_test.values()))"
   ]
  },
  {
   "cell_type": "code",
   "execution_count": null,
   "metadata": {},
   "outputs": [],
   "source": [
    "\n",
    "start_time = time.time()\n",
    "tf.compat.v1.logging.set_verbosity(tf.compat.v1.logging.ERROR)\n",
    "FILTERS = [32, 64, 128, 256, 512, 1024, 2048] # -> best filters [32, 64, 128, 256, 512, 1024]\n",
    "Pool_size = ((1,2,2),(1,2,2),(2,2,2), (2,2,2), (1,2,2), (1,2,2))# best pool size-> (1,2,2),(1,2,2),(2,2,2), (2,2,2), (2,2,2)\n",
    "VOLSIZE = 24\n",
    "INPUT_SIZE = (1,24,192,192,3)\n",
    "BATCH_SIZE=1\n",
    "EPOCHS = 250\n",
    "INIT_LR = 0.0001\n",
    "MAX_LR = 0.05\n",
    "TQDM_CB=tfa.callbacks.TQDMProgressBar()\n",
    "\n",
    "METRICS = [ProstateLesionDetectionUtils.Evaluation.Loss_functions.dice_coefficient] # tfa.metrics.F1Score(num_classes=2, threshold=0.5)\n",
    "\n",
    "STEPS_PER_EPOCH = len(Xtrain) // BATCH_SIZE # len(train_data)\n",
    "\n",
    "# CLR = lr_schedule = tf.keras.optimizers.schedules.ExponentialDecay(\n",
    "#     0.001,\n",
    "#     decay_steps=STEPS_PER_EPOCH,  # Usually set to total number of training steps/epochs\n",
    "#     decay_rate=0.96,\n",
    "#     staircase=True\n",
    "#)\n",
    "CLR = tfa.optimizers.CyclicalLearningRate(initial_learning_rate=INIT_LR,\n",
    "    maximal_learning_rate=MAX_LR,\n",
    "    scale_fn=lambda x: 1/(2.**(x-1)),\n",
    "    step_size=2 * STEPS_PER_EPOCH)\n",
    "LOSS = ProstateLesionDetectionUtils.Evaluation.Loss_functions.combined_loss#tfa.losses.sigmoid_focal_crossentropy  #tfa.losses.sigmoid_focal_crossentropy\n",
    "OPTIMIZER = tf.keras.optimizers.legacy.Adam(CLR)"
   ]
  },
  {
   "cell_type": "code",
   "execution_count": null,
   "metadata": {},
   "outputs": [],
   "source": [
    "import matplotlib.pyplot as plt\n",
    "def plot_history(history, save_path=\"history.png\"):\n",
    "    # Plot training & validation accuracy values\n",
    "    plt.figure(figsize=(12, 4))\n",
    "    \n",
    "    plt.subplot(1, 2, 1)\n",
    "    plt.plot(history['dice_coefficient'])\n",
    "    plt.plot(history['val_dice_coefficient'])\n",
    "    plt.title('Model accuracy')\n",
    "    plt.ylabel('Dice_coefficient')\n",
    "    plt.xlabel('Epoch')\n",
    "    plt.legend(['Train', 'Validation'], loc='upper left')\n",
    "    \n",
    "    # Plot training & validation loss values\n",
    "    plt.subplot(1, 2, 2)\n",
    "    plt.plot(history['loss'])\n",
    "    plt.plot(history['val_loss'])\n",
    "    plt.title('Model loss')\n",
    "    plt.ylabel('Loss')\n",
    "    plt.xlabel('Epoch')\n",
    "    plt.legend(['Train', 'Validation'], loc='upper left')\n",
    "    \n",
    "    plt.tight_layout()\n",
    "    plt.savefig(save_path, dpi=400)"
   ]
  },
  {
   "cell_type": "code",
   "execution_count": null,
   "metadata": {},
   "outputs": [],
   "source": [
    "# Creating the experiment folder's structure\n",
    "par_folder = \"EXPERIMENTS_V0.2\"\n",
    "folds = [\"fold_0\", \"fold_1\", \"fold_2\", \"fold_3\", \"fold_4\"]\n",
    "models = ['Unet', 'Attention_Unet', 'Vnet', 'USE_net', 'Dense2_Unet', 'Trans_Unet']\n",
    "subfolds = ['Models',\n",
    " 'Ground_Truth',\n",
    " 'GradCam',\n",
    " 'Feature_Maps',\n",
    " 'Binary_Predictions',\n",
    " 'Metrics_Json',\n",
    " 'predictions']\n",
    "\n",
    "os.mkdir(par_folder)\n",
    "for item in models:\n",
    "    os.mkdir(os.path.join(par_folder,item))\n",
    "    for sub in folds:\n",
    "        os.mkdir(os.path.join(*[par_folder,item,sub]))\n",
    "        for sub2 in subfolds:\n",
    "            os.mkdir(os.path.join(*[par_folder,item,sub,sub2]))\n"
   ]
  },
  {
   "cell_type": "code",
   "execution_count": null,
   "metadata": {},
   "outputs": [],
   "source": [
    "exp = 'EXPERIMENTS_V0.2'\n",
    "models = ['Unet', 'Attention_Unet', 'Vnet', 'USE_net', 'Dense2_Unet', 'Trans_Unet']\n",
    "mod_instances = [\n",
    "ProstateLesionDetectionUtils.DetectionModels.Models3D.UnetModel3D.UNET.TrainUnet,\n",
    "ProstateLesionDetectionUtils.DetectionModels.Models3D.AttentionUNet3D.AttentionUNet.TrainAttentionUnet,\n",
    "ProstateLesionDetectionUtils.DetectionModels.Models3D.VNet.vnet.TrainVnet,\n",
    "ProstateLesionDetectionUtils.DetectionModels.Models3D.USENet3D.USENET.TrainUSEnet,\n",
    "ProstateLesionDetectionUtils.DetectionModels.Models3D.Dense2VNet.D2Vnet.TrainDenseVnet,\n",
    "ProstateLesionDetectionUtils.DetectionModels.Models3D.TransUnet3D.transunet3d.TrainTransUnet,\n",
    "]\n",
    "\n",
    "TrainParams = {\"LOSS\":LOSS, \"OPTIMIZER\":OPTIMIZER, \"CALLBACKS\":None,\"POOL_SIZE\":Pool_size,\n",
    "            \"BATCH_SIZE\":BATCH_SIZE, \"FILTERS\":FILTERS, \"INPUT_SIZE\":INPUT_SIZE, \"METRICS\":METRICS,\n",
    "            \"INITIAL_WEIGHTS\":None,\n",
    "            \"WEIGHTS\":None,\n",
    "            \"VOLUME_SIZE\":24, \"EPOCHS\":EPOCHS, \n",
    "            \"TRAIN_DATASET\":{\"DATA\":Xtrain,\"LABELS\":Ytrain},\"VAL_DATASET\":{\"DATA\":Xtest,\"LABELS\":Ytest},\n",
    "            \"DENSE_SIZE\":16, \"GROWTH_RATE\": 2, \"DROPOUT_RATE\": 0.3, \"DENSE_BLOCKS\": 2,\n",
    "            \"PATCH_SIZE_XY\": 3,\n",
    "            \"PATCH_SIZE_Z\": 1,\n",
    "            \"TRANSF_HEADS\": 8,\n",
    "            \"TRANSF_LAYERS\": 8,\n",
    "            \"DROP_RATE\": 0.3}\n",
    "\n",
    "for mdl_pth, mdl in zip(models,mod_instances):\n",
    "    #if  mdl_pth == \"Trans_Unet\": #mdl_pth == \"Dense2_Unet\"\n",
    "    pth_check = [exp,mdl_pth,\"fold_0\",\"Checkpoint_2048.tf\"]\n",
    "    pth_final = [exp,mdl_pth,\"fold_0\",\"Final_2048.tf\"]\n",
    "    pth_init = [exp,mdl_pth,\"init_weights_2048.h5\"]\n",
    "\n",
    "    CHECK_CB = tf.keras.callbacks.ModelCheckpoint(os.path.join(*pth_check),save_weights_only=False,save_best_only=True)\n",
    "    CALLBACKS=[CHECK_CB]#\n",
    "    TrainParams[\"CALLBACKS\"] = CALLBACKS\n",
    "    TrainParams[\"INITIAL_WEIGHTS\"] = os.path.join(*pth_init)\n",
    "    TrainParams[\"WEIGHTS\"] = os.path.join(*pth_final)\n",
    "\n",
    "    mod = mdl(TrainParams)\n",
    "    mod.ModelBuild()\n",
    "\n",
    "    if \"init_weights_2048.h5\" in os.listdir(os.path.join(exp,mdl_pth)):\n",
    "        mod.LoadTrained()\n",
    "    else:\n",
    "        mod.SaveInitWeights()\n",
    "    mod.LoadTrained()\n",
    "    mod.ModelCompile()\n",
    "    mod.ModelFit()\n",
    "\n",
    "    mod1 = mod.GetModel()\n",
    "    hist = mod.GetHistory()\n",
    "    plot_history(hist.history, save_path=os.path.join(*[exp,mdl_pth,\"fold_0\",f\"plot_{pth_check[-1][7:-3]}\"]))\n",
    "    mod1.save(TrainParams[\"WEIGHTS\"])"
   ]
  },
  {
   "cell_type": "code",
   "execution_count": null,
   "metadata": {},
   "outputs": [],
   "source": []
  }
 ],
 "metadata": {
  "kernelspec": {
   "display_name": "TensorFlow27",
   "language": "python",
   "name": "python3"
  },
  "language_info": {
   "codemirror_mode": {
    "name": "ipython",
    "version": 3
   },
   "file_extension": ".py",
   "mimetype": "text/x-python",
   "name": "python",
   "nbconvert_exporter": "python",
   "pygments_lexer": "ipython3",
   "version": "3.10.11"
  },
  "orig_nbformat": 4
 },
 "nbformat": 4,
 "nbformat_minor": 2
}
