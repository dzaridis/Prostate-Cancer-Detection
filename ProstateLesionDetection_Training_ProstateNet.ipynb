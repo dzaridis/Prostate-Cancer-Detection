{
 "cells": [
  {
   "cell_type": "code",
   "execution_count": 9,
   "metadata": {},
   "outputs": [],
   "source": [
    "import pickle\n",
    "import time\n",
    "start_time = time.time()\n",
    "import numpy as np\n",
    "import os\n",
    "os.environ['TF_CPP_MIN_LOG_LEVEL'] = '3'\n",
    "import SimpleITK as sitk\n",
    "import json\n",
    "import ProstateLesionDetectionUtils\n",
    "import random\n",
    "import plotly.express as px\n",
    "import matplotlib.pyplot as plt\n",
    "from scipy import ndimage\n",
    "import math\n",
    "import tensorflow_addons as tfa\n",
    "import tensorflow as tf\n",
    "\n",
    "with open(\"ProstateNetData/Datasets.json\", 'r') as f:\n",
    "    datasets = json.load(f)\n",
    "for dataset in datasets.keys():\n",
    "    for pat in datasets[dataset].keys():\n",
    "        for seq in datasets[dataset][pat].keys():\n",
    "            x = datasets[dataset][pat][seq]\n",
    "            x = x.replace(\"\\\\\",\"/\")\n",
    "            datasets[dataset][pat][seq] = x\n",
    "# p158 = r\"E:\\DIMITRIS_DEEP_LEARNING\\DATASETS\\PROSTATE158\\DATASETPICKLE\\Nifti_files\"\n",
    "# picai = r\"E:\\DIMITRIS_DEEP_LEARNING\\DATASETS\\PICAI_DATA\\Nifti_files\"\n",
    "prostatenet = \"ProstateNetData/Dataset011_ProstateNet\"\n",
    "with open(\"ProstateNetData/folds.json\", 'r') as f:\n",
    "    ValidationFolds = json.load(f)\n",
    "    \n",
    "\n",
    "def PrepareTraining(pat):\n",
    "    dataset, labels = {}, {}\n",
    "    for key in pat.keys():\n",
    "        dataset.update({key:np.transpose(np.stack([pat[key][\"T2\"], pat[key][\"ADC\"], pat[key][\"DWI\"]]),(1,2,3,0))}) # tf.convert_to_tensor\n",
    "        labels.update({key:np.expand_dims(pat[key][\"Lesions\"], axis = -1)}) # tf.convert_to_tensor\n",
    "    return dataset, labels"
   ]
  },
  {
   "cell_type": "code",
   "execution_count": 2,
   "metadata": {},
   "outputs": [
    {
     "name": "stdout",
     "output_type": "stream",
     "text": [
      "[PhysicalDevice(name='/physical_device:GPU:0', device_type='GPU')]\n"
     ]
    }
   ],
   "source": [
    "print(tf.config.list_physical_devices('GPU'))"
   ]
  },
  {
   "cell_type": "code",
   "execution_count": 3,
   "metadata": {},
   "outputs": [],
   "source": [
    "loader = ProstateLesionDetectionUtils.DatasetsLoaders.Nifti_Loader.LoadSitkImages(ptdc = datasets[\"ProstateNet\"], folder = prostatenet)\n",
    "patients = loader.load_npobj()"
   ]
  },
  {
   "cell_type": "code",
   "execution_count": null,
   "metadata": {},
   "outputs": [],
   "source": [
    "vis = ProstateLesionDetectionUtils.DatasetsProcessing.Visualization.Visualizer(patients)\n",
    "vis.np_vis(\"DWI\", \"PCa-324365095643606010864476831387746614101\")"
   ]
  },
  {
   "cell_type": "code",
   "execution_count": null,
   "metadata": {},
   "outputs": [],
   "source": [
    "dt = ProstateLesionDetectionUtils.DetectionMetrics.ModelDetoriention.DetorientLesions(patients, rates = [15,40,50])\n",
    "dt.CreateZones()\n",
    "dt.CreateZaxisZone()\n",
    "dt.KeepZonesNonZeroImageValues()\n",
    "zones = dt.GetZones()\n",
    "zaxis = dt.GetZaxisZones()"
   ]
  },
  {
   "cell_type": "code",
   "execution_count": 4,
   "metadata": {},
   "outputs": [],
   "source": [
    "dataset, labels = PrepareTraining(patients)\n",
    "\n",
    "x_train = {key:dataset[key] for key in dataset.keys() if key not in ValidationFolds[\"Fold 0\"]}\n",
    "y_train = {key:labels[key] for key in labels.keys() if key not in ValidationFolds[\"Fold 0\"]}\n",
    "\n",
    "x_test = {key:dataset[key] for key in dataset.keys() if key in ValidationFolds[\"Fold 0\"]}\n",
    "y_test = {key:labels[key] for key in labels.keys() if key in ValidationFolds[\"Fold 0\"]}"
   ]
  },
  {
   "cell_type": "code",
   "execution_count": 5,
   "metadata": {},
   "outputs": [
    {
     "data": {
      "text/plain": [
       "(289, 289, 73, 73)"
      ]
     },
     "execution_count": 5,
     "metadata": {},
     "output_type": "execute_result"
    }
   ],
   "source": [
    "len(x_train),len(y_train),len(x_test),len(y_test)"
   ]
  },
  {
   "cell_type": "code",
   "execution_count": 6,
   "metadata": {},
   "outputs": [],
   "source": [
    "Xtrain = np.array(list(x_train.values()))\n",
    "Ytrain = np.array(list(y_train.values()))\n",
    "Xtest = np.array(list(x_test.values()))\n",
    "Ytest = np.array(list(y_test.values()))"
   ]
  },
  {
   "cell_type": "code",
   "execution_count": 7,
   "metadata": {},
   "outputs": [
    {
     "name": "stderr",
     "output_type": "stream",
     "text": [
      "/home/medadmin/anaconda3/envs/tf12/lib/python3.10/site-packages/tqdm/auto.py:21: TqdmWarning: IProgress not found. Please update jupyter and ipywidgets. See https://ipywidgets.readthedocs.io/en/stable/user_install.html\n",
      "  from .autonotebook import tqdm as notebook_tqdm\n"
     ]
    }
   ],
   "source": [
    "start_time = time.time()\n",
    "tf.compat.v1.logging.set_verbosity(tf.compat.v1.logging.ERROR)\n",
    "FILTERS = [32, 64, 128, 256, 512, 1024, 2048]\n",
    "Pool_size = ((2,2,2),(2,2,2),(2,2,2), (1,2,2), (1,2,2), (1,2,2))\n",
    "VOLSIZE = 24\n",
    "INPUT_SIZE = (1,24,192,192,3)\n",
    "BATCH_SIZE=1\n",
    "EPOCHS = 400\n",
    "INIT_LR = 1e-5\n",
    "MAX_LR = 1e-2\n",
    "TQDM_CB=tfa.callbacks.TQDMProgressBar()\n",
    "\n",
    "METRICS = \"acc\" # tfa.metrics.F1Score(num_classes=2, threshold=0.5)\n",
    "\n",
    "STEPS_PER_EPOCH = len(Xtrain) // BATCH_SIZE # len(train_data)\n",
    "\n",
    "# CLR = lr_schedule = tf.keras.optimizers.schedules.ExponentialDecay(\n",
    "#     0.001,\n",
    "#     decay_steps=STEPS_PER_EPOCH,  # Usually set to total number of training steps/epochs\n",
    "#     decay_rate=0.96,\n",
    "#     staircase=True\n",
    "#)\n",
    "CLR = tfa.optimizers.CyclicalLearningRate(initial_learning_rate=INIT_LR,\n",
    "    maximal_learning_rate=MAX_LR,\n",
    "    scale_fn=lambda x: 1/(2.**(x-1)),\n",
    "    step_size=2 * STEPS_PER_EPOCH)\n",
    "LOSS = tfa.losses.sigmoid_focal_crossentropy  #tfa.losses.sigmoid_focal_crossentropy\n",
    "OPTIMIZER = tf.keras.optimizers.legacy.Adam(CLR)\n",
    "\n",
    "# name_folder = \"TransUnet_8translayers_8heads\"\n",
    "# try:\n",
    "#     os.mkdir(os.path.join(r\"E:\\DIMITRIS_DEEP_LEARNING\\RESULTS\\PROCANCER_UC1_RESULTS\",name_folder))\n",
    "# except:\n",
    "#     pass\n",
    "\n",
    "# CHECK_CB = tf.keras.callbacks.ModelCheckpoint(os.path.join(r\"E:\\DIMITRIS_DEEP_LEARNING\\RESULTS\\PROCANCER_UC1_RESULTS\",name_folder+\"\\CheckPoint_Weights.tf\"),save_weights_only=False,save_best_only=True)\n",
    "# #EARLY_STOP = tf.keras.callbacks.EarlyStopping(patience = 30)\n",
    "# CALLBACKS=[CHECK_CB,TQDM_CB]#\n",
    "# #train_dataset = tf.data.Dataset.from_tensor_slices((Xtrain, Ytrain))\n",
    "# #val_dataset = tf.data.Dataset.from_tensor_slices((Xtest, Ytest))\n",
    "\n",
    "\n",
    "# # train_dataset = train_dataset.batch(BATCH_SIZE)\n",
    "# # val_dataset = val_dataset.batch(BATCH_SIZE)\n",
    "\n",
    "# TrainParams = {\"LOSS\":LOSS, \"OPTIMIZER\":OPTIMIZER, \"CALLBACKS\":CALLBACKS,\"POOL_SIZE\":Pool_size,\n",
    "#                \"BATCH_SIZE\":BATCH_SIZE, \"FILTERS\":FILTERS, \"INPUT_SIZE\":INPSIZE, \"METRICS\":METRICS,\n",
    "#                \"WEIGHTS\":None,\n",
    "#                \"VOLUME_SIZE\":24, \"EPOCHS\":EPOCHS, \"TRAIN_DATASET\":{\"DATA\":Xtrain,\"LABELS\":Ytrain},\"VAL_DATASET\":{\"DATA\":Xtest,\"LABELS\":Ytest},\"DENSE_SIZE\":16, \"PATCH_SIZE_XY\": 3,\n",
    "#                 \"PATCH_SIZE_Z\": 1,\n",
    "#                 \"TRANSF_HEADS\": 8,\n",
    "#                 \"TRANSF_LAYERS\": 8,\n",
    "#                 \"DROP_RATE\": 0.3}\n",
    "\n",
    "# print((time.time() - start_time))"
   ]
  },
  {
   "cell_type": "code",
   "execution_count": 8,
   "metadata": {},
   "outputs": [
    {
     "name": "stdout",
     "output_type": "stream",
     "text": [
      "Epoch 1/400\n",
      "289/289 [==============================] - ETA: 0s - loss: 0.9560 - acc: 0.9143"
     ]
    },
    {
     "name": "stderr",
     "output_type": "stream",
     "text": [
      "WARNING:absl:Found untraced functions such as _jit_compiled_convolution_op, _jit_compiled_convolution_op, _jit_compiled_convolution_op, _jit_compiled_convolution_op, _jit_compiled_convolution_op while saving (showing 5 of 761). These functions will not be directly callable after loading.\n"
     ]
    },
    {
     "name": "stdout",
     "output_type": "stream",
     "text": [
      "289/289 [==============================] - 263s 824ms/step - loss: 0.9560 - acc: 0.9143 - val_loss: 0.2711 - val_acc: 0.9983\n",
      "Epoch 2/400\n",
      "289/289 [==============================] - ETA: 0s - loss: 0.0622 - acc: 0.9955"
     ]
    },
    {
     "name": "stderr",
     "output_type": "stream",
     "text": [
      "WARNING:absl:Found untraced functions such as _jit_compiled_convolution_op, _jit_compiled_convolution_op, _jit_compiled_convolution_op, _jit_compiled_convolution_op, _jit_compiled_convolution_op while saving (showing 5 of 761). These functions will not be directly callable after loading.\n"
     ]
    },
    {
     "name": "stdout",
     "output_type": "stream",
     "text": [
      "289/289 [==============================] - 242s 838ms/step - loss: 0.0622 - acc: 0.9955 - val_loss: 0.0061 - val_acc: 0.9983\n",
      "Epoch 3/400\n",
      "289/289 [==============================] - ETA: 0s - loss: 0.0049 - acc: 0.9955"
     ]
    },
    {
     "name": "stderr",
     "output_type": "stream",
     "text": [
      "WARNING:absl:Found untraced functions such as _jit_compiled_convolution_op, _jit_compiled_convolution_op, _jit_compiled_convolution_op, _jit_compiled_convolution_op, _jit_compiled_convolution_op while saving (showing 5 of 761). These functions will not be directly callable after loading.\n"
     ]
    },
    {
     "name": "stdout",
     "output_type": "stream",
     "text": [
      "289/289 [==============================] - 242s 838ms/step - loss: 0.0049 - acc: 0.9955 - val_loss: 0.0031 - val_acc: 0.9983\n",
      "Epoch 4/400\n",
      "289/289 [==============================] - ETA: 0s - loss: 0.0036 - acc: 0.9955"
     ]
    },
    {
     "name": "stderr",
     "output_type": "stream",
     "text": [
      "WARNING:absl:Found untraced functions such as _jit_compiled_convolution_op, _jit_compiled_convolution_op, _jit_compiled_convolution_op, _jit_compiled_convolution_op, _jit_compiled_convolution_op while saving (showing 5 of 761). These functions will not be directly callable after loading.\n"
     ]
    },
    {
     "name": "stdout",
     "output_type": "stream",
     "text": [
      "289/289 [==============================] - 245s 849ms/step - loss: 0.0036 - acc: 0.9955 - val_loss: 0.0026 - val_acc: 0.9983\n",
      "Epoch 5/400\n",
      "289/289 [==============================] - 194s 671ms/step - loss: 0.0035 - acc: 0.9955 - val_loss: 0.0038 - val_acc: 0.9983\n",
      "Epoch 6/400\n",
      "289/289 [==============================] - ETA: 0s - loss: 0.0034 - acc: 0.9955"
     ]
    },
    {
     "name": "stderr",
     "output_type": "stream",
     "text": [
      "WARNING:absl:Found untraced functions such as _jit_compiled_convolution_op, _jit_compiled_convolution_op, _jit_compiled_convolution_op, _jit_compiled_convolution_op, _jit_compiled_convolution_op while saving (showing 5 of 761). These functions will not be directly callable after loading.\n"
     ]
    },
    {
     "name": "stdout",
     "output_type": "stream",
     "text": [
      "289/289 [==============================] - 243s 842ms/step - loss: 0.0034 - acc: 0.9955 - val_loss: 0.0026 - val_acc: 0.9983\n",
      "Epoch 7/400\n",
      "289/289 [==============================] - ETA: 0s - loss: 0.0030 - acc: 0.9955"
     ]
    },
    {
     "name": "stderr",
     "output_type": "stream",
     "text": [
      "WARNING:absl:Found untraced functions such as _jit_compiled_convolution_op, _jit_compiled_convolution_op, _jit_compiled_convolution_op, _jit_compiled_convolution_op, _jit_compiled_convolution_op while saving (showing 5 of 761). These functions will not be directly callable after loading.\n"
     ]
    },
    {
     "name": "stdout",
     "output_type": "stream",
     "text": [
      "289/289 [==============================] - 245s 849ms/step - loss: 0.0030 - acc: 0.9955 - val_loss: 0.0019 - val_acc: 0.9983\n",
      "Epoch 8/400\n",
      "289/289 [==============================] - ETA: 0s - loss: 0.0027 - acc: 0.9955"
     ]
    },
    {
     "name": "stderr",
     "output_type": "stream",
     "text": [
      "WARNING:absl:Found untraced functions such as _jit_compiled_convolution_op, _jit_compiled_convolution_op, _jit_compiled_convolution_op, _jit_compiled_convolution_op, _jit_compiled_convolution_op while saving (showing 5 of 761). These functions will not be directly callable after loading.\n"
     ]
    },
    {
     "name": "stdout",
     "output_type": "stream",
     "text": [
      "289/289 [==============================] - 245s 847ms/step - loss: 0.0027 - acc: 0.9955 - val_loss: 0.0019 - val_acc: 0.9983\n",
      "Epoch 9/400\n",
      "289/289 [==============================] - 194s 673ms/step - loss: 0.0026 - acc: 0.9955 - val_loss: 0.0040 - val_acc: 0.9983\n",
      "Epoch 10/400\n",
      "289/289 [==============================] - ETA: 0s - loss: 0.0025 - acc: 0.9955"
     ]
    },
    {
     "name": "stderr",
     "output_type": "stream",
     "text": [
      "WARNING:absl:Found untraced functions such as _jit_compiled_convolution_op, _jit_compiled_convolution_op, _jit_compiled_convolution_op, _jit_compiled_convolution_op, _jit_compiled_convolution_op while saving (showing 5 of 761). These functions will not be directly callable after loading.\n"
     ]
    },
    {
     "name": "stdout",
     "output_type": "stream",
     "text": [
      "289/289 [==============================] - 242s 838ms/step - loss: 0.0025 - acc: 0.9955 - val_loss: 0.0017 - val_acc: 0.9983\n",
      "Epoch 11/400\n",
      "289/289 [==============================] - ETA: 0s - loss: 0.0023 - acc: 0.9955"
     ]
    },
    {
     "name": "stderr",
     "output_type": "stream",
     "text": [
      "WARNING:absl:Found untraced functions such as _jit_compiled_convolution_op, _jit_compiled_convolution_op, _jit_compiled_convolution_op, _jit_compiled_convolution_op, _jit_compiled_convolution_op while saving (showing 5 of 761). These functions will not be directly callable after loading.\n"
     ]
    },
    {
     "name": "stdout",
     "output_type": "stream",
     "text": [
      "289/289 [==============================] - 245s 848ms/step - loss: 0.0023 - acc: 0.9955 - val_loss: 0.0015 - val_acc: 0.9983\n",
      "Epoch 12/400\n",
      "289/289 [==============================] - ETA: 0s - loss: 0.0022 - acc: 0.9955"
     ]
    },
    {
     "name": "stderr",
     "output_type": "stream",
     "text": [
      "WARNING:absl:Found untraced functions such as _jit_compiled_convolution_op, _jit_compiled_convolution_op, _jit_compiled_convolution_op, _jit_compiled_convolution_op, _jit_compiled_convolution_op while saving (showing 5 of 761). These functions will not be directly callable after loading.\n"
     ]
    },
    {
     "name": "stdout",
     "output_type": "stream",
     "text": [
      "289/289 [==============================] - 246s 853ms/step - loss: 0.0022 - acc: 0.9955 - val_loss: 0.0015 - val_acc: 0.9983\n",
      "Epoch 13/400\n",
      "289/289 [==============================] - 194s 671ms/step - loss: 0.0022 - acc: 0.9955 - val_loss: 0.0021 - val_acc: 0.9983\n",
      "Epoch 14/400\n",
      "289/289 [==============================] - 195s 676ms/step - loss: 0.0021 - acc: 0.9955 - val_loss: 0.0015 - val_acc: 0.9983\n",
      "Epoch 15/400\n",
      "289/289 [==============================] - ETA: 0s - loss: 0.0021 - acc: 0.9955"
     ]
    },
    {
     "name": "stderr",
     "output_type": "stream",
     "text": [
      "WARNING:absl:Found untraced functions such as _jit_compiled_convolution_op, _jit_compiled_convolution_op, _jit_compiled_convolution_op, _jit_compiled_convolution_op, _jit_compiled_convolution_op while saving (showing 5 of 761). These functions will not be directly callable after loading.\n"
     ]
    },
    {
     "name": "stdout",
     "output_type": "stream",
     "text": [
      "289/289 [==============================] - 242s 837ms/step - loss: 0.0021 - acc: 0.9955 - val_loss: 0.0013 - val_acc: 0.9983\n",
      "Epoch 16/400\n",
      "289/289 [==============================] - 193s 668ms/step - loss: 0.0020 - acc: 0.9955 - val_loss: 0.0014 - val_acc: 0.9983\n",
      "Epoch 17/400\n",
      "289/289 [==============================] - 191s 660ms/step - loss: 0.0020 - acc: 0.9955 - val_loss: 0.0013 - val_acc: 0.9983\n",
      "Epoch 18/400\n",
      "289/289 [==============================] - 191s 661ms/step - loss: 0.0020 - acc: 0.9955 - val_loss: 0.0016 - val_acc: 0.9983\n",
      "Epoch 19/400\n",
      "289/289 [==============================] - ETA: 0s - loss: 0.0019 - acc: 0.9955"
     ]
    },
    {
     "name": "stderr",
     "output_type": "stream",
     "text": [
      "WARNING:absl:Found untraced functions such as _jit_compiled_convolution_op, _jit_compiled_convolution_op, _jit_compiled_convolution_op, _jit_compiled_convolution_op, _jit_compiled_convolution_op while saving (showing 5 of 761). These functions will not be directly callable after loading.\n"
     ]
    },
    {
     "name": "stdout",
     "output_type": "stream",
     "text": [
      "289/289 [==============================] - 244s 844ms/step - loss: 0.0019 - acc: 0.9955 - val_loss: 0.0013 - val_acc: 0.9983\n",
      "Epoch 20/400\n",
      "289/289 [==============================] - 192s 666ms/step - loss: 0.0019 - acc: 0.9955 - val_loss: 0.0014 - val_acc: 0.9983\n",
      "Epoch 21/400\n",
      "289/289 [==============================] - 192s 665ms/step - loss: 0.0018 - acc: 0.9955 - val_loss: 0.0013 - val_acc: 0.9983\n",
      "Epoch 22/400\n",
      "289/289 [==============================] - 192s 664ms/step - loss: 0.0018 - acc: 0.9955 - val_loss: 0.0018 - val_acc: 0.9983\n",
      "Epoch 23/400\n",
      "289/289 [==============================] - ETA: 0s - loss: 0.0018 - acc: 0.9955"
     ]
    },
    {
     "name": "stderr",
     "output_type": "stream",
     "text": [
      "WARNING:absl:Found untraced functions such as _jit_compiled_convolution_op, _jit_compiled_convolution_op, _jit_compiled_convolution_op, _jit_compiled_convolution_op, _jit_compiled_convolution_op while saving (showing 5 of 761). These functions will not be directly callable after loading.\n"
     ]
    },
    {
     "name": "stdout",
     "output_type": "stream",
     "text": [
      "289/289 [==============================] - 240s 831ms/step - loss: 0.0018 - acc: 0.9955 - val_loss: 0.0012 - val_acc: 0.9983\n",
      "Epoch 24/400\n",
      "289/289 [==============================] - 190s 659ms/step - loss: 0.0018 - acc: 0.9955 - val_loss: 0.0014 - val_acc: 0.9983\n",
      "Epoch 25/400\n",
      "289/289 [==============================] - 188s 651ms/step - loss: 0.0018 - acc: 0.9955 - val_loss: 0.0015 - val_acc: 0.9983\n",
      "Epoch 26/400\n",
      "289/289 [==============================] - 189s 655ms/step - loss: 0.0018 - acc: 0.9955 - val_loss: 0.0014 - val_acc: 0.9983\n",
      "Epoch 27/400\n",
      "289/289 [==============================] - 189s 655ms/step - loss: 0.0017 - acc: 0.9955 - val_loss: 0.0018 - val_acc: 0.9983\n",
      "Epoch 28/400\n",
      "289/289 [==============================] - 190s 656ms/step - loss: 0.0017 - acc: 0.9955 - val_loss: 0.0015 - val_acc: 0.9983\n",
      "Epoch 29/400\n",
      "289/289 [==============================] - 188s 651ms/step - loss: 0.0017 - acc: 0.9955 - val_loss: 0.0014 - val_acc: 0.9983\n",
      "Epoch 30/400\n",
      "289/289 [==============================] - 187s 647ms/step - loss: 0.0017 - acc: 0.9955 - val_loss: 0.0016 - val_acc: 0.9983\n",
      "Epoch 31/400\n",
      "289/289 [==============================] - 187s 649ms/step - loss: 0.0017 - acc: 0.9955 - val_loss: 0.0013 - val_acc: 0.9983\n",
      "Epoch 32/400\n",
      "289/289 [==============================] - 189s 654ms/step - loss: 0.0017 - acc: 0.9955 - val_loss: 0.0013 - val_acc: 0.9983\n",
      "Epoch 33/400\n",
      "289/289 [==============================] - 189s 654ms/step - loss: 0.0016 - acc: 0.9955 - val_loss: 0.0015 - val_acc: 0.9983\n",
      "Epoch 34/400\n",
      "289/289 [==============================] - 187s 648ms/step - loss: 0.0016 - acc: 0.9955 - val_loss: 0.0012 - val_acc: 0.9983\n",
      "Epoch 35/400\n",
      "289/289 [==============================] - 188s 651ms/step - loss: 0.0016 - acc: 0.9955 - val_loss: 0.0013 - val_acc: 0.9983\n",
      "Epoch 36/400\n",
      "289/289 [==============================] - 187s 646ms/step - loss: 0.0016 - acc: 0.9955 - val_loss: 0.0012 - val_acc: 0.9983\n",
      "Epoch 37/400\n",
      "289/289 [==============================] - ETA: 0s - loss: 0.0016 - acc: 0.9955"
     ]
    },
    {
     "name": "stderr",
     "output_type": "stream",
     "text": [
      "WARNING:absl:Found untraced functions such as _jit_compiled_convolution_op, _jit_compiled_convolution_op, _jit_compiled_convolution_op, _jit_compiled_convolution_op, _jit_compiled_convolution_op while saving (showing 5 of 761). These functions will not be directly callable after loading.\n"
     ]
    },
    {
     "name": "stdout",
     "output_type": "stream",
     "text": [
      "289/289 [==============================] - 236s 816ms/step - loss: 0.0016 - acc: 0.9955 - val_loss: 0.0011 - val_acc: 0.9983\n",
      "Epoch 38/400\n",
      "289/289 [==============================] - 186s 645ms/step - loss: 0.0016 - acc: 0.9955 - val_loss: 0.0013 - val_acc: 0.9983\n",
      "Epoch 39/400\n",
      "289/289 [==============================] - 185s 641ms/step - loss: 0.0016 - acc: 0.9955 - val_loss: 0.0012 - val_acc: 0.9983\n",
      "Epoch 40/400\n",
      "289/289 [==============================] - 188s 649ms/step - loss: 0.0016 - acc: 0.9955 - val_loss: 0.0012 - val_acc: 0.9983\n",
      "Epoch 41/400\n",
      "289/289 [==============================] - 187s 647ms/step - loss: 0.0016 - acc: 0.9955 - val_loss: 0.0012 - val_acc: 0.9983\n",
      "Epoch 42/400\n",
      "289/289 [==============================] - 187s 647ms/step - loss: 0.0016 - acc: 0.9955 - val_loss: 0.0012 - val_acc: 0.9983\n",
      "Epoch 43/400\n",
      "289/289 [==============================] - ETA: 0s - loss: 0.0016 - acc: 0.9955"
     ]
    },
    {
     "name": "stderr",
     "output_type": "stream",
     "text": [
      "WARNING:absl:Found untraced functions such as _jit_compiled_convolution_op, _jit_compiled_convolution_op, _jit_compiled_convolution_op, _jit_compiled_convolution_op, _jit_compiled_convolution_op while saving (showing 5 of 761). These functions will not be directly callable after loading.\n"
     ]
    },
    {
     "name": "stdout",
     "output_type": "stream",
     "text": [
      "289/289 [==============================] - 237s 822ms/step - loss: 0.0016 - acc: 0.9955 - val_loss: 0.0011 - val_acc: 0.9983\n",
      "Epoch 44/400\n",
      "289/289 [==============================] - ETA: 0s - loss: 0.0016 - acc: 0.9955"
     ]
    },
    {
     "name": "stderr",
     "output_type": "stream",
     "text": [
      "WARNING:absl:Found untraced functions such as _jit_compiled_convolution_op, _jit_compiled_convolution_op, _jit_compiled_convolution_op, _jit_compiled_convolution_op, _jit_compiled_convolution_op while saving (showing 5 of 761). These functions will not be directly callable after loading.\n"
     ]
    },
    {
     "name": "stdout",
     "output_type": "stream",
     "text": [
      "289/289 [==============================] - 240s 832ms/step - loss: 0.0016 - acc: 0.9955 - val_loss: 0.0011 - val_acc: 0.9983\n",
      "Epoch 45/400\n",
      "289/289 [==============================] - 188s 650ms/step - loss: 0.0016 - acc: 0.9955 - val_loss: 0.0011 - val_acc: 0.9983\n",
      "Epoch 46/400\n",
      "289/289 [==============================] - ETA: 0s - loss: 0.0016 - acc: 0.9955"
     ]
    },
    {
     "name": "stderr",
     "output_type": "stream",
     "text": [
      "WARNING:absl:Found untraced functions such as _jit_compiled_convolution_op, _jit_compiled_convolution_op, _jit_compiled_convolution_op, _jit_compiled_convolution_op, _jit_compiled_convolution_op while saving (showing 5 of 761). These functions will not be directly callable after loading.\n"
     ]
    },
    {
     "name": "stdout",
     "output_type": "stream",
     "text": [
      "289/289 [==============================] - 241s 833ms/step - loss: 0.0016 - acc: 0.9955 - val_loss: 0.0011 - val_acc: 0.9983\n",
      "Epoch 47/400\n",
      "289/289 [==============================] - 189s 652ms/step - loss: 0.0015 - acc: 0.9955 - val_loss: 0.0011 - val_acc: 0.9983\n",
      "Epoch 48/400\n",
      "289/289 [==============================] - 188s 650ms/step - loss: 0.0015 - acc: 0.9955 - val_loss: 0.0011 - val_acc: 0.9983\n",
      "Epoch 49/400\n",
      "289/289 [==============================] - 188s 650ms/step - loss: 0.0015 - acc: 0.9955 - val_loss: 0.0011 - val_acc: 0.9983\n",
      "Epoch 50/400\n",
      "289/289 [==============================] - 187s 646ms/step - loss: 0.0015 - acc: 0.9955 - val_loss: 0.0011 - val_acc: 0.9983\n",
      "Epoch 51/400\n",
      "289/289 [==============================] - 189s 654ms/step - loss: 0.0015 - acc: 0.9955 - val_loss: 0.0011 - val_acc: 0.9983\n",
      "Epoch 52/400\n",
      "289/289 [==============================] - ETA: 0s - loss: 0.0015 - acc: 0.9955"
     ]
    },
    {
     "name": "stderr",
     "output_type": "stream",
     "text": [
      "WARNING:absl:Found untraced functions such as _jit_compiled_convolution_op, _jit_compiled_convolution_op, _jit_compiled_convolution_op, _jit_compiled_convolution_op, _jit_compiled_convolution_op while saving (showing 5 of 761). These functions will not be directly callable after loading.\n"
     ]
    },
    {
     "name": "stdout",
     "output_type": "stream",
     "text": [
      "289/289 [==============================] - 242s 837ms/step - loss: 0.0015 - acc: 0.9955 - val_loss: 0.0011 - val_acc: 0.9983\n",
      "Epoch 53/400\n",
      "289/289 [==============================] - 189s 653ms/step - loss: 0.0015 - acc: 0.9955 - val_loss: 0.0011 - val_acc: 0.9983\n",
      "Epoch 54/400\n",
      "289/289 [==============================] - 188s 652ms/step - loss: 0.0015 - acc: 0.9955 - val_loss: 0.0011 - val_acc: 0.9983\n",
      "Epoch 55/400\n",
      "289/289 [==============================] - 186s 645ms/step - loss: 0.0015 - acc: 0.9955 - val_loss: 0.0011 - val_acc: 0.9983\n",
      "Epoch 56/400\n",
      "289/289 [==============================] - ETA: 0s - loss: 0.0015 - acc: 0.9955"
     ]
    },
    {
     "name": "stderr",
     "output_type": "stream",
     "text": [
      "WARNING:absl:Found untraced functions such as _jit_compiled_convolution_op, _jit_compiled_convolution_op, _jit_compiled_convolution_op, _jit_compiled_convolution_op, _jit_compiled_convolution_op while saving (showing 5 of 761). These functions will not be directly callable after loading.\n"
     ]
    },
    {
     "name": "stdout",
     "output_type": "stream",
     "text": [
      "289/289 [==============================] - 236s 816ms/step - loss: 0.0015 - acc: 0.9955 - val_loss: 0.0011 - val_acc: 0.9983\n",
      "Epoch 57/400\n",
      "289/289 [==============================] - 188s 651ms/step - loss: 0.0015 - acc: 0.9955 - val_loss: 0.0011 - val_acc: 0.9983\n",
      "Epoch 58/400\n",
      "289/289 [==============================] - 190s 657ms/step - loss: 0.0015 - acc: 0.9955 - val_loss: 0.0011 - val_acc: 0.9983\n",
      "Epoch 59/400\n",
      "289/289 [==============================] - 186s 643ms/step - loss: 0.0015 - acc: 0.9955 - val_loss: 0.0011 - val_acc: 0.9983\n",
      "Epoch 60/400\n",
      "289/289 [==============================] - 189s 654ms/step - loss: 0.0015 - acc: 0.9955 - val_loss: 0.0011 - val_acc: 0.9983\n",
      "Epoch 61/400\n",
      "289/289 [==============================] - 188s 650ms/step - loss: 0.0015 - acc: 0.9955 - val_loss: 0.0011 - val_acc: 0.9983\n",
      "Epoch 62/400\n",
      "289/289 [==============================] - 190s 658ms/step - loss: 0.0015 - acc: 0.9955 - val_loss: 0.0011 - val_acc: 0.9983\n",
      "Epoch 63/400\n",
      "289/289 [==============================] - ETA: 0s - loss: 0.0015 - acc: 0.9955"
     ]
    },
    {
     "name": "stderr",
     "output_type": "stream",
     "text": [
      "WARNING:absl:Found untraced functions such as _jit_compiled_convolution_op, _jit_compiled_convolution_op, _jit_compiled_convolution_op, _jit_compiled_convolution_op, _jit_compiled_convolution_op while saving (showing 5 of 761). These functions will not be directly callable after loading.\n"
     ]
    },
    {
     "name": "stdout",
     "output_type": "stream",
     "text": [
      "289/289 [==============================] - 238s 823ms/step - loss: 0.0015 - acc: 0.9955 - val_loss: 0.0011 - val_acc: 0.9983\n",
      "Epoch 64/400\n",
      "289/289 [==============================] - 188s 650ms/step - loss: 0.0015 - acc: 0.9955 - val_loss: 0.0011 - val_acc: 0.9983\n",
      "Epoch 65/400\n",
      "289/289 [==============================] - 186s 645ms/step - loss: 0.0015 - acc: 0.9955 - val_loss: 0.0011 - val_acc: 0.9983\n",
      "Epoch 66/400\n",
      "289/289 [==============================] - 187s 649ms/step - loss: 0.0015 - acc: 0.9955 - val_loss: 0.0011 - val_acc: 0.9983\n",
      "Epoch 67/400\n",
      "289/289 [==============================] - 188s 649ms/step - loss: 0.0015 - acc: 0.9955 - val_loss: 0.0011 - val_acc: 0.9983\n",
      "Epoch 68/400\n",
      "289/289 [==============================] - 187s 648ms/step - loss: 0.0015 - acc: 0.9955 - val_loss: 0.0011 - val_acc: 0.9983\n",
      "Epoch 69/400\n",
      "289/289 [==============================] - ETA: 0s - loss: 0.0015 - acc: 0.9955"
     ]
    },
    {
     "name": "stderr",
     "output_type": "stream",
     "text": [
      "WARNING:absl:Found untraced functions such as _jit_compiled_convolution_op, _jit_compiled_convolution_op, _jit_compiled_convolution_op, _jit_compiled_convolution_op, _jit_compiled_convolution_op while saving (showing 5 of 761). These functions will not be directly callable after loading.\n"
     ]
    },
    {
     "name": "stdout",
     "output_type": "stream",
     "text": [
      "289/289 [==============================] - 240s 830ms/step - loss: 0.0015 - acc: 0.9955 - val_loss: 0.0011 - val_acc: 0.9983\n",
      "Epoch 70/400\n",
      "289/289 [==============================] - 190s 658ms/step - loss: 0.0015 - acc: 0.9955 - val_loss: 0.0011 - val_acc: 0.9983\n",
      "Epoch 71/400\n",
      "289/289 [==============================] - 188s 650ms/step - loss: 0.0015 - acc: 0.9955 - val_loss: 0.0011 - val_acc: 0.9983\n",
      "Epoch 72/400\n",
      "289/289 [==============================] - 188s 650ms/step - loss: 0.0015 - acc: 0.9955 - val_loss: 0.0011 - val_acc: 0.9983\n",
      "Epoch 73/400\n",
      "289/289 [==============================] - 188s 650ms/step - loss: 0.0015 - acc: 0.9955 - val_loss: 0.0012 - val_acc: 0.9983\n",
      "Epoch 74/400\n",
      "289/289 [==============================] - 186s 642ms/step - loss: 0.0015 - acc: 0.9955 - val_loss: 0.0011 - val_acc: 0.9983\n",
      "Epoch 75/400\n",
      "289/289 [==============================] - 184s 638ms/step - loss: 0.0015 - acc: 0.9955 - val_loss: 0.0011 - val_acc: 0.9983\n",
      "Epoch 76/400\n",
      "289/289 [==============================] - 187s 648ms/step - loss: 0.0015 - acc: 0.9955 - val_loss: 0.0012 - val_acc: 0.9983\n",
      "Epoch 77/400\n",
      "289/289 [==============================] - 189s 655ms/step - loss: 0.0015 - acc: 0.9955 - val_loss: 0.0011 - val_acc: 0.9983\n",
      "Epoch 78/400\n",
      "289/289 [==============================] - 188s 649ms/step - loss: 0.0015 - acc: 0.9955 - val_loss: 0.0011 - val_acc: 0.9983\n",
      "Epoch 79/400\n",
      "289/289 [==============================] - 192s 663ms/step - loss: 0.0015 - acc: 0.9955 - val_loss: 0.0011 - val_acc: 0.9983\n",
      "Epoch 80/400\n",
      "289/289 [==============================] - 188s 650ms/step - loss: 0.0014 - acc: 0.9955 - val_loss: 0.0012 - val_acc: 0.9983\n",
      "Epoch 81/400\n",
      "289/289 [==============================] - 186s 643ms/step - loss: 0.0015 - acc: 0.9955 - val_loss: 0.0011 - val_acc: 0.9983\n",
      "Epoch 82/400\n",
      "289/289 [==============================] - 186s 643ms/step - loss: 0.0014 - acc: 0.9955 - val_loss: 0.0013 - val_acc: 0.9983\n",
      "Epoch 83/400\n",
      "289/289 [==============================] - 186s 645ms/step - loss: 0.0014 - acc: 0.9955 - val_loss: 0.0012 - val_acc: 0.9983\n",
      "Epoch 84/400\n",
      "289/289 [==============================] - 186s 645ms/step - loss: 0.0014 - acc: 0.9955 - val_loss: 0.0012 - val_acc: 0.9983\n",
      "Epoch 85/400\n",
      "289/289 [==============================] - 185s 640ms/step - loss: 0.0014 - acc: 0.9955 - val_loss: 0.0012 - val_acc: 0.9983\n",
      "Epoch 86/400\n",
      "289/289 [==============================] - 186s 642ms/step - loss: 0.0014 - acc: 0.9955 - val_loss: 0.0012 - val_acc: 0.9983\n",
      "Epoch 87/400\n",
      "289/289 [==============================] - 187s 647ms/step - loss: 0.0014 - acc: 0.9955 - val_loss: 0.0013 - val_acc: 0.9983\n",
      "Epoch 88/400\n",
      "289/289 [==============================] - 186s 643ms/step - loss: 0.0014 - acc: 0.9955 - val_loss: 0.0013 - val_acc: 0.9983\n",
      "Epoch 89/400\n",
      "289/289 [==============================] - 186s 642ms/step - loss: 0.0014 - acc: 0.9956 - val_loss: 0.0013 - val_acc: 0.9983\n",
      "Epoch 90/400\n",
      "289/289 [==============================] - 186s 642ms/step - loss: 0.0014 - acc: 0.9955 - val_loss: 0.0012 - val_acc: 0.9983\n",
      "Epoch 91/400\n",
      "289/289 [==============================] - 185s 639ms/step - loss: 0.0014 - acc: 0.9955 - val_loss: 0.0013 - val_acc: 0.9983\n",
      "Epoch 92/400\n",
      "289/289 [==============================] - 187s 645ms/step - loss: 0.0014 - acc: 0.9955 - val_loss: 0.0013 - val_acc: 0.9983\n",
      "Epoch 93/400\n",
      "289/289 [==============================] - 185s 639ms/step - loss: 0.0014 - acc: 0.9956 - val_loss: 0.0013 - val_acc: 0.9983\n",
      "Epoch 94/400\n",
      "289/289 [==============================] - 183s 632ms/step - loss: 0.0014 - acc: 0.9955 - val_loss: 0.0013 - val_acc: 0.9983\n",
      "Epoch 95/400\n",
      "289/289 [==============================] - 185s 642ms/step - loss: 0.0014 - acc: 0.9956 - val_loss: 0.0013 - val_acc: 0.9983\n",
      "Epoch 96/400\n",
      "289/289 [==============================] - 185s 640ms/step - loss: 0.0014 - acc: 0.9956 - val_loss: 0.0013 - val_acc: 0.9983\n",
      "Epoch 97/400\n",
      "289/289 [==============================] - 185s 639ms/step - loss: 0.0014 - acc: 0.9956 - val_loss: 0.0013 - val_acc: 0.9983\n",
      "Epoch 98/400\n",
      "289/289 [==============================] - 187s 647ms/step - loss: 0.0014 - acc: 0.9956 - val_loss: 0.0013 - val_acc: 0.9983\n",
      "Epoch 99/400\n",
      "289/289 [==============================] - 185s 641ms/step - loss: 0.0014 - acc: 0.9956 - val_loss: 0.0013 - val_acc: 0.9983\n",
      "Epoch 100/400\n",
      "289/289 [==============================] - 185s 639ms/step - loss: 0.0014 - acc: 0.9956 - val_loss: 0.0013 - val_acc: 0.9983\n",
      "Epoch 101/400\n",
      "289/289 [==============================] - 187s 648ms/step - loss: 0.0014 - acc: 0.9956 - val_loss: 0.0013 - val_acc: 0.9983\n",
      "Epoch 102/400\n",
      "289/289 [==============================] - 188s 651ms/step - loss: 0.0014 - acc: 0.9956 - val_loss: 0.0013 - val_acc: 0.9983\n",
      "Epoch 103/400\n",
      "289/289 [==============================] - 187s 649ms/step - loss: 0.0014 - acc: 0.9956 - val_loss: 0.0014 - val_acc: 0.9983\n",
      "Epoch 104/400\n",
      "289/289 [==============================] - 187s 647ms/step - loss: 0.0014 - acc: 0.9956 - val_loss: 0.0013 - val_acc: 0.9983\n",
      "Epoch 105/400\n",
      "289/289 [==============================] - 186s 645ms/step - loss: 0.0014 - acc: 0.9956 - val_loss: 0.0013 - val_acc: 0.9983\n",
      "Epoch 106/400\n",
      "289/289 [==============================] - 188s 650ms/step - loss: 0.0014 - acc: 0.9956 - val_loss: 0.0013 - val_acc: 0.9983\n",
      "Epoch 107/400\n",
      "289/289 [==============================] - 187s 647ms/step - loss: 0.0014 - acc: 0.9956 - val_loss: 0.0013 - val_acc: 0.9983\n",
      "Epoch 108/400\n",
      "289/289 [==============================] - 186s 644ms/step - loss: 0.0014 - acc: 0.9956 - val_loss: 0.0013 - val_acc: 0.9983\n",
      "Epoch 109/400\n",
      "289/289 [==============================] - 186s 644ms/step - loss: 0.0014 - acc: 0.9956 - val_loss: 0.0013 - val_acc: 0.9983\n",
      "Epoch 110/400\n",
      "289/289 [==============================] - 184s 637ms/step - loss: 0.0014 - acc: 0.9956 - val_loss: 0.0013 - val_acc: 0.9983\n",
      "Epoch 111/400\n",
      "289/289 [==============================] - 185s 640ms/step - loss: 0.0014 - acc: 0.9956 - val_loss: 0.0013 - val_acc: 0.9983\n",
      "Epoch 112/400\n",
      "289/289 [==============================] - 184s 638ms/step - loss: 0.0014 - acc: 0.9956 - val_loss: 0.0013 - val_acc: 0.9983\n",
      "Epoch 113/400\n",
      "289/289 [==============================] - 186s 644ms/step - loss: 0.0014 - acc: 0.9956 - val_loss: 0.0013 - val_acc: 0.9983\n",
      "Epoch 114/400\n",
      "289/289 [==============================] - 187s 647ms/step - loss: 0.0014 - acc: 0.9956 - val_loss: 0.0014 - val_acc: 0.9983\n",
      "Epoch 115/400\n",
      "289/289 [==============================] - 186s 643ms/step - loss: 0.0014 - acc: 0.9956 - val_loss: 0.0013 - val_acc: 0.9983\n",
      "Epoch 116/400\n",
      "289/289 [==============================] - 183s 633ms/step - loss: 0.0014 - acc: 0.9956 - val_loss: 0.0013 - val_acc: 0.9983\n",
      "Epoch 117/400\n",
      "289/289 [==============================] - 186s 644ms/step - loss: 0.0014 - acc: 0.9956 - val_loss: 0.0013 - val_acc: 0.9983\n",
      "Epoch 118/400\n",
      "289/289 [==============================] - 186s 644ms/step - loss: 0.0014 - acc: 0.9956 - val_loss: 0.0013 - val_acc: 0.9983\n",
      "Epoch 119/400\n",
      "289/289 [==============================] - 187s 648ms/step - loss: 0.0014 - acc: 0.9956 - val_loss: 0.0013 - val_acc: 0.9983\n",
      "Epoch 120/400\n",
      "289/289 [==============================] - 188s 650ms/step - loss: 0.0014 - acc: 0.9956 - val_loss: 0.0013 - val_acc: 0.9983\n",
      "Epoch 121/400\n",
      "289/289 [==============================] - 188s 650ms/step - loss: 0.0014 - acc: 0.9956 - val_loss: 0.0013 - val_acc: 0.9983\n",
      "Epoch 122/400\n",
      "289/289 [==============================] - 188s 650ms/step - loss: 0.0014 - acc: 0.9956 - val_loss: 0.0013 - val_acc: 0.9983\n",
      "Epoch 123/400\n",
      "289/289 [==============================] - 187s 647ms/step - loss: 0.0014 - acc: 0.9956 - val_loss: 0.0014 - val_acc: 0.9983\n",
      "Epoch 124/400\n",
      "289/289 [==============================] - 188s 650ms/step - loss: 0.0014 - acc: 0.9956 - val_loss: 0.0013 - val_acc: 0.9983\n",
      "Epoch 125/400\n",
      "289/289 [==============================] - 188s 650ms/step - loss: 0.0014 - acc: 0.9956 - val_loss: 0.0013 - val_acc: 0.9983\n",
      "Epoch 126/400\n",
      "289/289 [==============================] - 187s 646ms/step - loss: 0.0014 - acc: 0.9956 - val_loss: 0.0013 - val_acc: 0.9983\n",
      "Epoch 127/400\n",
      "289/289 [==============================] - 187s 648ms/step - loss: 0.0014 - acc: 0.9956 - val_loss: 0.0013 - val_acc: 0.9983\n",
      "Epoch 128/400\n",
      "289/289 [==============================] - 189s 653ms/step - loss: 0.0014 - acc: 0.9956 - val_loss: 0.0013 - val_acc: 0.9983\n",
      "Epoch 129/400\n",
      "289/289 [==============================] - 188s 652ms/step - loss: 0.0014 - acc: 0.9956 - val_loss: 0.0013 - val_acc: 0.9983\n",
      "Epoch 130/400\n",
      "289/289 [==============================] - 187s 647ms/step - loss: 0.0014 - acc: 0.9956 - val_loss: 0.0013 - val_acc: 0.9983\n",
      "Epoch 131/400\n",
      "289/289 [==============================] - 188s 649ms/step - loss: 0.0014 - acc: 0.9956 - val_loss: 0.0013 - val_acc: 0.9983\n",
      "Epoch 132/400\n",
      "289/289 [==============================] - 190s 659ms/step - loss: 0.0014 - acc: 0.9956 - val_loss: 0.0014 - val_acc: 0.9983\n",
      "Epoch 133/400\n",
      "289/289 [==============================] - 189s 655ms/step - loss: 0.0014 - acc: 0.9956 - val_loss: 0.0014 - val_acc: 0.9983\n",
      "Epoch 134/400\n",
      "289/289 [==============================] - 197s 679ms/step - loss: 0.0014 - acc: 0.9956 - val_loss: 0.0013 - val_acc: 0.9983\n",
      "Epoch 135/400\n",
      "289/289 [==============================] - 188s 652ms/step - loss: 0.0014 - acc: 0.9956 - val_loss: 0.0013 - val_acc: 0.9983\n",
      "Epoch 136/400\n",
      "289/289 [==============================] - 190s 656ms/step - loss: 0.0013 - acc: 0.9956 - val_loss: 0.0013 - val_acc: 0.9983\n",
      "Epoch 137/400\n",
      "289/289 [==============================] - 188s 651ms/step - loss: 0.0013 - acc: 0.9956 - val_loss: 0.0013 - val_acc: 0.9983\n",
      "Epoch 138/400\n",
      "289/289 [==============================] - 187s 648ms/step - loss: 0.0013 - acc: 0.9956 - val_loss: 0.0013 - val_acc: 0.9983\n",
      "Epoch 139/400\n",
      "289/289 [==============================] - 189s 655ms/step - loss: 0.0013 - acc: 0.9956 - val_loss: 0.0013 - val_acc: 0.9983\n",
      "Epoch 140/400\n",
      "289/289 [==============================] - 190s 657ms/step - loss: 0.0013 - acc: 0.9956 - val_loss: 0.0013 - val_acc: 0.9983\n",
      "Epoch 141/400\n",
      "289/289 [==============================] - 187s 648ms/step - loss: 0.0013 - acc: 0.9956 - val_loss: 0.0013 - val_acc: 0.9983\n",
      "Epoch 142/400\n",
      "289/289 [==============================] - 188s 650ms/step - loss: 0.0013 - acc: 0.9956 - val_loss: 0.0013 - val_acc: 0.9983\n",
      "Epoch 143/400\n",
      "289/289 [==============================] - 194s 671ms/step - loss: 0.0013 - acc: 0.9956 - val_loss: 0.0013 - val_acc: 0.9983\n",
      "Epoch 144/400\n",
      "289/289 [==============================] - 187s 649ms/step - loss: 0.0013 - acc: 0.9956 - val_loss: 0.0013 - val_acc: 0.9983\n",
      "Epoch 145/400\n",
      "289/289 [==============================] - 190s 658ms/step - loss: 0.0013 - acc: 0.9956 - val_loss: 0.0013 - val_acc: 0.9983\n",
      "Epoch 146/400\n",
      "289/289 [==============================] - 187s 648ms/step - loss: 0.0013 - acc: 0.9956 - val_loss: 0.0013 - val_acc: 0.9983\n",
      "Epoch 147/400\n",
      "289/289 [==============================] - 186s 645ms/step - loss: 0.0013 - acc: 0.9956 - val_loss: 0.0013 - val_acc: 0.9983\n",
      "Epoch 148/400\n",
      "289/289 [==============================] - 187s 647ms/step - loss: 0.0013 - acc: 0.9956 - val_loss: 0.0013 - val_acc: 0.9983\n",
      "Epoch 149/400\n",
      "289/289 [==============================] - 189s 655ms/step - loss: 0.0013 - acc: 0.9956 - val_loss: 0.0013 - val_acc: 0.9983\n",
      "Epoch 150/400\n",
      "289/289 [==============================] - 190s 657ms/step - loss: 0.0013 - acc: 0.9956 - val_loss: 0.0013 - val_acc: 0.9983\n",
      "Epoch 151/400\n",
      "289/289 [==============================] - 188s 651ms/step - loss: 0.0013 - acc: 0.9956 - val_loss: 0.0014 - val_acc: 0.9983\n",
      "Epoch 152/400\n",
      "289/289 [==============================] - 191s 662ms/step - loss: 0.0013 - acc: 0.9956 - val_loss: 0.0014 - val_acc: 0.9983\n",
      "Epoch 153/400\n",
      "289/289 [==============================] - 189s 653ms/step - loss: 0.0013 - acc: 0.9956 - val_loss: 0.0014 - val_acc: 0.9983\n",
      "Epoch 154/400\n",
      "289/289 [==============================] - 191s 660ms/step - loss: 0.0013 - acc: 0.9956 - val_loss: 0.0013 - val_acc: 0.9983\n",
      "Epoch 155/400\n",
      "289/289 [==============================] - 187s 647ms/step - loss: 0.0013 - acc: 0.9956 - val_loss: 0.0013 - val_acc: 0.9983\n",
      "Epoch 156/400\n",
      "289/289 [==============================] - 188s 649ms/step - loss: 0.0013 - acc: 0.9956 - val_loss: 0.0014 - val_acc: 0.9983\n",
      "Epoch 157/400\n",
      "289/289 [==============================] - 187s 647ms/step - loss: 0.0013 - acc: 0.9956 - val_loss: 0.0013 - val_acc: 0.9983\n",
      "Epoch 158/400\n",
      "289/289 [==============================] - 188s 650ms/step - loss: 0.0013 - acc: 0.9956 - val_loss: 0.0013 - val_acc: 0.9983\n",
      "Epoch 159/400\n",
      "289/289 [==============================] - 190s 656ms/step - loss: 0.0013 - acc: 0.9957 - val_loss: 0.0013 - val_acc: 0.9983\n",
      "Epoch 160/400\n",
      "289/289 [==============================] - 188s 650ms/step - loss: 0.0013 - acc: 0.9956 - val_loss: 0.0013 - val_acc: 0.9983\n",
      "Epoch 161/400\n",
      "289/289 [==============================] - 189s 653ms/step - loss: 0.0013 - acc: 0.9956 - val_loss: 0.0013 - val_acc: 0.9983\n",
      "Epoch 162/400\n",
      "289/289 [==============================] - 189s 653ms/step - loss: 0.0013 - acc: 0.9957 - val_loss: 0.0013 - val_acc: 0.9983\n",
      "Epoch 163/400\n",
      "289/289 [==============================] - 190s 658ms/step - loss: 0.0013 - acc: 0.9956 - val_loss: 0.0013 - val_acc: 0.9983\n",
      "Epoch 164/400\n",
      "289/289 [==============================] - 194s 671ms/step - loss: 0.0013 - acc: 0.9957 - val_loss: 0.0013 - val_acc: 0.9983\n",
      "Epoch 165/400\n",
      "289/289 [==============================] - 189s 655ms/step - loss: 0.0013 - acc: 0.9956 - val_loss: 0.0014 - val_acc: 0.9983\n",
      "Epoch 166/400\n",
      "289/289 [==============================] - 187s 645ms/step - loss: 0.0013 - acc: 0.9957 - val_loss: 0.0013 - val_acc: 0.9983\n",
      "Epoch 167/400\n",
      "289/289 [==============================] - 187s 648ms/step - loss: 0.0013 - acc: 0.9957 - val_loss: 0.0013 - val_acc: 0.9983\n",
      "Epoch 168/400\n",
      "289/289 [==============================] - 187s 646ms/step - loss: 0.0013 - acc: 0.9957 - val_loss: 0.0013 - val_acc: 0.9983\n",
      "Epoch 169/400\n",
      "289/289 [==============================] - 187s 645ms/step - loss: 0.0013 - acc: 0.9956 - val_loss: 0.0014 - val_acc: 0.9983\n",
      "Epoch 170/400\n",
      "289/289 [==============================] - 186s 642ms/step - loss: 0.0013 - acc: 0.9957 - val_loss: 0.0013 - val_acc: 0.9983\n",
      "Epoch 171/400\n",
      "289/289 [==============================] - 188s 650ms/step - loss: 0.0013 - acc: 0.9957 - val_loss: 0.0013 - val_acc: 0.9983\n",
      "Epoch 172/400\n",
      "289/289 [==============================] - 188s 650ms/step - loss: 0.0013 - acc: 0.9957 - val_loss: 0.0013 - val_acc: 0.9983\n",
      "Epoch 173/400\n",
      "289/289 [==============================] - 188s 650ms/step - loss: 0.0013 - acc: 0.9957 - val_loss: 0.0013 - val_acc: 0.9983\n",
      "Epoch 174/400\n",
      "289/289 [==============================] - 187s 646ms/step - loss: 0.0013 - acc: 0.9957 - val_loss: 0.0013 - val_acc: 0.9983\n",
      "Epoch 175/400\n",
      "289/289 [==============================] - 185s 640ms/step - loss: 0.0013 - acc: 0.9957 - val_loss: 0.0013 - val_acc: 0.9983\n",
      "Epoch 176/400\n",
      "289/289 [==============================] - 187s 646ms/step - loss: 0.0013 - acc: 0.9957 - val_loss: 0.0013 - val_acc: 0.9983\n",
      "Epoch 177/400\n",
      "289/289 [==============================] - 187s 649ms/step - loss: 0.0013 - acc: 0.9957 - val_loss: 0.0013 - val_acc: 0.9983\n",
      "Epoch 178/400\n",
      "289/289 [==============================] - 185s 640ms/step - loss: 0.0013 - acc: 0.9957 - val_loss: 0.0013 - val_acc: 0.9983\n",
      "Epoch 179/400\n",
      "289/289 [==============================] - 186s 645ms/step - loss: 0.0013 - acc: 0.9957 - val_loss: 0.0012 - val_acc: 0.9983\n",
      "Epoch 180/400\n",
      "289/289 [==============================] - 186s 644ms/step - loss: 0.0013 - acc: 0.9957 - val_loss: 0.0013 - val_acc: 0.9983\n",
      "Epoch 181/400\n",
      "289/289 [==============================] - 186s 644ms/step - loss: 0.0013 - acc: 0.9957 - val_loss: 0.0013 - val_acc: 0.9983\n",
      "Epoch 182/400\n",
      "289/289 [==============================] - 185s 641ms/step - loss: 0.0013 - acc: 0.9957 - val_loss: 0.0012 - val_acc: 0.9983\n",
      "Epoch 183/400\n",
      "289/289 [==============================] - 188s 649ms/step - loss: 0.0013 - acc: 0.9957 - val_loss: 0.0013 - val_acc: 0.9983\n",
      "Epoch 184/400\n",
      "289/289 [==============================] - 186s 642ms/step - loss: 0.0013 - acc: 0.9957 - val_loss: 0.0013 - val_acc: 0.9983\n",
      "Epoch 185/400\n",
      "289/289 [==============================] - 187s 649ms/step - loss: 0.0013 - acc: 0.9957 - val_loss: 0.0013 - val_acc: 0.9983\n",
      "Epoch 186/400\n",
      "289/289 [==============================] - 185s 641ms/step - loss: 0.0013 - acc: 0.9957 - val_loss: 0.0013 - val_acc: 0.9983\n",
      "Epoch 187/400\n",
      "289/289 [==============================] - 185s 641ms/step - loss: 0.0013 - acc: 0.9957 - val_loss: 0.0013 - val_acc: 0.9983\n",
      "Epoch 188/400\n",
      "289/289 [==============================] - 187s 648ms/step - loss: 0.0013 - acc: 0.9957 - val_loss: 0.0013 - val_acc: 0.9983\n",
      "Epoch 189/400\n",
      "289/289 [==============================] - 187s 648ms/step - loss: 0.0013 - acc: 0.9957 - val_loss: 0.0013 - val_acc: 0.9983\n",
      "Epoch 190/400\n",
      "289/289 [==============================] - 186s 644ms/step - loss: 0.0013 - acc: 0.9957 - val_loss: 0.0014 - val_acc: 0.9983\n",
      "Epoch 191/400\n",
      "289/289 [==============================] - 189s 653ms/step - loss: 0.0013 - acc: 0.9957 - val_loss: 0.0013 - val_acc: 0.9983\n",
      "Epoch 192/400\n",
      "289/289 [==============================] - 188s 649ms/step - loss: 0.0013 - acc: 0.9957 - val_loss: 0.0013 - val_acc: 0.9983\n",
      "Epoch 193/400\n",
      "289/289 [==============================] - 188s 650ms/step - loss: 0.0013 - acc: 0.9957 - val_loss: 0.0013 - val_acc: 0.9983\n",
      "Epoch 194/400\n",
      "289/289 [==============================] - 187s 649ms/step - loss: 0.0013 - acc: 0.9957 - val_loss: 0.0013 - val_acc: 0.9983\n",
      "Epoch 195/400\n",
      "289/289 [==============================] - 186s 644ms/step - loss: 0.0013 - acc: 0.9957 - val_loss: 0.0013 - val_acc: 0.9983\n",
      "Epoch 196/400\n",
      "289/289 [==============================] - 186s 645ms/step - loss: 0.0013 - acc: 0.9957 - val_loss: 0.0012 - val_acc: 0.9983\n",
      "Epoch 197/400\n",
      "289/289 [==============================] - 187s 646ms/step - loss: 0.0013 - acc: 0.9957 - val_loss: 0.0013 - val_acc: 0.9983\n",
      "Epoch 198/400\n",
      "289/289 [==============================] - 185s 642ms/step - loss: 0.0013 - acc: 0.9957 - val_loss: 0.0013 - val_acc: 0.9983\n",
      "Epoch 199/400\n",
      "289/289 [==============================] - 186s 645ms/step - loss: 0.0013 - acc: 0.9957 - val_loss: 0.0013 - val_acc: 0.9983\n",
      "Epoch 200/400\n",
      "289/289 [==============================] - 186s 644ms/step - loss: 0.0013 - acc: 0.9957 - val_loss: 0.0012 - val_acc: 0.9983\n",
      "Epoch 201/400\n",
      "289/289 [==============================] - 186s 643ms/step - loss: 0.0013 - acc: 0.9957 - val_loss: 0.0013 - val_acc: 0.9983\n",
      "Epoch 202/400\n",
      "289/289 [==============================] - 186s 644ms/step - loss: 0.0013 - acc: 0.9957 - val_loss: 0.0013 - val_acc: 0.9983\n",
      "Epoch 203/400\n",
      "289/289 [==============================] - 188s 649ms/step - loss: 0.0013 - acc: 0.9957 - val_loss: 0.0013 - val_acc: 0.9983\n",
      "Epoch 204/400\n",
      "289/289 [==============================] - 186s 644ms/step - loss: 0.0013 - acc: 0.9957 - val_loss: 0.0013 - val_acc: 0.9983\n",
      "Epoch 205/400\n",
      "289/289 [==============================] - 186s 644ms/step - loss: 0.0013 - acc: 0.9957 - val_loss: 0.0013 - val_acc: 0.9983\n",
      "Epoch 206/400\n",
      "289/289 [==============================] - 187s 647ms/step - loss: 0.0012 - acc: 0.9957 - val_loss: 0.0013 - val_acc: 0.9983\n",
      "Epoch 207/400\n",
      "289/289 [==============================] - 186s 645ms/step - loss: 0.0013 - acc: 0.9957 - val_loss: 0.0013 - val_acc: 0.9983\n",
      "Epoch 208/400\n",
      "289/289 [==============================] - 186s 645ms/step - loss: 0.0012 - acc: 0.9957 - val_loss: 0.0013 - val_acc: 0.9983\n",
      "Epoch 209/400\n",
      "289/289 [==============================] - 186s 643ms/step - loss: 0.0012 - acc: 0.9957 - val_loss: 0.0013 - val_acc: 0.9983\n",
      "Epoch 210/400\n",
      "289/289 [==============================] - 187s 648ms/step - loss: 0.0012 - acc: 0.9957 - val_loss: 0.0013 - val_acc: 0.9983\n",
      "Epoch 211/400\n",
      "289/289 [==============================] - 188s 650ms/step - loss: 0.0012 - acc: 0.9957 - val_loss: 0.0013 - val_acc: 0.9983\n",
      "Epoch 212/400\n",
      "289/289 [==============================] - 187s 645ms/step - loss: 0.0012 - acc: 0.9957 - val_loss: 0.0012 - val_acc: 0.9983\n",
      "Epoch 213/400\n",
      "289/289 [==============================] - 186s 645ms/step - loss: 0.0012 - acc: 0.9957 - val_loss: 0.0013 - val_acc: 0.9983\n",
      "Epoch 214/400\n",
      "289/289 [==============================] - 192s 662ms/step - loss: 0.0012 - acc: 0.9957 - val_loss: 0.0012 - val_acc: 0.9983\n",
      "Epoch 215/400\n",
      "289/289 [==============================] - 191s 661ms/step - loss: 0.0012 - acc: 0.9957 - val_loss: 0.0013 - val_acc: 0.9983\n",
      "Epoch 216/400\n",
      "289/289 [==============================] - 190s 658ms/step - loss: 0.0012 - acc: 0.9957 - val_loss: 0.0013 - val_acc: 0.9983\n",
      "Epoch 217/400\n",
      "289/289 [==============================] - 190s 656ms/step - loss: 0.0012 - acc: 0.9957 - val_loss: 0.0012 - val_acc: 0.9983\n",
      "Epoch 218/400\n",
      "289/289 [==============================] - 189s 655ms/step - loss: 0.0012 - acc: 0.9957 - val_loss: 0.0012 - val_acc: 0.9983\n",
      "Epoch 219/400\n",
      "289/289 [==============================] - 187s 648ms/step - loss: 0.0012 - acc: 0.9957 - val_loss: 0.0013 - val_acc: 0.9983\n",
      "Epoch 220/400\n",
      "289/289 [==============================] - 187s 647ms/step - loss: 0.0012 - acc: 0.9958 - val_loss: 0.0012 - val_acc: 0.9983\n",
      "Epoch 221/400\n",
      "289/289 [==============================] - 188s 651ms/step - loss: 0.0012 - acc: 0.9957 - val_loss: 0.0012 - val_acc: 0.9983\n",
      "Epoch 222/400\n",
      "289/289 [==============================] - 188s 651ms/step - loss: 0.0012 - acc: 0.9957 - val_loss: 0.0012 - val_acc: 0.9983\n",
      "Epoch 223/400\n",
      "289/289 [==============================] - 188s 650ms/step - loss: 0.0012 - acc: 0.9957 - val_loss: 0.0012 - val_acc: 0.9983\n",
      "Epoch 224/400\n",
      "289/289 [==============================] - 188s 651ms/step - loss: 0.0012 - acc: 0.9957 - val_loss: 0.0012 - val_acc: 0.9983\n",
      "Epoch 225/400\n",
      "289/289 [==============================] - 191s 660ms/step - loss: 0.0012 - acc: 0.9958 - val_loss: 0.0012 - val_acc: 0.9983\n",
      "Epoch 226/400\n",
      "289/289 [==============================] - 187s 648ms/step - loss: 0.0012 - acc: 0.9957 - val_loss: 0.0012 - val_acc: 0.9983\n",
      "Epoch 227/400\n",
      "289/289 [==============================] - 190s 658ms/step - loss: 0.0012 - acc: 0.9958 - val_loss: 0.0013 - val_acc: 0.9983\n",
      "Epoch 228/400\n",
      "289/289 [==============================] - 187s 646ms/step - loss: 0.0012 - acc: 0.9957 - val_loss: 0.0012 - val_acc: 0.9983\n",
      "Epoch 229/400\n",
      "289/289 [==============================] - 186s 645ms/step - loss: 0.0012 - acc: 0.9957 - val_loss: 0.0013 - val_acc: 0.9983\n",
      "Epoch 230/400\n",
      "289/289 [==============================] - 189s 655ms/step - loss: 0.0012 - acc: 0.9958 - val_loss: 0.0011 - val_acc: 0.9983\n",
      "Epoch 231/400\n",
      "289/289 [==============================] - 189s 654ms/step - loss: 0.0012 - acc: 0.9958 - val_loss: 0.0012 - val_acc: 0.9983\n",
      "Epoch 232/400\n",
      "289/289 [==============================] - 188s 651ms/step - loss: 0.0012 - acc: 0.9957 - val_loss: 0.0012 - val_acc: 0.9983\n",
      "Epoch 233/400\n",
      "289/289 [==============================] - 189s 654ms/step - loss: 0.0012 - acc: 0.9958 - val_loss: 0.0012 - val_acc: 0.9983\n",
      "Epoch 234/400\n",
      "289/289 [==============================] - 187s 646ms/step - loss: 0.0012 - acc: 0.9957 - val_loss: 0.0012 - val_acc: 0.9983\n",
      "Epoch 235/400\n",
      "289/289 [==============================] - 188s 651ms/step - loss: 0.0012 - acc: 0.9958 - val_loss: 0.0012 - val_acc: 0.9983\n",
      "Epoch 236/400\n",
      "289/289 [==============================] - 185s 641ms/step - loss: 0.0012 - acc: 0.9958 - val_loss: 0.0012 - val_acc: 0.9983\n",
      "Epoch 237/400\n",
      "289/289 [==============================] - 186s 644ms/step - loss: 0.0012 - acc: 0.9958 - val_loss: 0.0012 - val_acc: 0.9983\n",
      "Epoch 238/400\n",
      "289/289 [==============================] - 186s 642ms/step - loss: 0.0012 - acc: 0.9958 - val_loss: 0.0012 - val_acc: 0.9983\n",
      "Epoch 239/400\n",
      "289/289 [==============================] - 184s 637ms/step - loss: 0.0012 - acc: 0.9958 - val_loss: 0.0012 - val_acc: 0.9983\n",
      "Epoch 240/400\n",
      "289/289 [==============================] - 185s 639ms/step - loss: 0.0012 - acc: 0.9958 - val_loss: 0.0012 - val_acc: 0.9983\n",
      "Epoch 241/400\n",
      "289/289 [==============================] - 184s 636ms/step - loss: 0.0012 - acc: 0.9958 - val_loss: 0.0013 - val_acc: 0.9983\n",
      "Epoch 242/400\n",
      "289/289 [==============================] - 186s 643ms/step - loss: 0.0012 - acc: 0.9958 - val_loss: 0.0013 - val_acc: 0.9983\n",
      "Epoch 243/400\n",
      "289/289 [==============================] - 185s 638ms/step - loss: 0.0012 - acc: 0.9958 - val_loss: 0.0012 - val_acc: 0.9983\n",
      "Epoch 244/400\n",
      "289/289 [==============================] - 185s 642ms/step - loss: 0.0012 - acc: 0.9958 - val_loss: 0.0012 - val_acc: 0.9983\n",
      "Epoch 245/400\n",
      "289/289 [==============================] - 188s 651ms/step - loss: 0.0012 - acc: 0.9958 - val_loss: 0.0012 - val_acc: 0.9983\n",
      "Epoch 246/400\n",
      "289/289 [==============================] - 185s 640ms/step - loss: 0.0012 - acc: 0.9958 - val_loss: 0.0012 - val_acc: 0.9983\n",
      "Epoch 247/400\n",
      "289/289 [==============================] - 185s 640ms/step - loss: 0.0012 - acc: 0.9958 - val_loss: 0.0012 - val_acc: 0.9983\n",
      "Epoch 248/400\n",
      "289/289 [==============================] - 185s 640ms/step - loss: 0.0012 - acc: 0.9958 - val_loss: 0.0012 - val_acc: 0.9983\n",
      "Epoch 249/400\n",
      "289/289 [==============================] - 184s 637ms/step - loss: 0.0012 - acc: 0.9958 - val_loss: 0.0012 - val_acc: 0.9983\n",
      "Epoch 250/400\n",
      "289/289 [==============================] - 185s 641ms/step - loss: 0.0012 - acc: 0.9958 - val_loss: 0.0012 - val_acc: 0.9983\n",
      "Epoch 251/400\n",
      "289/289 [==============================] - 188s 650ms/step - loss: 0.0012 - acc: 0.9958 - val_loss: 0.0012 - val_acc: 0.9983\n",
      "Epoch 252/400\n",
      "289/289 [==============================] - 187s 647ms/step - loss: 0.0012 - acc: 0.9958 - val_loss: 0.0012 - val_acc: 0.9983\n",
      "Epoch 253/400\n",
      "289/289 [==============================] - 185s 639ms/step - loss: 0.0012 - acc: 0.9958 - val_loss: 0.0012 - val_acc: 0.9983\n",
      "Epoch 254/400\n",
      "289/289 [==============================] - 186s 643ms/step - loss: 0.0012 - acc: 0.9958 - val_loss: 0.0012 - val_acc: 0.9983\n",
      "Epoch 255/400\n",
      "289/289 [==============================] - 187s 646ms/step - loss: 0.0012 - acc: 0.9958 - val_loss: 0.0012 - val_acc: 0.9983\n",
      "Epoch 256/400\n",
      "289/289 [==============================] - 185s 641ms/step - loss: 0.0012 - acc: 0.9958 - val_loss: 0.0012 - val_acc: 0.9983\n",
      "Epoch 257/400\n",
      "289/289 [==============================] - 187s 646ms/step - loss: 0.0012 - acc: 0.9958 - val_loss: 0.0011 - val_acc: 0.9983\n",
      "Epoch 258/400\n",
      "289/289 [==============================] - 188s 649ms/step - loss: 0.0012 - acc: 0.9958 - val_loss: 0.0012 - val_acc: 0.9983\n",
      "Epoch 259/400\n",
      "289/289 [==============================] - 187s 647ms/step - loss: 0.0012 - acc: 0.9958 - val_loss: 0.0013 - val_acc: 0.9983\n",
      "Epoch 260/400\n",
      "289/289 [==============================] - 186s 644ms/step - loss: 0.0012 - acc: 0.9958 - val_loss: 0.0012 - val_acc: 0.9983\n",
      "Epoch 261/400\n",
      "289/289 [==============================] - 187s 647ms/step - loss: 0.0012 - acc: 0.9958 - val_loss: 0.0012 - val_acc: 0.9983\n",
      "Epoch 262/400\n",
      "289/289 [==============================] - 187s 646ms/step - loss: 0.0012 - acc: 0.9958 - val_loss: 0.0012 - val_acc: 0.9983\n",
      "Epoch 263/400\n",
      "289/289 [==============================] - 186s 645ms/step - loss: 0.0012 - acc: 0.9958 - val_loss: 0.0011 - val_acc: 0.9983\n",
      "Epoch 264/400\n",
      "289/289 [==============================] - 186s 643ms/step - loss: 0.0012 - acc: 0.9958 - val_loss: 0.0012 - val_acc: 0.9983\n",
      "Epoch 265/400\n",
      "289/289 [==============================] - 184s 636ms/step - loss: 0.0012 - acc: 0.9959 - val_loss: 0.0011 - val_acc: 0.9983\n",
      "Epoch 266/400\n",
      "289/289 [==============================] - ETA: 0s - loss: 0.0012 - acc: 0.9959"
     ]
    },
    {
     "name": "stderr",
     "output_type": "stream",
     "text": [
      "WARNING:absl:Found untraced functions such as _jit_compiled_convolution_op, _jit_compiled_convolution_op, _jit_compiled_convolution_op, _jit_compiled_convolution_op, _jit_compiled_convolution_op while saving (showing 5 of 761). These functions will not be directly callable after loading.\n"
     ]
    },
    {
     "name": "stdout",
     "output_type": "stream",
     "text": [
      "289/289 [==============================] - 238s 823ms/step - loss: 0.0012 - acc: 0.9959 - val_loss: 0.0011 - val_acc: 0.9983\n",
      "Epoch 267/400\n",
      "289/289 [==============================] - 191s 662ms/step - loss: 0.0012 - acc: 0.9958 - val_loss: 0.0013 - val_acc: 0.9983\n",
      "Epoch 268/400\n",
      "289/289 [==============================] - 186s 643ms/step - loss: 0.0012 - acc: 0.9958 - val_loss: 0.0012 - val_acc: 0.9983\n",
      "Epoch 269/400\n",
      "289/289 [==============================] - 187s 648ms/step - loss: 0.0012 - acc: 0.9959 - val_loss: 0.0012 - val_acc: 0.9983\n",
      "Epoch 270/400\n",
      "289/289 [==============================] - 188s 652ms/step - loss: 0.0012 - acc: 0.9958 - val_loss: 0.0012 - val_acc: 0.9983\n",
      "Epoch 271/400\n",
      "289/289 [==============================] - 189s 654ms/step - loss: 0.0012 - acc: 0.9959 - val_loss: 0.0012 - val_acc: 0.9983\n",
      "Epoch 272/400\n",
      "289/289 [==============================] - 188s 651ms/step - loss: 0.0012 - acc: 0.9958 - val_loss: 0.0012 - val_acc: 0.9983\n",
      "Epoch 273/400\n",
      "289/289 [==============================] - 188s 652ms/step - loss: 0.0012 - acc: 0.9959 - val_loss: 0.0012 - val_acc: 0.9983\n",
      "Epoch 274/400\n",
      "289/289 [==============================] - 187s 646ms/step - loss: 0.0012 - acc: 0.9959 - val_loss: 0.0012 - val_acc: 0.9983\n",
      "Epoch 275/400\n",
      "289/289 [==============================] - 187s 647ms/step - loss: 0.0012 - acc: 0.9959 - val_loss: 0.0012 - val_acc: 0.9983\n",
      "Epoch 276/400\n",
      "289/289 [==============================] - 187s 646ms/step - loss: 0.0012 - acc: 0.9959 - val_loss: 0.0012 - val_acc: 0.9983\n",
      "Epoch 277/400\n",
      "289/289 [==============================] - 187s 646ms/step - loss: 0.0012 - acc: 0.9959 - val_loss: 0.0012 - val_acc: 0.9983\n",
      "Epoch 278/400\n",
      "289/289 [==============================] - 188s 650ms/step - loss: 0.0012 - acc: 0.9958 - val_loss: 0.0012 - val_acc: 0.9983\n",
      "Epoch 279/400\n",
      "289/289 [==============================] - 187s 646ms/step - loss: 0.0012 - acc: 0.9959 - val_loss: 0.0012 - val_acc: 0.9983\n",
      "Epoch 280/400\n",
      "289/289 [==============================] - 187s 646ms/step - loss: 0.0012 - acc: 0.9959 - val_loss: 0.0011 - val_acc: 0.9983\n",
      "Epoch 281/400\n",
      "289/289 [==============================] - 189s 655ms/step - loss: 0.0012 - acc: 0.9959 - val_loss: 0.0012 - val_acc: 0.9983\n",
      "Epoch 282/400\n",
      "289/289 [==============================] - 189s 652ms/step - loss: 0.0012 - acc: 0.9959 - val_loss: 0.0011 - val_acc: 0.9983\n",
      "Epoch 283/400\n",
      "289/289 [==============================] - 188s 650ms/step - loss: 0.0012 - acc: 0.9959 - val_loss: 0.0012 - val_acc: 0.9983\n",
      "Epoch 284/400\n",
      "289/289 [==============================] - 186s 644ms/step - loss: 0.0012 - acc: 0.9959 - val_loss: 0.0011 - val_acc: 0.9983\n",
      "Epoch 285/400\n",
      "289/289 [==============================] - 186s 643ms/step - loss: 0.0012 - acc: 0.9959 - val_loss: 0.0012 - val_acc: 0.9983\n",
      "Epoch 286/400\n",
      "289/289 [==============================] - 188s 652ms/step - loss: 0.0012 - acc: 0.9959 - val_loss: 0.0011 - val_acc: 0.9983\n",
      "Epoch 287/400\n",
      "289/289 [==============================] - 189s 653ms/step - loss: 0.0012 - acc: 0.9959 - val_loss: 0.0011 - val_acc: 0.9983\n",
      "Epoch 288/400\n",
      "289/289 [==============================] - 190s 657ms/step - loss: 0.0012 - acc: 0.9959 - val_loss: 0.0012 - val_acc: 0.9983\n",
      "Epoch 289/400\n",
      "289/289 [==============================] - 189s 654ms/step - loss: 0.0012 - acc: 0.9959 - val_loss: 0.0011 - val_acc: 0.9983\n",
      "Epoch 290/400\n",
      "289/289 [==============================] - 190s 659ms/step - loss: 0.0012 - acc: 0.9959 - val_loss: 0.0012 - val_acc: 0.9983\n",
      "Epoch 291/400\n",
      "289/289 [==============================] - 188s 652ms/step - loss: 0.0012 - acc: 0.9959 - val_loss: 0.0011 - val_acc: 0.9983\n",
      "Epoch 292/400\n",
      "289/289 [==============================] - 190s 659ms/step - loss: 0.0012 - acc: 0.9959 - val_loss: 0.0012 - val_acc: 0.9983\n",
      "Epoch 293/400\n",
      "289/289 [==============================] - 192s 664ms/step - loss: 0.0012 - acc: 0.9959 - val_loss: 0.0012 - val_acc: 0.9983\n",
      "Epoch 294/400\n",
      "289/289 [==============================] - 190s 659ms/step - loss: 0.0011 - acc: 0.9959 - val_loss: 0.0011 - val_acc: 0.9983\n",
      "Epoch 295/400\n",
      "289/289 [==============================] - 189s 653ms/step - loss: 0.0012 - acc: 0.9959 - val_loss: 0.0012 - val_acc: 0.9983\n",
      "Epoch 296/400\n",
      "289/289 [==============================] - 187s 648ms/step - loss: 0.0011 - acc: 0.9959 - val_loss: 0.0012 - val_acc: 0.9983\n",
      "Epoch 297/400\n",
      "289/289 [==============================] - 190s 656ms/step - loss: 0.0012 - acc: 0.9959 - val_loss: 0.0011 - val_acc: 0.9983\n",
      "Epoch 298/400\n",
      "289/289 [==============================] - 189s 655ms/step - loss: 0.0012 - acc: 0.9959 - val_loss: 0.0012 - val_acc: 0.9983\n",
      "Epoch 299/400\n",
      "289/289 [==============================] - 189s 654ms/step - loss: 0.0011 - acc: 0.9959 - val_loss: 0.0011 - val_acc: 0.9983\n",
      "Epoch 300/400\n",
      "289/289 [==============================] - 191s 662ms/step - loss: 0.0011 - acc: 0.9959 - val_loss: 0.0012 - val_acc: 0.9983\n",
      "Epoch 301/400\n",
      "289/289 [==============================] - 192s 664ms/step - loss: 0.0012 - acc: 0.9959 - val_loss: 0.0012 - val_acc: 0.9983\n",
      "Epoch 302/400\n",
      "289/289 [==============================] - 194s 672ms/step - loss: 0.0011 - acc: 0.9959 - val_loss: 0.0012 - val_acc: 0.9983\n",
      "Epoch 303/400\n",
      "289/289 [==============================] - 191s 662ms/step - loss: 0.0011 - acc: 0.9959 - val_loss: 0.0011 - val_acc: 0.9983\n",
      "Epoch 304/400\n",
      "289/289 [==============================] - 188s 650ms/step - loss: 0.0011 - acc: 0.9960 - val_loss: 0.0011 - val_acc: 0.9983\n",
      "Epoch 305/400\n",
      "289/289 [==============================] - 189s 654ms/step - loss: 0.0011 - acc: 0.9959 - val_loss: 0.0012 - val_acc: 0.9983\n",
      "Epoch 306/400\n",
      "289/289 [==============================] - 190s 656ms/step - loss: 0.0011 - acc: 0.9960 - val_loss: 0.0011 - val_acc: 0.9983\n",
      "Epoch 307/400\n",
      "289/289 [==============================] - 190s 658ms/step - loss: 0.0011 - acc: 0.9960 - val_loss: 0.0011 - val_acc: 0.9983\n",
      "Epoch 308/400\n",
      "289/289 [==============================] - 191s 661ms/step - loss: 0.0011 - acc: 0.9959 - val_loss: 0.0011 - val_acc: 0.9983\n",
      "Epoch 309/400\n",
      "289/289 [==============================] - 190s 657ms/step - loss: 0.0011 - acc: 0.9960 - val_loss: 0.0012 - val_acc: 0.9983\n",
      "Epoch 310/400\n",
      "289/289 [==============================] - 196s 678ms/step - loss: 0.0011 - acc: 0.9960 - val_loss: 0.0011 - val_acc: 0.9983\n",
      "Epoch 311/400\n",
      "289/289 [==============================] - 188s 651ms/step - loss: 0.0011 - acc: 0.9960 - val_loss: 0.0011 - val_acc: 0.9983\n",
      "Epoch 312/400\n",
      "289/289 [==============================] - 191s 661ms/step - loss: 0.0011 - acc: 0.9959 - val_loss: 0.0011 - val_acc: 0.9983\n",
      "Epoch 313/400\n",
      "289/289 [==============================] - 190s 658ms/step - loss: 0.0011 - acc: 0.9960 - val_loss: 0.0011 - val_acc: 0.9983\n",
      "Epoch 314/400\n",
      "289/289 [==============================] - 189s 653ms/step - loss: 0.0011 - acc: 0.9960 - val_loss: 0.0011 - val_acc: 0.9983\n",
      "Epoch 315/400\n",
      "289/289 [==============================] - 187s 648ms/step - loss: 0.0011 - acc: 0.9960 - val_loss: 0.0012 - val_acc: 0.9983\n",
      "Epoch 316/400\n",
      "289/289 [==============================] - 188s 651ms/step - loss: 0.0011 - acc: 0.9960 - val_loss: 0.0011 - val_acc: 0.9983\n",
      "Epoch 317/400\n",
      "289/289 [==============================] - 188s 652ms/step - loss: 0.0011 - acc: 0.9960 - val_loss: 0.0011 - val_acc: 0.9983\n",
      "Epoch 318/400\n",
      "289/289 [==============================] - 187s 647ms/step - loss: 0.0011 - acc: 0.9960 - val_loss: 0.0011 - val_acc: 0.9983\n",
      "Epoch 319/400\n",
      "289/289 [==============================] - 185s 642ms/step - loss: 0.0011 - acc: 0.9960 - val_loss: 0.0011 - val_acc: 0.9983\n",
      "Epoch 320/400\n",
      "289/289 [==============================] - ETA: 0s - loss: 0.0011 - acc: 0.9960"
     ]
    },
    {
     "name": "stderr",
     "output_type": "stream",
     "text": [
      "WARNING:absl:Found untraced functions such as _jit_compiled_convolution_op, _jit_compiled_convolution_op, _jit_compiled_convolution_op, _jit_compiled_convolution_op, _jit_compiled_convolution_op while saving (showing 5 of 761). These functions will not be directly callable after loading.\n"
     ]
    },
    {
     "name": "stdout",
     "output_type": "stream",
     "text": [
      "289/289 [==============================] - 237s 820ms/step - loss: 0.0011 - acc: 0.9960 - val_loss: 0.0010 - val_acc: 0.9983\n",
      "Epoch 321/400\n",
      "289/289 [==============================] - 186s 645ms/step - loss: 0.0011 - acc: 0.9960 - val_loss: 0.0011 - val_acc: 0.9983\n",
      "Epoch 322/400\n",
      "289/289 [==============================] - 188s 649ms/step - loss: 0.0011 - acc: 0.9960 - val_loss: 0.0012 - val_acc: 0.9983\n",
      "Epoch 323/400\n",
      "289/289 [==============================] - 186s 645ms/step - loss: 0.0011 - acc: 0.9960 - val_loss: 0.0012 - val_acc: 0.9983\n",
      "Epoch 324/400\n",
      "289/289 [==============================] - 188s 649ms/step - loss: 0.0011 - acc: 0.9960 - val_loss: 0.0011 - val_acc: 0.9983\n",
      "Epoch 325/400\n",
      "289/289 [==============================] - 187s 648ms/step - loss: 0.0011 - acc: 0.9960 - val_loss: 0.0012 - val_acc: 0.9983\n",
      "Epoch 326/400\n",
      "289/289 [==============================] - 189s 653ms/step - loss: 0.0011 - acc: 0.9960 - val_loss: 0.0011 - val_acc: 0.9983\n",
      "Epoch 327/400\n",
      "289/289 [==============================] - 191s 661ms/step - loss: 0.0011 - acc: 0.9960 - val_loss: 0.0012 - val_acc: 0.9983\n",
      "Epoch 328/400\n",
      "289/289 [==============================] - 189s 653ms/step - loss: 0.0011 - acc: 0.9960 - val_loss: 0.0011 - val_acc: 0.9983\n",
      "Epoch 329/400\n",
      "289/289 [==============================] - 186s 644ms/step - loss: 0.0011 - acc: 0.9960 - val_loss: 0.0011 - val_acc: 0.9983\n",
      "Epoch 330/400\n",
      "289/289 [==============================] - 189s 653ms/step - loss: 0.0011 - acc: 0.9960 - val_loss: 0.0011 - val_acc: 0.9983\n",
      "Epoch 331/400\n",
      "289/289 [==============================] - 188s 651ms/step - loss: 0.0011 - acc: 0.9960 - val_loss: 0.0011 - val_acc: 0.9983\n",
      "Epoch 332/400\n",
      "289/289 [==============================] - 187s 649ms/step - loss: 0.0011 - acc: 0.9960 - val_loss: 0.0012 - val_acc: 0.9983\n",
      "Epoch 333/400\n",
      "289/289 [==============================] - 187s 646ms/step - loss: 0.0011 - acc: 0.9960 - val_loss: 0.0011 - val_acc: 0.9983\n",
      "Epoch 334/400\n",
      "289/289 [==============================] - 190s 656ms/step - loss: 0.0011 - acc: 0.9960 - val_loss: 0.0012 - val_acc: 0.9983\n",
      "Epoch 335/400\n",
      "289/289 [==============================] - 191s 660ms/step - loss: 0.0011 - acc: 0.9960 - val_loss: 0.0011 - val_acc: 0.9983\n",
      "Epoch 336/400\n",
      "289/289 [==============================] - 193s 668ms/step - loss: 0.0011 - acc: 0.9960 - val_loss: 0.0011 - val_acc: 0.9983\n",
      "Epoch 337/400\n",
      "289/289 [==============================] - 188s 649ms/step - loss: 0.0011 - acc: 0.9961 - val_loss: 0.0011 - val_acc: 0.9983\n",
      "Epoch 338/400\n",
      "289/289 [==============================] - 189s 654ms/step - loss: 0.0011 - acc: 0.9960 - val_loss: 0.0011 - val_acc: 0.9983\n",
      "Epoch 339/400\n",
      "289/289 [==============================] - 189s 656ms/step - loss: 0.0011 - acc: 0.9961 - val_loss: 0.0011 - val_acc: 0.9983\n",
      "Epoch 340/400\n",
      "289/289 [==============================] - 189s 653ms/step - loss: 0.0011 - acc: 0.9961 - val_loss: 0.0011 - val_acc: 0.9983\n",
      "Epoch 341/400\n",
      "289/289 [==============================] - 189s 656ms/step - loss: 0.0011 - acc: 0.9961 - val_loss: 0.0011 - val_acc: 0.9983\n",
      "Epoch 342/400\n",
      "289/289 [==============================] - 190s 657ms/step - loss: 0.0011 - acc: 0.9961 - val_loss: 0.0011 - val_acc: 0.9983\n",
      "Epoch 343/400\n",
      "289/289 [==============================] - 191s 661ms/step - loss: 0.0011 - acc: 0.9961 - val_loss: 0.0011 - val_acc: 0.9983\n",
      "Epoch 344/400\n",
      "289/289 [==============================] - 192s 666ms/step - loss: 0.0011 - acc: 0.9961 - val_loss: 0.0011 - val_acc: 0.9983\n",
      "Epoch 345/400\n",
      "289/289 [==============================] - 191s 663ms/step - loss: 0.0011 - acc: 0.9961 - val_loss: 0.0011 - val_acc: 0.9983\n",
      "Epoch 346/400\n",
      "289/289 [==============================] - 189s 655ms/step - loss: 0.0011 - acc: 0.9961 - val_loss: 0.0011 - val_acc: 0.9983\n",
      "Epoch 347/400\n",
      "289/289 [==============================] - 191s 662ms/step - loss: 0.0011 - acc: 0.9961 - val_loss: 0.0011 - val_acc: 0.9983\n",
      "Epoch 348/400\n",
      "289/289 [==============================] - 190s 658ms/step - loss: 0.0011 - acc: 0.9961 - val_loss: 0.0011 - val_acc: 0.9983\n",
      "Epoch 349/400\n",
      "289/289 [==============================] - 190s 656ms/step - loss: 0.0011 - acc: 0.9961 - val_loss: 0.0011 - val_acc: 0.9983\n",
      "Epoch 350/400\n",
      "289/289 [==============================] - 191s 661ms/step - loss: 0.0011 - acc: 0.9961 - val_loss: 0.0011 - val_acc: 0.9983\n",
      "Epoch 351/400\n",
      "289/289 [==============================] - 191s 662ms/step - loss: 0.0011 - acc: 0.9961 - val_loss: 0.0011 - val_acc: 0.9983\n",
      "Epoch 352/400\n",
      "289/289 [==============================] - 190s 658ms/step - loss: 0.0011 - acc: 0.9961 - val_loss: 0.0011 - val_acc: 0.9983\n",
      "Epoch 353/400\n",
      "289/289 [==============================] - 190s 657ms/step - loss: 0.0011 - acc: 0.9961 - val_loss: 0.0011 - val_acc: 0.9983\n",
      "Epoch 354/400\n",
      "289/289 [==============================] - 190s 658ms/step - loss: 0.0011 - acc: 0.9961 - val_loss: 0.0011 - val_acc: 0.9983\n",
      "Epoch 355/400\n",
      "289/289 [==============================] - 189s 653ms/step - loss: 0.0011 - acc: 0.9961 - val_loss: 0.0011 - val_acc: 0.9983\n",
      "Epoch 356/400\n",
      "289/289 [==============================] - 189s 654ms/step - loss: 0.0011 - acc: 0.9961 - val_loss: 0.0011 - val_acc: 0.9983\n",
      "Epoch 357/400\n",
      "289/289 [==============================] - 190s 659ms/step - loss: 0.0011 - acc: 0.9961 - val_loss: 0.0011 - val_acc: 0.9983\n",
      "Epoch 358/400\n",
      "289/289 [==============================] - 190s 658ms/step - loss: 0.0011 - acc: 0.9962 - val_loss: 0.0011 - val_acc: 0.9983\n",
      "Epoch 359/400\n",
      "289/289 [==============================] - 190s 659ms/step - loss: 0.0011 - acc: 0.9961 - val_loss: 0.0011 - val_acc: 0.9983\n",
      "Epoch 360/400\n",
      "289/289 [==============================] - ETA: 0s - loss: 0.0011 - acc: 0.9962"
     ]
    },
    {
     "name": "stderr",
     "output_type": "stream",
     "text": [
      "WARNING:absl:Found untraced functions such as _jit_compiled_convolution_op, _jit_compiled_convolution_op, _jit_compiled_convolution_op, _jit_compiled_convolution_op, _jit_compiled_convolution_op while saving (showing 5 of 761). These functions will not be directly callable after loading.\n"
     ]
    },
    {
     "name": "stdout",
     "output_type": "stream",
     "text": [
      "289/289 [==============================] - 241s 834ms/step - loss: 0.0011 - acc: 0.9962 - val_loss: 0.0010 - val_acc: 0.9983\n",
      "Epoch 361/400\n",
      "289/289 [==============================] - 191s 662ms/step - loss: 0.0011 - acc: 0.9961 - val_loss: 0.0011 - val_acc: 0.9983\n",
      "Epoch 362/400\n",
      "289/289 [==============================] - 191s 660ms/step - loss: 0.0011 - acc: 0.9961 - val_loss: 0.0011 - val_acc: 0.9983\n",
      "Epoch 363/400\n",
      "289/289 [==============================] - 195s 675ms/step - loss: 0.0011 - acc: 0.9962 - val_loss: 0.0011 - val_acc: 0.9983\n",
      "Epoch 364/400\n",
      "289/289 [==============================] - 193s 669ms/step - loss: 0.0011 - acc: 0.9961 - val_loss: 0.0011 - val_acc: 0.9983\n",
      "Epoch 365/400\n",
      "289/289 [==============================] - 193s 666ms/step - loss: 0.0011 - acc: 0.9962 - val_loss: 0.0011 - val_acc: 0.9983\n",
      "Epoch 366/400\n",
      "289/289 [==============================] - ETA: 0s - loss: 0.0011 - acc: 0.9962"
     ]
    },
    {
     "name": "stderr",
     "output_type": "stream",
     "text": [
      "WARNING:absl:Found untraced functions such as _jit_compiled_convolution_op, _jit_compiled_convolution_op, _jit_compiled_convolution_op, _jit_compiled_convolution_op, _jit_compiled_convolution_op while saving (showing 5 of 761). These functions will not be directly callable after loading.\n"
     ]
    },
    {
     "name": "stdout",
     "output_type": "stream",
     "text": [
      "289/289 [==============================] - 241s 835ms/step - loss: 0.0011 - acc: 0.9962 - val_loss: 0.0010 - val_acc: 0.9983\n",
      "Epoch 367/400\n",
      "289/289 [==============================] - 192s 663ms/step - loss: 0.0011 - acc: 0.9962 - val_loss: 0.0011 - val_acc: 0.9983\n",
      "Epoch 368/400\n",
      "289/289 [==============================] - 192s 664ms/step - loss: 0.0011 - acc: 0.9961 - val_loss: 0.0011 - val_acc: 0.9983\n",
      "Epoch 369/400\n",
      "289/289 [==============================] - 192s 665ms/step - loss: 0.0011 - acc: 0.9962 - val_loss: 0.0010 - val_acc: 0.9983\n",
      "Epoch 370/400\n",
      "289/289 [==============================] - 191s 661ms/step - loss: 0.0011 - acc: 0.9961 - val_loss: 0.0011 - val_acc: 0.9983\n",
      "Epoch 371/400\n",
      "289/289 [==============================] - 190s 657ms/step - loss: 0.0011 - acc: 0.9962 - val_loss: 0.0011 - val_acc: 0.9983\n",
      "Epoch 372/400\n",
      "289/289 [==============================] - 191s 661ms/step - loss: 0.0011 - acc: 0.9962 - val_loss: 0.0011 - val_acc: 0.9983\n",
      "Epoch 373/400\n",
      "289/289 [==============================] - 188s 649ms/step - loss: 0.0011 - acc: 0.9962 - val_loss: 0.0011 - val_acc: 0.9983\n",
      "Epoch 374/400\n",
      "289/289 [==============================] - 189s 655ms/step - loss: 0.0011 - acc: 0.9962 - val_loss: 0.0011 - val_acc: 0.9983\n",
      "Epoch 375/400\n",
      "289/289 [==============================] - 188s 650ms/step - loss: 0.0011 - acc: 0.9962 - val_loss: 0.0010 - val_acc: 0.9983\n",
      "Epoch 376/400\n",
      "289/289 [==============================] - 188s 651ms/step - loss: 0.0011 - acc: 0.9962 - val_loss: 0.0011 - val_acc: 0.9983\n",
      "Epoch 377/400\n",
      "289/289 [==============================] - 188s 651ms/step - loss: 0.0011 - acc: 0.9962 - val_loss: 0.0011 - val_acc: 0.9983\n",
      "Epoch 378/400\n",
      "289/289 [==============================] - 188s 649ms/step - loss: 0.0011 - acc: 0.9962 - val_loss: 0.0011 - val_acc: 0.9983\n",
      "Epoch 379/400\n",
      "289/289 [==============================] - 186s 645ms/step - loss: 0.0011 - acc: 0.9962 - val_loss: 0.0010 - val_acc: 0.9983\n",
      "Epoch 380/400\n",
      "289/289 [==============================] - 187s 646ms/step - loss: 0.0011 - acc: 0.9962 - val_loss: 0.0010 - val_acc: 0.9983\n",
      "Epoch 381/400\n",
      "289/289 [==============================] - 186s 645ms/step - loss: 0.0011 - acc: 0.9962 - val_loss: 0.0010 - val_acc: 0.9983\n",
      "Epoch 382/400\n",
      "289/289 [==============================] - 187s 647ms/step - loss: 0.0011 - acc: 0.9962 - val_loss: 0.0010 - val_acc: 0.9983\n",
      "Epoch 383/400\n",
      "289/289 [==============================] - 188s 650ms/step - loss: 0.0011 - acc: 0.9962 - val_loss: 0.0011 - val_acc: 0.9983\n",
      "Epoch 384/400\n",
      "289/289 [==============================] - 188s 652ms/step - loss: 0.0011 - acc: 0.9963 - val_loss: 0.0010 - val_acc: 0.9983\n",
      "Epoch 385/400\n",
      "289/289 [==============================] - 187s 648ms/step - loss: 0.0011 - acc: 0.9962 - val_loss: 0.0010 - val_acc: 0.9983\n",
      "Epoch 386/400\n",
      "289/289 [==============================] - 187s 647ms/step - loss: 0.0011 - acc: 0.9962 - val_loss: 0.0011 - val_acc: 0.9983\n",
      "Epoch 387/400\n",
      "289/289 [==============================] - 188s 652ms/step - loss: 0.0010 - acc: 0.9963 - val_loss: 0.0011 - val_acc: 0.9983\n",
      "Epoch 388/400\n",
      "289/289 [==============================] - 185s 641ms/step - loss: 0.0010 - acc: 0.9963 - val_loss: 0.0010 - val_acc: 0.9983\n",
      "Epoch 389/400\n",
      "289/289 [==============================] - 188s 652ms/step - loss: 0.0010 - acc: 0.9963 - val_loss: 0.0010 - val_acc: 0.9983\n",
      "Epoch 390/400\n",
      "289/289 [==============================] - ETA: 0s - loss: 0.0010 - acc: 0.9963"
     ]
    },
    {
     "name": "stderr",
     "output_type": "stream",
     "text": [
      "WARNING:absl:Found untraced functions such as _jit_compiled_convolution_op, _jit_compiled_convolution_op, _jit_compiled_convolution_op, _jit_compiled_convolution_op, _jit_compiled_convolution_op while saving (showing 5 of 761). These functions will not be directly callable after loading.\n"
     ]
    },
    {
     "name": "stdout",
     "output_type": "stream",
     "text": [
      "289/289 [==============================] - 241s 833ms/step - loss: 0.0010 - acc: 0.9963 - val_loss: 9.9416e-04 - val_acc: 0.9983\n",
      "Epoch 391/400\n",
      "289/289 [==============================] - 192s 663ms/step - loss: 0.0010 - acc: 0.9963 - val_loss: 0.0011 - val_acc: 0.9983\n",
      "Epoch 392/400\n",
      "289/289 [==============================] - 189s 654ms/step - loss: 0.0011 - acc: 0.9962 - val_loss: 0.0010 - val_acc: 0.9983\n",
      "Epoch 393/400\n",
      "289/289 [==============================] - 189s 654ms/step - loss: 0.0010 - acc: 0.9962 - val_loss: 0.0010 - val_acc: 0.9983\n",
      "Epoch 394/400\n",
      "289/289 [==============================] - 187s 648ms/step - loss: 0.0011 - acc: 0.9963 - val_loss: 0.0011 - val_acc: 0.9983\n",
      "Epoch 395/400\n",
      "289/289 [==============================] - 187s 648ms/step - loss: 0.0010 - acc: 0.9963 - val_loss: 0.0011 - val_acc: 0.9983\n",
      "Epoch 396/400\n",
      "289/289 [==============================] - 189s 653ms/step - loss: 0.0010 - acc: 0.9962 - val_loss: 0.0011 - val_acc: 0.9983\n",
      "Epoch 397/400\n",
      "289/289 [==============================] - 190s 658ms/step - loss: 0.0010 - acc: 0.9963 - val_loss: 0.0011 - val_acc: 0.9983\n",
      "Epoch 398/400\n",
      "289/289 [==============================] - 187s 647ms/step - loss: 0.0010 - acc: 0.9963 - val_loss: 0.0011 - val_acc: 0.9983\n",
      "Epoch 399/400\n",
      "289/289 [==============================] - 188s 649ms/step - loss: 0.0010 - acc: 0.9963 - val_loss: 0.0010 - val_acc: 0.9983\n",
      "Epoch 400/400\n",
      "289/289 [==============================] - 188s 649ms/step - loss: 0.0010 - acc: 0.9963 - val_loss: 0.0011 - val_acc: 0.9983\n",
      "Time needed for training: 1277.151186064879\n"
     ]
    },
    {
     "name": "stderr",
     "output_type": "stream",
     "text": [
      "WARNING:absl:Found untraced functions such as _jit_compiled_convolution_op, _jit_compiled_convolution_op, _jit_compiled_convolution_op, _jit_compiled_convolution_op, _jit_compiled_convolution_op while saving (showing 5 of 761). These functions will not be directly callable after loading.\n"
     ]
    },
    {
     "name": "stdout",
     "output_type": "stream",
     "text": [
      "Epoch 1/400\n",
      "289/289 [==============================] - ETA: 0s - loss: 1.2033 - acc: 0.9938"
     ]
    },
    {
     "name": "stderr",
     "output_type": "stream",
     "text": [
      "WARNING:absl:Found untraced functions such as _jit_compiled_convolution_op, _jit_compiled_convolution_op, _jit_compiled_convolution_op, _jit_compiled_convolution_op, _jit_compiled_convolution_op while saving (showing 5 of 459). These functions will not be directly callable after loading.\n"
     ]
    },
    {
     "name": "stdout",
     "output_type": "stream",
     "text": [
      "289/289 [==============================] - 270s 919ms/step - loss: 1.2033 - acc: 0.9938 - val_loss: 1.1934 - val_acc: 0.9959\n",
      "Epoch 2/400\n",
      "289/289 [==============================] - ETA: 0s - loss: 1.1842 - acc: 0.9953"
     ]
    },
    {
     "name": "stderr",
     "output_type": "stream",
     "text": [
      "WARNING:absl:Found untraced functions such as _jit_compiled_convolution_op, _jit_compiled_convolution_op, _jit_compiled_convolution_op, _jit_compiled_convolution_op, _jit_compiled_convolution_op while saving (showing 5 of 459). These functions will not be directly callable after loading.\n"
     ]
    },
    {
     "name": "stdout",
     "output_type": "stream",
     "text": [
      "289/289 [==============================] - 267s 924ms/step - loss: 1.1842 - acc: 0.9953 - val_loss: 1.1789 - val_acc: 0.9969\n",
      "Epoch 3/400\n",
      "289/289 [==============================] - ETA: 0s - loss: 1.1732 - acc: 0.9955"
     ]
    },
    {
     "name": "stderr",
     "output_type": "stream",
     "text": [
      "WARNING:absl:Found untraced functions such as _jit_compiled_convolution_op, _jit_compiled_convolution_op, _jit_compiled_convolution_op, _jit_compiled_convolution_op, _jit_compiled_convolution_op while saving (showing 5 of 459). These functions will not be directly callable after loading.\n"
     ]
    },
    {
     "name": "stdout",
     "output_type": "stream",
     "text": [
      "289/289 [==============================] - 260s 899ms/step - loss: 1.1732 - acc: 0.9955 - val_loss: 1.1701 - val_acc: 0.9930\n",
      "Epoch 4/400\n",
      "289/289 [==============================] - ETA: 0s - loss: 1.1640 - acc: 0.9957"
     ]
    },
    {
     "name": "stderr",
     "output_type": "stream",
     "text": [
      "WARNING:absl:Found untraced functions such as _jit_compiled_convolution_op, _jit_compiled_convolution_op, _jit_compiled_convolution_op, _jit_compiled_convolution_op, _jit_compiled_convolution_op while saving (showing 5 of 459). These functions will not be directly callable after loading.\n"
     ]
    },
    {
     "name": "stdout",
     "output_type": "stream",
     "text": [
      "289/289 [==============================] - 261s 905ms/step - loss: 1.1640 - acc: 0.9957 - val_loss: 1.1610 - val_acc: 0.9945\n",
      "Epoch 5/400\n",
      "289/289 [==============================] - ETA: 0s - loss: 1.1556 - acc: 0.9958"
     ]
    },
    {
     "name": "stderr",
     "output_type": "stream",
     "text": [
      "WARNING:absl:Found untraced functions such as _jit_compiled_convolution_op, _jit_compiled_convolution_op, _jit_compiled_convolution_op, _jit_compiled_convolution_op, _jit_compiled_convolution_op while saving (showing 5 of 459). These functions will not be directly callable after loading.\n"
     ]
    },
    {
     "name": "stdout",
     "output_type": "stream",
     "text": [
      "289/289 [==============================] - 257s 890ms/step - loss: 1.1556 - acc: 0.9958 - val_loss: 1.1520 - val_acc: 0.9980\n",
      "Epoch 6/400\n",
      "289/289 [==============================] - ETA: 0s - loss: 1.1478 - acc: 0.9960"
     ]
    },
    {
     "name": "stderr",
     "output_type": "stream",
     "text": [
      "WARNING:absl:Found untraced functions such as _jit_compiled_convolution_op, _jit_compiled_convolution_op, _jit_compiled_convolution_op, _jit_compiled_convolution_op, _jit_compiled_convolution_op while saving (showing 5 of 459). These functions will not be directly callable after loading.\n"
     ]
    },
    {
     "name": "stdout",
     "output_type": "stream",
     "text": [
      "289/289 [==============================] - 252s 872ms/step - loss: 1.1478 - acc: 0.9960 - val_loss: 1.1458 - val_acc: 0.9936\n",
      "Epoch 7/400\n",
      "289/289 [==============================] - ETA: 0s - loss: 1.1402 - acc: 0.9962"
     ]
    },
    {
     "name": "stderr",
     "output_type": "stream",
     "text": [
      "WARNING:absl:Found untraced functions such as _jit_compiled_convolution_op, _jit_compiled_convolution_op, _jit_compiled_convolution_op, _jit_compiled_convolution_op, _jit_compiled_convolution_op while saving (showing 5 of 459). These functions will not be directly callable after loading.\n"
     ]
    },
    {
     "name": "stdout",
     "output_type": "stream",
     "text": [
      "289/289 [==============================] - 251s 868ms/step - loss: 1.1402 - acc: 0.9962 - val_loss: 1.1399 - val_acc: 0.9874\n",
      "Epoch 8/400\n",
      "289/289 [==============================] - ETA: 0s - loss: 1.1329 - acc: 0.9965"
     ]
    },
    {
     "name": "stderr",
     "output_type": "stream",
     "text": [
      "WARNING:absl:Found untraced functions such as _jit_compiled_convolution_op, _jit_compiled_convolution_op, _jit_compiled_convolution_op, _jit_compiled_convolution_op, _jit_compiled_convolution_op while saving (showing 5 of 459). These functions will not be directly callable after loading.\n"
     ]
    },
    {
     "name": "stdout",
     "output_type": "stream",
     "text": [
      "289/289 [==============================] - 251s 871ms/step - loss: 1.1329 - acc: 0.9965 - val_loss: 1.1336 - val_acc: 0.9852\n",
      "Epoch 9/400\n",
      "289/289 [==============================] - ETA: 0s - loss: 1.1257 - acc: 0.9969"
     ]
    },
    {
     "name": "stderr",
     "output_type": "stream",
     "text": [
      "WARNING:absl:Found untraced functions such as _jit_compiled_convolution_op, _jit_compiled_convolution_op, _jit_compiled_convolution_op, _jit_compiled_convolution_op, _jit_compiled_convolution_op while saving (showing 5 of 459). These functions will not be directly callable after loading.\n"
     ]
    },
    {
     "name": "stdout",
     "output_type": "stream",
     "text": [
      "289/289 [==============================] - 252s 871ms/step - loss: 1.1257 - acc: 0.9969 - val_loss: 1.1299 - val_acc: 0.9790\n",
      "Epoch 10/400\n",
      "289/289 [==============================] - ETA: 0s - loss: 1.1188 - acc: 0.9971"
     ]
    },
    {
     "name": "stderr",
     "output_type": "stream",
     "text": [
      "WARNING:absl:Found untraced functions such as _jit_compiled_convolution_op, _jit_compiled_convolution_op, _jit_compiled_convolution_op, _jit_compiled_convolution_op, _jit_compiled_convolution_op while saving (showing 5 of 459). These functions will not be directly callable after loading.\n"
     ]
    },
    {
     "name": "stdout",
     "output_type": "stream",
     "text": [
      "289/289 [==============================] - 250s 867ms/step - loss: 1.1188 - acc: 0.9971 - val_loss: 1.1221 - val_acc: 0.9820\n",
      "Epoch 11/400\n",
      "289/289 [==============================] - ETA: 0s - loss: 1.1119 - acc: 0.9973"
     ]
    },
    {
     "name": "stderr",
     "output_type": "stream",
     "text": [
      "WARNING:absl:Found untraced functions such as _jit_compiled_convolution_op, _jit_compiled_convolution_op, _jit_compiled_convolution_op, _jit_compiled_convolution_op, _jit_compiled_convolution_op while saving (showing 5 of 459). These functions will not be directly callable after loading.\n"
     ]
    },
    {
     "name": "stdout",
     "output_type": "stream",
     "text": [
      "289/289 [==============================] - 252s 874ms/step - loss: 1.1119 - acc: 0.9973 - val_loss: 1.1143 - val_acc: 0.9838\n",
      "Epoch 12/400\n",
      "289/289 [==============================] - ETA: 0s - loss: 1.1051 - acc: 0.9974"
     ]
    },
    {
     "name": "stderr",
     "output_type": "stream",
     "text": [
      "WARNING:absl:Found untraced functions such as _jit_compiled_convolution_op, _jit_compiled_convolution_op, _jit_compiled_convolution_op, _jit_compiled_convolution_op, _jit_compiled_convolution_op while saving (showing 5 of 459). These functions will not be directly callable after loading.\n"
     ]
    },
    {
     "name": "stdout",
     "output_type": "stream",
     "text": [
      "289/289 [==============================] - 251s 868ms/step - loss: 1.1051 - acc: 0.9974 - val_loss: 1.1078 - val_acc: 0.9835\n",
      "Epoch 13/400\n",
      "289/289 [==============================] - ETA: 0s - loss: 1.0984 - acc: 0.9975"
     ]
    },
    {
     "name": "stderr",
     "output_type": "stream",
     "text": [
      "WARNING:absl:Found untraced functions such as _jit_compiled_convolution_op, _jit_compiled_convolution_op, _jit_compiled_convolution_op, _jit_compiled_convolution_op, _jit_compiled_convolution_op while saving (showing 5 of 459). These functions will not be directly callable after loading.\n"
     ]
    },
    {
     "name": "stdout",
     "output_type": "stream",
     "text": [
      "289/289 [==============================] - 254s 878ms/step - loss: 1.0984 - acc: 0.9975 - val_loss: 1.1044 - val_acc: 0.9796\n",
      "Epoch 14/400\n",
      "289/289 [==============================] - ETA: 0s - loss: 1.0917 - acc: 0.9976"
     ]
    },
    {
     "name": "stderr",
     "output_type": "stream",
     "text": [
      "WARNING:absl:Found untraced functions such as _jit_compiled_convolution_op, _jit_compiled_convolution_op, _jit_compiled_convolution_op, _jit_compiled_convolution_op, _jit_compiled_convolution_op while saving (showing 5 of 459). These functions will not be directly callable after loading.\n"
     ]
    },
    {
     "name": "stdout",
     "output_type": "stream",
     "text": [
      "289/289 [==============================] - 255s 883ms/step - loss: 1.0917 - acc: 0.9976 - val_loss: 1.0983 - val_acc: 0.9791\n",
      "Epoch 15/400\n",
      "289/289 [==============================] - ETA: 0s - loss: 1.0851 - acc: 0.9976"
     ]
    },
    {
     "name": "stderr",
     "output_type": "stream",
     "text": [
      "WARNING:absl:Found untraced functions such as _jit_compiled_convolution_op, _jit_compiled_convolution_op, _jit_compiled_convolution_op, _jit_compiled_convolution_op, _jit_compiled_convolution_op while saving (showing 5 of 459). These functions will not be directly callable after loading.\n"
     ]
    },
    {
     "name": "stdout",
     "output_type": "stream",
     "text": [
      "289/289 [==============================] - 247s 857ms/step - loss: 1.0851 - acc: 0.9976 - val_loss: 1.0920 - val_acc: 0.9788\n",
      "Epoch 16/400\n",
      "289/289 [==============================] - ETA: 0s - loss: 1.0785 - acc: 0.9977"
     ]
    },
    {
     "name": "stderr",
     "output_type": "stream",
     "text": [
      "WARNING:absl:Found untraced functions such as _jit_compiled_convolution_op, _jit_compiled_convolution_op, _jit_compiled_convolution_op, _jit_compiled_convolution_op, _jit_compiled_convolution_op while saving (showing 5 of 459). These functions will not be directly callable after loading.\n"
     ]
    },
    {
     "name": "stdout",
     "output_type": "stream",
     "text": [
      "289/289 [==============================] - 246s 852ms/step - loss: 1.0785 - acc: 0.9977 - val_loss: 1.0836 - val_acc: 0.9814\n",
      "Epoch 17/400\n",
      "289/289 [==============================] - ETA: 0s - loss: 1.0719 - acc: 0.9978"
     ]
    },
    {
     "name": "stderr",
     "output_type": "stream",
     "text": [
      "WARNING:absl:Found untraced functions such as _jit_compiled_convolution_op, _jit_compiled_convolution_op, _jit_compiled_convolution_op, _jit_compiled_convolution_op, _jit_compiled_convolution_op while saving (showing 5 of 459). These functions will not be directly callable after loading.\n"
     ]
    },
    {
     "name": "stdout",
     "output_type": "stream",
     "text": [
      "289/289 [==============================] - 251s 870ms/step - loss: 1.0719 - acc: 0.9978 - val_loss: 1.0820 - val_acc: 0.9762\n",
      "Epoch 18/400\n",
      "289/289 [==============================] - ETA: 0s - loss: 1.0654 - acc: 0.9979"
     ]
    },
    {
     "name": "stderr",
     "output_type": "stream",
     "text": [
      "WARNING:absl:Found untraced functions such as _jit_compiled_convolution_op, _jit_compiled_convolution_op, _jit_compiled_convolution_op, _jit_compiled_convolution_op, _jit_compiled_convolution_op while saving (showing 5 of 459). These functions will not be directly callable after loading.\n"
     ]
    },
    {
     "name": "stdout",
     "output_type": "stream",
     "text": [
      "289/289 [==============================] - 252s 874ms/step - loss: 1.0654 - acc: 0.9979 - val_loss: 1.0707 - val_acc: 0.9809\n",
      "Epoch 19/400\n",
      "289/289 [==============================] - ETA: 0s - loss: 1.0588 - acc: 0.9980"
     ]
    },
    {
     "name": "stderr",
     "output_type": "stream",
     "text": [
      "WARNING:absl:Found untraced functions such as _jit_compiled_convolution_op, _jit_compiled_convolution_op, _jit_compiled_convolution_op, _jit_compiled_convolution_op, _jit_compiled_convolution_op while saving (showing 5 of 459). These functions will not be directly callable after loading.\n"
     ]
    },
    {
     "name": "stdout",
     "output_type": "stream",
     "text": [
      "289/289 [==============================] - 257s 891ms/step - loss: 1.0588 - acc: 0.9980 - val_loss: 1.0645 - val_acc: 0.9812\n",
      "Epoch 20/400\n",
      "289/289 [==============================] - ETA: 0s - loss: 1.0524 - acc: 0.9980"
     ]
    },
    {
     "name": "stderr",
     "output_type": "stream",
     "text": [
      "WARNING:absl:Found untraced functions such as _jit_compiled_convolution_op, _jit_compiled_convolution_op, _jit_compiled_convolution_op, _jit_compiled_convolution_op, _jit_compiled_convolution_op while saving (showing 5 of 459). These functions will not be directly callable after loading.\n"
     ]
    },
    {
     "name": "stdout",
     "output_type": "stream",
     "text": [
      "289/289 [==============================] - 250s 867ms/step - loss: 1.0524 - acc: 0.9980 - val_loss: 1.0603 - val_acc: 0.9806\n",
      "Epoch 21/400\n",
      "289/289 [==============================] - ETA: 0s - loss: 1.0459 - acc: 0.9980"
     ]
    },
    {
     "name": "stderr",
     "output_type": "stream",
     "text": [
      "WARNING:absl:Found untraced functions such as _jit_compiled_convolution_op, _jit_compiled_convolution_op, _jit_compiled_convolution_op, _jit_compiled_convolution_op, _jit_compiled_convolution_op while saving (showing 5 of 459). These functions will not be directly callable after loading.\n"
     ]
    },
    {
     "name": "stdout",
     "output_type": "stream",
     "text": [
      "289/289 [==============================] - 253s 875ms/step - loss: 1.0459 - acc: 0.9980 - val_loss: 1.0553 - val_acc: 0.9784\n",
      "Epoch 22/400\n",
      "289/289 [==============================] - ETA: 0s - loss: 1.0395 - acc: 0.9980"
     ]
    },
    {
     "name": "stderr",
     "output_type": "stream",
     "text": [
      "WARNING:absl:Found untraced functions such as _jit_compiled_convolution_op, _jit_compiled_convolution_op, _jit_compiled_convolution_op, _jit_compiled_convolution_op, _jit_compiled_convolution_op while saving (showing 5 of 459). These functions will not be directly callable after loading.\n"
     ]
    },
    {
     "name": "stdout",
     "output_type": "stream",
     "text": [
      "289/289 [==============================] - 251s 868ms/step - loss: 1.0395 - acc: 0.9980 - val_loss: 1.0455 - val_acc: 0.9808\n",
      "Epoch 23/400\n",
      "289/289 [==============================] - ETA: 0s - loss: 1.0331 - acc: 0.9981"
     ]
    },
    {
     "name": "stderr",
     "output_type": "stream",
     "text": [
      "WARNING:absl:Found untraced functions such as _jit_compiled_convolution_op, _jit_compiled_convolution_op, _jit_compiled_convolution_op, _jit_compiled_convolution_op, _jit_compiled_convolution_op while saving (showing 5 of 459). These functions will not be directly callable after loading.\n"
     ]
    },
    {
     "name": "stdout",
     "output_type": "stream",
     "text": [
      "289/289 [==============================] - 257s 891ms/step - loss: 1.0331 - acc: 0.9981 - val_loss: 1.0391 - val_acc: 0.9823\n",
      "Epoch 24/400\n",
      "289/289 [==============================] - ETA: 0s - loss: 1.0267 - acc: 0.9982"
     ]
    },
    {
     "name": "stderr",
     "output_type": "stream",
     "text": [
      "WARNING:absl:Found untraced functions such as _jit_compiled_convolution_op, _jit_compiled_convolution_op, _jit_compiled_convolution_op, _jit_compiled_convolution_op, _jit_compiled_convolution_op while saving (showing 5 of 459). These functions will not be directly callable after loading.\n"
     ]
    },
    {
     "name": "stdout",
     "output_type": "stream",
     "text": [
      "289/289 [==============================] - 252s 874ms/step - loss: 1.0267 - acc: 0.9982 - val_loss: 1.0359 - val_acc: 0.9782\n",
      "Epoch 25/400\n",
      "289/289 [==============================] - ETA: 0s - loss: 1.0203 - acc: 0.9983"
     ]
    },
    {
     "name": "stderr",
     "output_type": "stream",
     "text": [
      "WARNING:absl:Found untraced functions such as _jit_compiled_convolution_op, _jit_compiled_convolution_op, _jit_compiled_convolution_op, _jit_compiled_convolution_op, _jit_compiled_convolution_op while saving (showing 5 of 459). These functions will not be directly callable after loading.\n"
     ]
    },
    {
     "name": "stdout",
     "output_type": "stream",
     "text": [
      "289/289 [==============================] - 253s 875ms/step - loss: 1.0203 - acc: 0.9983 - val_loss: 1.0277 - val_acc: 0.9796\n",
      "Epoch 26/400\n",
      "289/289 [==============================] - ETA: 0s - loss: 1.0140 - acc: 0.9983"
     ]
    },
    {
     "name": "stderr",
     "output_type": "stream",
     "text": [
      "WARNING:absl:Found untraced functions such as _jit_compiled_convolution_op, _jit_compiled_convolution_op, _jit_compiled_convolution_op, _jit_compiled_convolution_op, _jit_compiled_convolution_op while saving (showing 5 of 459). These functions will not be directly callable after loading.\n"
     ]
    },
    {
     "name": "stdout",
     "output_type": "stream",
     "text": [
      "289/289 [==============================] - 253s 876ms/step - loss: 1.0140 - acc: 0.9983 - val_loss: 1.0190 - val_acc: 0.9826\n",
      "Epoch 27/400\n",
      "289/289 [==============================] - ETA: 0s - loss: 1.0077 - acc: 0.9983"
     ]
    },
    {
     "name": "stderr",
     "output_type": "stream",
     "text": [
      "WARNING:absl:Found untraced functions such as _jit_compiled_convolution_op, _jit_compiled_convolution_op, _jit_compiled_convolution_op, _jit_compiled_convolution_op, _jit_compiled_convolution_op while saving (showing 5 of 459). These functions will not be directly callable after loading.\n"
     ]
    },
    {
     "name": "stdout",
     "output_type": "stream",
     "text": [
      "289/289 [==============================] - 256s 888ms/step - loss: 1.0077 - acc: 0.9983 - val_loss: 1.0144 - val_acc: 0.9803\n",
      "Epoch 28/400\n",
      "289/289 [==============================] - ETA: 0s - loss: 1.0013 - acc: 0.9983"
     ]
    },
    {
     "name": "stderr",
     "output_type": "stream",
     "text": [
      "WARNING:absl:Found untraced functions such as _jit_compiled_convolution_op, _jit_compiled_convolution_op, _jit_compiled_convolution_op, _jit_compiled_convolution_op, _jit_compiled_convolution_op while saving (showing 5 of 459). These functions will not be directly callable after loading.\n"
     ]
    },
    {
     "name": "stdout",
     "output_type": "stream",
     "text": [
      "289/289 [==============================] - 255s 883ms/step - loss: 1.0013 - acc: 0.9983 - val_loss: 1.0078 - val_acc: 0.9813\n",
      "Epoch 29/400\n",
      "289/289 [==============================] - ETA: 0s - loss: 0.9951 - acc: 0.9983"
     ]
    },
    {
     "name": "stderr",
     "output_type": "stream",
     "text": [
      "WARNING:absl:Found untraced functions such as _jit_compiled_convolution_op, _jit_compiled_convolution_op, _jit_compiled_convolution_op, _jit_compiled_convolution_op, _jit_compiled_convolution_op while saving (showing 5 of 459). These functions will not be directly callable after loading.\n"
     ]
    },
    {
     "name": "stdout",
     "output_type": "stream",
     "text": [
      "289/289 [==============================] - 255s 884ms/step - loss: 0.9951 - acc: 0.9983 - val_loss: 1.0037 - val_acc: 0.9798\n",
      "Epoch 30/400\n",
      "289/289 [==============================] - 169s 586ms/step - loss: 0.9888 - acc: 0.9984 - val_loss: 1.0073 - val_acc: 0.9730\n",
      "Epoch 31/400\n",
      "289/289 [==============================] - ETA: 0s - loss: 0.9826 - acc: 0.9983"
     ]
    },
    {
     "name": "stderr",
     "output_type": "stream",
     "text": [
      "WARNING:absl:Found untraced functions such as _jit_compiled_convolution_op, _jit_compiled_convolution_op, _jit_compiled_convolution_op, _jit_compiled_convolution_op, _jit_compiled_convolution_op while saving (showing 5 of 459). These functions will not be directly callable after loading.\n"
     ]
    },
    {
     "name": "stdout",
     "output_type": "stream",
     "text": [
      "289/289 [==============================] - 258s 892ms/step - loss: 0.9826 - acc: 0.9983 - val_loss: 0.9864 - val_acc: 0.9833\n",
      "Epoch 32/400\n",
      "289/289 [==============================] - ETA: 0s - loss: 0.9763 - acc: 0.9984"
     ]
    },
    {
     "name": "stderr",
     "output_type": "stream",
     "text": [
      "WARNING:absl:Found untraced functions such as _jit_compiled_convolution_op, _jit_compiled_convolution_op, _jit_compiled_convolution_op, _jit_compiled_convolution_op, _jit_compiled_convolution_op while saving (showing 5 of 459). These functions will not be directly callable after loading.\n"
     ]
    },
    {
     "name": "stdout",
     "output_type": "stream",
     "text": [
      "289/289 [==============================] - 259s 896ms/step - loss: 0.9763 - acc: 0.9984 - val_loss: 0.9824 - val_acc: 0.9814\n",
      "Epoch 33/400\n",
      "289/289 [==============================] - ETA: 0s - loss: 0.9701 - acc: 0.9985"
     ]
    },
    {
     "name": "stderr",
     "output_type": "stream",
     "text": [
      "WARNING:absl:Found untraced functions such as _jit_compiled_convolution_op, _jit_compiled_convolution_op, _jit_compiled_convolution_op, _jit_compiled_convolution_op, _jit_compiled_convolution_op while saving (showing 5 of 459). These functions will not be directly callable after loading.\n"
     ]
    },
    {
     "name": "stdout",
     "output_type": "stream",
     "text": [
      "289/289 [==============================] - 253s 875ms/step - loss: 0.9701 - acc: 0.9985 - val_loss: 0.9814 - val_acc: 0.9792\n",
      "Epoch 34/400\n",
      "289/289 [==============================] - ETA: 0s - loss: 0.9639 - acc: 0.9986"
     ]
    },
    {
     "name": "stderr",
     "output_type": "stream",
     "text": [
      "WARNING:absl:Found untraced functions such as _jit_compiled_convolution_op, _jit_compiled_convolution_op, _jit_compiled_convolution_op, _jit_compiled_convolution_op, _jit_compiled_convolution_op while saving (showing 5 of 459). These functions will not be directly callable after loading.\n"
     ]
    },
    {
     "name": "stdout",
     "output_type": "stream",
     "text": [
      "289/289 [==============================] - 248s 857ms/step - loss: 0.9639 - acc: 0.9986 - val_loss: 0.9730 - val_acc: 0.9793\n",
      "Epoch 35/400\n",
      "289/289 [==============================] - ETA: 0s - loss: 0.9577 - acc: 0.9986"
     ]
    },
    {
     "name": "stderr",
     "output_type": "stream",
     "text": [
      "WARNING:absl:Found untraced functions such as _jit_compiled_convolution_op, _jit_compiled_convolution_op, _jit_compiled_convolution_op, _jit_compiled_convolution_op, _jit_compiled_convolution_op while saving (showing 5 of 459). These functions will not be directly callable after loading.\n"
     ]
    },
    {
     "name": "stdout",
     "output_type": "stream",
     "text": [
      "289/289 [==============================] - 247s 854ms/step - loss: 0.9577 - acc: 0.9986 - val_loss: 0.9671 - val_acc: 0.9803\n",
      "Epoch 36/400\n",
      "289/289 [==============================] - ETA: 0s - loss: 0.9516 - acc: 0.9986"
     ]
    },
    {
     "name": "stderr",
     "output_type": "stream",
     "text": [
      "WARNING:absl:Found untraced functions such as _jit_compiled_convolution_op, _jit_compiled_convolution_op, _jit_compiled_convolution_op, _jit_compiled_convolution_op, _jit_compiled_convolution_op while saving (showing 5 of 459). These functions will not be directly callable after loading.\n"
     ]
    },
    {
     "name": "stdout",
     "output_type": "stream",
     "text": [
      "289/289 [==============================] - 251s 869ms/step - loss: 0.9516 - acc: 0.9986 - val_loss: 0.9626 - val_acc: 0.9796\n",
      "Epoch 37/400\n",
      "289/289 [==============================] - ETA: 0s - loss: 0.9455 - acc: 0.9986"
     ]
    },
    {
     "name": "stderr",
     "output_type": "stream",
     "text": [
      "WARNING:absl:Found untraced functions such as _jit_compiled_convolution_op, _jit_compiled_convolution_op, _jit_compiled_convolution_op, _jit_compiled_convolution_op, _jit_compiled_convolution_op while saving (showing 5 of 459). These functions will not be directly callable after loading.\n"
     ]
    },
    {
     "name": "stdout",
     "output_type": "stream",
     "text": [
      "289/289 [==============================] - 248s 859ms/step - loss: 0.9455 - acc: 0.9986 - val_loss: 0.9545 - val_acc: 0.9803\n",
      "Epoch 38/400\n",
      "289/289 [==============================] - ETA: 0s - loss: 0.9394 - acc: 0.9986"
     ]
    },
    {
     "name": "stderr",
     "output_type": "stream",
     "text": [
      "WARNING:absl:Found untraced functions such as _jit_compiled_convolution_op, _jit_compiled_convolution_op, _jit_compiled_convolution_op, _jit_compiled_convolution_op, _jit_compiled_convolution_op while saving (showing 5 of 459). These functions will not be directly callable after loading.\n"
     ]
    },
    {
     "name": "stdout",
     "output_type": "stream",
     "text": [
      "289/289 [==============================] - 252s 873ms/step - loss: 0.9394 - acc: 0.9986 - val_loss: 0.9481 - val_acc: 0.9802\n",
      "Epoch 39/400\n",
      "289/289 [==============================] - ETA: 0s - loss: 0.9333 - acc: 0.9986"
     ]
    },
    {
     "name": "stderr",
     "output_type": "stream",
     "text": [
      "WARNING:absl:Found untraced functions such as _jit_compiled_convolution_op, _jit_compiled_convolution_op, _jit_compiled_convolution_op, _jit_compiled_convolution_op, _jit_compiled_convolution_op while saving (showing 5 of 459). These functions will not be directly callable after loading.\n"
     ]
    },
    {
     "name": "stdout",
     "output_type": "stream",
     "text": [
      "289/289 [==============================] - 247s 857ms/step - loss: 0.9333 - acc: 0.9986 - val_loss: 0.9369 - val_acc: 0.9841\n",
      "Epoch 40/400\n",
      "289/289 [==============================] - ETA: 0s - loss: 0.9272 - acc: 0.9987"
     ]
    },
    {
     "name": "stderr",
     "output_type": "stream",
     "text": [
      "WARNING:absl:Found untraced functions such as _jit_compiled_convolution_op, _jit_compiled_convolution_op, _jit_compiled_convolution_op, _jit_compiled_convolution_op, _jit_compiled_convolution_op while saving (showing 5 of 459). These functions will not be directly callable after loading.\n"
     ]
    },
    {
     "name": "stdout",
     "output_type": "stream",
     "text": [
      "289/289 [==============================] - 248s 860ms/step - loss: 0.9272 - acc: 0.9987 - val_loss: 0.9351 - val_acc: 0.9809\n",
      "Epoch 41/400\n",
      "289/289 [==============================] - ETA: 0s - loss: 0.9212 - acc: 0.9987"
     ]
    },
    {
     "name": "stderr",
     "output_type": "stream",
     "text": [
      "WARNING:absl:Found untraced functions such as _jit_compiled_convolution_op, _jit_compiled_convolution_op, _jit_compiled_convolution_op, _jit_compiled_convolution_op, _jit_compiled_convolution_op while saving (showing 5 of 459). These functions will not be directly callable after loading.\n"
     ]
    },
    {
     "name": "stdout",
     "output_type": "stream",
     "text": [
      "289/289 [==============================] - 247s 856ms/step - loss: 0.9212 - acc: 0.9987 - val_loss: 0.9296 - val_acc: 0.9808\n",
      "Epoch 42/400\n",
      "289/289 [==============================] - ETA: 0s - loss: 0.9151 - acc: 0.9988"
     ]
    },
    {
     "name": "stderr",
     "output_type": "stream",
     "text": [
      "WARNING:absl:Found untraced functions such as _jit_compiled_convolution_op, _jit_compiled_convolution_op, _jit_compiled_convolution_op, _jit_compiled_convolution_op, _jit_compiled_convolution_op while saving (showing 5 of 459). These functions will not be directly callable after loading.\n"
     ]
    },
    {
     "name": "stdout",
     "output_type": "stream",
     "text": [
      "289/289 [==============================] - 254s 880ms/step - loss: 0.9151 - acc: 0.9988 - val_loss: 0.9290 - val_acc: 0.9779\n",
      "Epoch 43/400\n",
      "289/289 [==============================] - ETA: 0s - loss: 0.9091 - acc: 0.9987"
     ]
    },
    {
     "name": "stderr",
     "output_type": "stream",
     "text": [
      "WARNING:absl:Found untraced functions such as _jit_compiled_convolution_op, _jit_compiled_convolution_op, _jit_compiled_convolution_op, _jit_compiled_convolution_op, _jit_compiled_convolution_op while saving (showing 5 of 459). These functions will not be directly callable after loading.\n"
     ]
    },
    {
     "name": "stdout",
     "output_type": "stream",
     "text": [
      "289/289 [==============================] - 251s 870ms/step - loss: 0.9091 - acc: 0.9987 - val_loss: 0.9221 - val_acc: 0.9775\n",
      "Epoch 44/400\n",
      "289/289 [==============================] - ETA: 0s - loss: 0.9032 - acc: 0.9988"
     ]
    },
    {
     "name": "stderr",
     "output_type": "stream",
     "text": [
      "WARNING:absl:Found untraced functions such as _jit_compiled_convolution_op, _jit_compiled_convolution_op, _jit_compiled_convolution_op, _jit_compiled_convolution_op, _jit_compiled_convolution_op while saving (showing 5 of 459). These functions will not be directly callable after loading.\n"
     ]
    },
    {
     "name": "stdout",
     "output_type": "stream",
     "text": [
      "289/289 [==============================] - 249s 862ms/step - loss: 0.9032 - acc: 0.9988 - val_loss: 0.9147 - val_acc: 0.9789\n",
      "Epoch 45/400\n",
      "289/289 [==============================] - ETA: 0s - loss: 0.8972 - acc: 0.9988"
     ]
    },
    {
     "name": "stderr",
     "output_type": "stream",
     "text": [
      "WARNING:absl:Found untraced functions such as _jit_compiled_convolution_op, _jit_compiled_convolution_op, _jit_compiled_convolution_op, _jit_compiled_convolution_op, _jit_compiled_convolution_op while saving (showing 5 of 459). These functions will not be directly callable after loading.\n"
     ]
    },
    {
     "name": "stdout",
     "output_type": "stream",
     "text": [
      "289/289 [==============================] - 250s 867ms/step - loss: 0.8972 - acc: 0.9988 - val_loss: 0.9068 - val_acc: 0.9799\n",
      "Epoch 46/400\n",
      "289/289 [==============================] - ETA: 0s - loss: 0.8912 - acc: 0.9988"
     ]
    },
    {
     "name": "stderr",
     "output_type": "stream",
     "text": [
      "WARNING:absl:Found untraced functions such as _jit_compiled_convolution_op, _jit_compiled_convolution_op, _jit_compiled_convolution_op, _jit_compiled_convolution_op, _jit_compiled_convolution_op while saving (showing 5 of 459). These functions will not be directly callable after loading.\n"
     ]
    },
    {
     "name": "stdout",
     "output_type": "stream",
     "text": [
      "289/289 [==============================] - 246s 853ms/step - loss: 0.8912 - acc: 0.9988 - val_loss: 0.9026 - val_acc: 0.9798\n",
      "Epoch 47/400\n",
      "289/289 [==============================] - ETA: 0s - loss: 0.8853 - acc: 0.9988"
     ]
    },
    {
     "name": "stderr",
     "output_type": "stream",
     "text": [
      "WARNING:absl:Found untraced functions such as _jit_compiled_convolution_op, _jit_compiled_convolution_op, _jit_compiled_convolution_op, _jit_compiled_convolution_op, _jit_compiled_convolution_op while saving (showing 5 of 459). These functions will not be directly callable after loading.\n"
     ]
    },
    {
     "name": "stdout",
     "output_type": "stream",
     "text": [
      "289/289 [==============================] - 248s 859ms/step - loss: 0.8853 - acc: 0.9988 - val_loss: 0.8956 - val_acc: 0.9797\n",
      "Epoch 48/400\n",
      "289/289 [==============================] - ETA: 0s - loss: 0.8794 - acc: 0.9989"
     ]
    },
    {
     "name": "stderr",
     "output_type": "stream",
     "text": [
      "WARNING:absl:Found untraced functions such as _jit_compiled_convolution_op, _jit_compiled_convolution_op, _jit_compiled_convolution_op, _jit_compiled_convolution_op, _jit_compiled_convolution_op while saving (showing 5 of 459). These functions will not be directly callable after loading.\n"
     ]
    },
    {
     "name": "stdout",
     "output_type": "stream",
     "text": [
      "289/289 [==============================] - 245s 850ms/step - loss: 0.8794 - acc: 0.9989 - val_loss: 0.8882 - val_acc: 0.9811\n",
      "Epoch 49/400\n",
      "289/289 [==============================] - ETA: 0s - loss: 0.8735 - acc: 0.9989"
     ]
    },
    {
     "name": "stderr",
     "output_type": "stream",
     "text": [
      "WARNING:absl:Found untraced functions such as _jit_compiled_convolution_op, _jit_compiled_convolution_op, _jit_compiled_convolution_op, _jit_compiled_convolution_op, _jit_compiled_convolution_op while saving (showing 5 of 459). These functions will not be directly callable after loading.\n"
     ]
    },
    {
     "name": "stdout",
     "output_type": "stream",
     "text": [
      "289/289 [==============================] - 250s 865ms/step - loss: 0.8735 - acc: 0.9989 - val_loss: 0.8874 - val_acc: 0.9788\n",
      "Epoch 50/400\n",
      "289/289 [==============================] - ETA: 0s - loss: 0.8677 - acc: 0.9989"
     ]
    },
    {
     "name": "stderr",
     "output_type": "stream",
     "text": [
      "WARNING:absl:Found untraced functions such as _jit_compiled_convolution_op, _jit_compiled_convolution_op, _jit_compiled_convolution_op, _jit_compiled_convolution_op, _jit_compiled_convolution_op while saving (showing 5 of 459). These functions will not be directly callable after loading.\n"
     ]
    },
    {
     "name": "stdout",
     "output_type": "stream",
     "text": [
      "289/289 [==============================] - 247s 856ms/step - loss: 0.8677 - acc: 0.9989 - val_loss: 0.8758 - val_acc: 0.9817\n",
      "Epoch 51/400\n",
      "289/289 [==============================] - ETA: 0s - loss: 0.8618 - acc: 0.9989"
     ]
    },
    {
     "name": "stderr",
     "output_type": "stream",
     "text": [
      "WARNING:absl:Found untraced functions such as _jit_compiled_convolution_op, _jit_compiled_convolution_op, _jit_compiled_convolution_op, _jit_compiled_convolution_op, _jit_compiled_convolution_op while saving (showing 5 of 459). These functions will not be directly callable after loading.\n"
     ]
    },
    {
     "name": "stdout",
     "output_type": "stream",
     "text": [
      "289/289 [==============================] - 248s 859ms/step - loss: 0.8618 - acc: 0.9989 - val_loss: 0.8750 - val_acc: 0.9794\n",
      "Epoch 52/400\n",
      "289/289 [==============================] - ETA: 0s - loss: 0.8560 - acc: 0.9989"
     ]
    },
    {
     "name": "stderr",
     "output_type": "stream",
     "text": [
      "WARNING:absl:Found untraced functions such as _jit_compiled_convolution_op, _jit_compiled_convolution_op, _jit_compiled_convolution_op, _jit_compiled_convolution_op, _jit_compiled_convolution_op while saving (showing 5 of 459). These functions will not be directly callable after loading.\n"
     ]
    },
    {
     "name": "stdout",
     "output_type": "stream",
     "text": [
      "289/289 [==============================] - 247s 856ms/step - loss: 0.8560 - acc: 0.9989 - val_loss: 0.8659 - val_acc: 0.9809\n",
      "Epoch 53/400\n",
      "289/289 [==============================] - 170s 588ms/step - loss: 0.8502 - acc: 0.9989 - val_loss: 0.8673 - val_acc: 0.9766\n",
      "Epoch 54/400\n",
      "289/289 [==============================] - ETA: 0s - loss: 0.8444 - acc: 0.9989"
     ]
    },
    {
     "name": "stderr",
     "output_type": "stream",
     "text": [
      "WARNING:absl:Found untraced functions such as _jit_compiled_convolution_op, _jit_compiled_convolution_op, _jit_compiled_convolution_op, _jit_compiled_convolution_op, _jit_compiled_convolution_op while saving (showing 5 of 459). These functions will not be directly callable after loading.\n"
     ]
    },
    {
     "name": "stdout",
     "output_type": "stream",
     "text": [
      "289/289 [==============================] - 248s 858ms/step - loss: 0.8444 - acc: 0.9989 - val_loss: 0.8546 - val_acc: 0.9806\n",
      "Epoch 55/400\n",
      "289/289 [==============================] - ETA: 0s - loss: 0.8386 - acc: 0.9989"
     ]
    },
    {
     "name": "stderr",
     "output_type": "stream",
     "text": [
      "WARNING:absl:Found untraced functions such as _jit_compiled_convolution_op, _jit_compiled_convolution_op, _jit_compiled_convolution_op, _jit_compiled_convolution_op, _jit_compiled_convolution_op while saving (showing 5 of 459). These functions will not be directly callable after loading.\n"
     ]
    },
    {
     "name": "stdout",
     "output_type": "stream",
     "text": [
      "289/289 [==============================] - 250s 864ms/step - loss: 0.8386 - acc: 0.9989 - val_loss: 0.8513 - val_acc: 0.9784\n",
      "Epoch 56/400\n",
      "289/289 [==============================] - ETA: 0s - loss: 0.8329 - acc: 0.9990"
     ]
    },
    {
     "name": "stderr",
     "output_type": "stream",
     "text": [
      "WARNING:absl:Found untraced functions such as _jit_compiled_convolution_op, _jit_compiled_convolution_op, _jit_compiled_convolution_op, _jit_compiled_convolution_op, _jit_compiled_convolution_op while saving (showing 5 of 459). These functions will not be directly callable after loading.\n"
     ]
    },
    {
     "name": "stdout",
     "output_type": "stream",
     "text": [
      "289/289 [==============================] - 246s 853ms/step - loss: 0.8329 - acc: 0.9990 - val_loss: 0.8408 - val_acc: 0.9823\n",
      "Epoch 57/400\n",
      "289/289 [==============================] - ETA: 0s - loss: 0.8271 - acc: 0.9990"
     ]
    },
    {
     "name": "stderr",
     "output_type": "stream",
     "text": [
      "WARNING:absl:Found untraced functions such as _jit_compiled_convolution_op, _jit_compiled_convolution_op, _jit_compiled_convolution_op, _jit_compiled_convolution_op, _jit_compiled_convolution_op while saving (showing 5 of 459). These functions will not be directly callable after loading.\n"
     ]
    },
    {
     "name": "stdout",
     "output_type": "stream",
     "text": [
      "289/289 [==============================] - 249s 863ms/step - loss: 0.8271 - acc: 0.9990 - val_loss: 0.8348 - val_acc: 0.9825\n",
      "Epoch 58/400\n",
      "289/289 [==============================] - ETA: 0s - loss: 0.8214 - acc: 0.9990"
     ]
    },
    {
     "name": "stderr",
     "output_type": "stream",
     "text": [
      "WARNING:absl:Found untraced functions such as _jit_compiled_convolution_op, _jit_compiled_convolution_op, _jit_compiled_convolution_op, _jit_compiled_convolution_op, _jit_compiled_convolution_op while saving (showing 5 of 459). These functions will not be directly callable after loading.\n"
     ]
    },
    {
     "name": "stdout",
     "output_type": "stream",
     "text": [
      "289/289 [==============================] - 252s 873ms/step - loss: 0.8214 - acc: 0.9990 - val_loss: 0.8299 - val_acc: 0.9823\n",
      "Epoch 59/400\n",
      "289/289 [==============================] - ETA: 0s - loss: 0.8157 - acc: 0.9991"
     ]
    },
    {
     "name": "stderr",
     "output_type": "stream",
     "text": [
      "WARNING:absl:Found untraced functions such as _jit_compiled_convolution_op, _jit_compiled_convolution_op, _jit_compiled_convolution_op, _jit_compiled_convolution_op, _jit_compiled_convolution_op while saving (showing 5 of 459). These functions will not be directly callable after loading.\n"
     ]
    },
    {
     "name": "stdout",
     "output_type": "stream",
     "text": [
      "289/289 [==============================] - 247s 856ms/step - loss: 0.8157 - acc: 0.9991 - val_loss: 0.8227 - val_acc: 0.9836\n",
      "Epoch 60/400\n",
      "289/289 [==============================] - 170s 587ms/step - loss: 0.8101 - acc: 0.9991 - val_loss: 0.8247 - val_acc: 0.9778\n",
      "Epoch 61/400\n",
      "289/289 [==============================] - ETA: 0s - loss: 0.8044 - acc: 0.9991"
     ]
    },
    {
     "name": "stderr",
     "output_type": "stream",
     "text": [
      "WARNING:absl:Found untraced functions such as _jit_compiled_convolution_op, _jit_compiled_convolution_op, _jit_compiled_convolution_op, _jit_compiled_convolution_op, _jit_compiled_convolution_op while saving (showing 5 of 459). These functions will not be directly callable after loading.\n"
     ]
    },
    {
     "name": "stdout",
     "output_type": "stream",
     "text": [
      "289/289 [==============================] - 245s 849ms/step - loss: 0.8044 - acc: 0.9991 - val_loss: 0.8171 - val_acc: 0.9801\n",
      "Epoch 62/400\n",
      "289/289 [==============================] - ETA: 0s - loss: 0.7988 - acc: 0.9991"
     ]
    },
    {
     "name": "stderr",
     "output_type": "stream",
     "text": [
      "WARNING:absl:Found untraced functions such as _jit_compiled_convolution_op, _jit_compiled_convolution_op, _jit_compiled_convolution_op, _jit_compiled_convolution_op, _jit_compiled_convolution_op while saving (showing 5 of 459). These functions will not be directly callable after loading.\n"
     ]
    },
    {
     "name": "stdout",
     "output_type": "stream",
     "text": [
      "289/289 [==============================] - 245s 847ms/step - loss: 0.7988 - acc: 0.9991 - val_loss: 0.8103 - val_acc: 0.9802\n",
      "Epoch 63/400\n",
      "289/289 [==============================] - ETA: 0s - loss: 0.7932 - acc: 0.9991"
     ]
    },
    {
     "name": "stderr",
     "output_type": "stream",
     "text": [
      "WARNING:absl:Found untraced functions such as _jit_compiled_convolution_op, _jit_compiled_convolution_op, _jit_compiled_convolution_op, _jit_compiled_convolution_op, _jit_compiled_convolution_op while saving (showing 5 of 459). These functions will not be directly callable after loading.\n"
     ]
    },
    {
     "name": "stdout",
     "output_type": "stream",
     "text": [
      "289/289 [==============================] - 251s 871ms/step - loss: 0.7932 - acc: 0.9991 - val_loss: 0.8040 - val_acc: 0.9809\n",
      "Epoch 64/400\n",
      "289/289 [==============================] - ETA: 0s - loss: 0.7876 - acc: 0.9991"
     ]
    },
    {
     "name": "stderr",
     "output_type": "stream",
     "text": [
      "WARNING:absl:Found untraced functions such as _jit_compiled_convolution_op, _jit_compiled_convolution_op, _jit_compiled_convolution_op, _jit_compiled_convolution_op, _jit_compiled_convolution_op while saving (showing 5 of 459). These functions will not be directly callable after loading.\n"
     ]
    },
    {
     "name": "stdout",
     "output_type": "stream",
     "text": [
      "289/289 [==============================] - 245s 847ms/step - loss: 0.7876 - acc: 0.9991 - val_loss: 0.8018 - val_acc: 0.9800\n",
      "Epoch 65/400\n",
      "289/289 [==============================] - ETA: 0s - loss: 0.7820 - acc: 0.9992"
     ]
    },
    {
     "name": "stderr",
     "output_type": "stream",
     "text": [
      "WARNING:absl:Found untraced functions such as _jit_compiled_convolution_op, _jit_compiled_convolution_op, _jit_compiled_convolution_op, _jit_compiled_convolution_op, _jit_compiled_convolution_op while saving (showing 5 of 459). These functions will not be directly callable after loading.\n"
     ]
    },
    {
     "name": "stdout",
     "output_type": "stream",
     "text": [
      "289/289 [==============================] - 250s 868ms/step - loss: 0.7820 - acc: 0.9992 - val_loss: 0.7940 - val_acc: 0.9804\n",
      "Epoch 66/400\n",
      "289/289 [==============================] - ETA: 0s - loss: 0.7765 - acc: 0.9992"
     ]
    },
    {
     "name": "stderr",
     "output_type": "stream",
     "text": [
      "WARNING:absl:Found untraced functions such as _jit_compiled_convolution_op, _jit_compiled_convolution_op, _jit_compiled_convolution_op, _jit_compiled_convolution_op, _jit_compiled_convolution_op while saving (showing 5 of 459). These functions will not be directly callable after loading.\n"
     ]
    },
    {
     "name": "stdout",
     "output_type": "stream",
     "text": [
      "289/289 [==============================] - 246s 851ms/step - loss: 0.7765 - acc: 0.9992 - val_loss: 0.7858 - val_acc: 0.9825\n",
      "Epoch 67/400\n",
      "289/289 [==============================] - ETA: 0s - loss: 0.7710 - acc: 0.9992"
     ]
    },
    {
     "name": "stderr",
     "output_type": "stream",
     "text": [
      "WARNING:absl:Found untraced functions such as _jit_compiled_convolution_op, _jit_compiled_convolution_op, _jit_compiled_convolution_op, _jit_compiled_convolution_op, _jit_compiled_convolution_op while saving (showing 5 of 459). These functions will not be directly callable after loading.\n"
     ]
    },
    {
     "name": "stdout",
     "output_type": "stream",
     "text": [
      "289/289 [==============================] - 246s 852ms/step - loss: 0.7710 - acc: 0.9992 - val_loss: 0.7831 - val_acc: 0.9809\n",
      "Epoch 68/400\n",
      "289/289 [==============================] - ETA: 0s - loss: 0.7654 - acc: 0.9992"
     ]
    },
    {
     "name": "stderr",
     "output_type": "stream",
     "text": [
      "WARNING:absl:Found untraced functions such as _jit_compiled_convolution_op, _jit_compiled_convolution_op, _jit_compiled_convolution_op, _jit_compiled_convolution_op, _jit_compiled_convolution_op while saving (showing 5 of 459). These functions will not be directly callable after loading.\n"
     ]
    },
    {
     "name": "stdout",
     "output_type": "stream",
     "text": [
      "289/289 [==============================] - 249s 864ms/step - loss: 0.7654 - acc: 0.9992 - val_loss: 0.7781 - val_acc: 0.9813\n",
      "Epoch 69/400\n",
      "289/289 [==============================] - ETA: 0s - loss: 0.7600 - acc: 0.9992"
     ]
    },
    {
     "name": "stderr",
     "output_type": "stream",
     "text": [
      "WARNING:absl:Found untraced functions such as _jit_compiled_convolution_op, _jit_compiled_convolution_op, _jit_compiled_convolution_op, _jit_compiled_convolution_op, _jit_compiled_convolution_op while saving (showing 5 of 459). These functions will not be directly callable after loading.\n"
     ]
    },
    {
     "name": "stdout",
     "output_type": "stream",
     "text": [
      "289/289 [==============================] - 248s 861ms/step - loss: 0.7600 - acc: 0.9992 - val_loss: 0.7741 - val_acc: 0.9801\n",
      "Epoch 70/400\n",
      "289/289 [==============================] - ETA: 0s - loss: 0.7545 - acc: 0.9992"
     ]
    },
    {
     "name": "stderr",
     "output_type": "stream",
     "text": [
      "WARNING:absl:Found untraced functions such as _jit_compiled_convolution_op, _jit_compiled_convolution_op, _jit_compiled_convolution_op, _jit_compiled_convolution_op, _jit_compiled_convolution_op while saving (showing 5 of 459). These functions will not be directly callable after loading.\n"
     ]
    },
    {
     "name": "stdout",
     "output_type": "stream",
     "text": [
      "289/289 [==============================] - 246s 852ms/step - loss: 0.7545 - acc: 0.9992 - val_loss: 0.7665 - val_acc: 0.9808\n",
      "Epoch 71/400\n",
      "289/289 [==============================] - ETA: 0s - loss: 0.7490 - acc: 0.9992"
     ]
    },
    {
     "name": "stderr",
     "output_type": "stream",
     "text": [
      "WARNING:absl:Found untraced functions such as _jit_compiled_convolution_op, _jit_compiled_convolution_op, _jit_compiled_convolution_op, _jit_compiled_convolution_op, _jit_compiled_convolution_op while saving (showing 5 of 459). These functions will not be directly callable after loading.\n"
     ]
    },
    {
     "name": "stdout",
     "output_type": "stream",
     "text": [
      "289/289 [==============================] - 248s 858ms/step - loss: 0.7490 - acc: 0.9992 - val_loss: 0.7567 - val_acc: 0.9843\n",
      "Epoch 72/400\n",
      "289/289 [==============================] - 166s 576ms/step - loss: 0.7436 - acc: 0.9992 - val_loss: 0.7579 - val_acc: 0.9799\n",
      "Epoch 73/400\n",
      "289/289 [==============================] - ETA: 0s - loss: 0.7382 - acc: 0.9993"
     ]
    },
    {
     "name": "stderr",
     "output_type": "stream",
     "text": [
      "WARNING:absl:Found untraced functions such as _jit_compiled_convolution_op, _jit_compiled_convolution_op, _jit_compiled_convolution_op, _jit_compiled_convolution_op, _jit_compiled_convolution_op while saving (showing 5 of 459). These functions will not be directly callable after loading.\n"
     ]
    },
    {
     "name": "stdout",
     "output_type": "stream",
     "text": [
      "289/289 [==============================] - 252s 873ms/step - loss: 0.7382 - acc: 0.9993 - val_loss: 0.7478 - val_acc: 0.9829\n",
      "Epoch 74/400\n",
      "289/289 [==============================] - ETA: 0s - loss: 0.7328 - acc: 0.9993"
     ]
    },
    {
     "name": "stderr",
     "output_type": "stream",
     "text": [
      "WARNING:absl:Found untraced functions such as _jit_compiled_convolution_op, _jit_compiled_convolution_op, _jit_compiled_convolution_op, _jit_compiled_convolution_op, _jit_compiled_convolution_op while saving (showing 5 of 459). These functions will not be directly callable after loading.\n"
     ]
    },
    {
     "name": "stdout",
     "output_type": "stream",
     "text": [
      "289/289 [==============================] - 248s 859ms/step - loss: 0.7328 - acc: 0.9993 - val_loss: 0.7449 - val_acc: 0.9811\n",
      "Epoch 75/400\n",
      "289/289 [==============================] - ETA: 0s - loss: 0.7275 - acc: 0.9993"
     ]
    },
    {
     "name": "stderr",
     "output_type": "stream",
     "text": [
      "WARNING:absl:Found untraced functions such as _jit_compiled_convolution_op, _jit_compiled_convolution_op, _jit_compiled_convolution_op, _jit_compiled_convolution_op, _jit_compiled_convolution_op while saving (showing 5 of 459). These functions will not be directly callable after loading.\n"
     ]
    },
    {
     "name": "stdout",
     "output_type": "stream",
     "text": [
      "289/289 [==============================] - 250s 866ms/step - loss: 0.7275 - acc: 0.9993 - val_loss: 0.7439 - val_acc: 0.9796\n",
      "Epoch 76/400\n",
      "289/289 [==============================] - ETA: 0s - loss: 0.7221 - acc: 0.9993"
     ]
    },
    {
     "name": "stderr",
     "output_type": "stream",
     "text": [
      "WARNING:absl:Found untraced functions such as _jit_compiled_convolution_op, _jit_compiled_convolution_op, _jit_compiled_convolution_op, _jit_compiled_convolution_op, _jit_compiled_convolution_op while saving (showing 5 of 459). These functions will not be directly callable after loading.\n"
     ]
    },
    {
     "name": "stdout",
     "output_type": "stream",
     "text": [
      "289/289 [==============================] - 250s 866ms/step - loss: 0.7221 - acc: 0.9993 - val_loss: 0.7405 - val_acc: 0.9780\n",
      "Epoch 77/400\n",
      "289/289 [==============================] - ETA: 0s - loss: 0.7168 - acc: 0.9993"
     ]
    },
    {
     "name": "stderr",
     "output_type": "stream",
     "text": [
      "WARNING:absl:Found untraced functions such as _jit_compiled_convolution_op, _jit_compiled_convolution_op, _jit_compiled_convolution_op, _jit_compiled_convolution_op, _jit_compiled_convolution_op while saving (showing 5 of 459). These functions will not be directly callable after loading.\n"
     ]
    },
    {
     "name": "stdout",
     "output_type": "stream",
     "text": [
      "289/289 [==============================] - 249s 861ms/step - loss: 0.7168 - acc: 0.9993 - val_loss: 0.7285 - val_acc: 0.9829\n",
      "Epoch 78/400\n",
      "289/289 [==============================] - ETA: 0s - loss: 0.7115 - acc: 0.9994"
     ]
    },
    {
     "name": "stderr",
     "output_type": "stream",
     "text": [
      "WARNING:absl:Found untraced functions such as _jit_compiled_convolution_op, _jit_compiled_convolution_op, _jit_compiled_convolution_op, _jit_compiled_convolution_op, _jit_compiled_convolution_op while saving (showing 5 of 459). These functions will not be directly callable after loading.\n"
     ]
    },
    {
     "name": "stdout",
     "output_type": "stream",
     "text": [
      "289/289 [==============================] - 250s 867ms/step - loss: 0.7115 - acc: 0.9994 - val_loss: 0.7247 - val_acc: 0.9818\n",
      "Epoch 79/400\n",
      "289/289 [==============================] - ETA: 0s - loss: 0.7062 - acc: 0.9993"
     ]
    },
    {
     "name": "stderr",
     "output_type": "stream",
     "text": [
      "WARNING:absl:Found untraced functions such as _jit_compiled_convolution_op, _jit_compiled_convolution_op, _jit_compiled_convolution_op, _jit_compiled_convolution_op, _jit_compiled_convolution_op while saving (showing 5 of 459). These functions will not be directly callable after loading.\n"
     ]
    },
    {
     "name": "stdout",
     "output_type": "stream",
     "text": [
      "289/289 [==============================] - 247s 854ms/step - loss: 0.7062 - acc: 0.9993 - val_loss: 0.7171 - val_acc: 0.9829\n",
      "Epoch 80/400\n",
      "289/289 [==============================] - 167s 578ms/step - loss: 0.7009 - acc: 0.9993 - val_loss: 0.7189 - val_acc: 0.9788\n",
      "Epoch 81/400\n",
      "289/289 [==============================] - ETA: 0s - loss: 0.6957 - acc: 0.9994"
     ]
    },
    {
     "name": "stderr",
     "output_type": "stream",
     "text": [
      "WARNING:absl:Found untraced functions such as _jit_compiled_convolution_op, _jit_compiled_convolution_op, _jit_compiled_convolution_op, _jit_compiled_convolution_op, _jit_compiled_convolution_op while saving (showing 5 of 459). These functions will not be directly callable after loading.\n"
     ]
    },
    {
     "name": "stdout",
     "output_type": "stream",
     "text": [
      "289/289 [==============================] - 248s 858ms/step - loss: 0.6957 - acc: 0.9994 - val_loss: 0.7079 - val_acc: 0.9827\n",
      "Epoch 82/400\n",
      "289/289 [==============================] - 170s 588ms/step - loss: 0.6904 - acc: 0.9994 - val_loss: 0.7106 - val_acc: 0.9792\n",
      "Epoch 83/400\n",
      "289/289 [==============================] - ETA: 0s - loss: 0.6852 - acc: 0.9994"
     ]
    },
    {
     "name": "stderr",
     "output_type": "stream",
     "text": [
      "WARNING:absl:Found untraced functions such as _jit_compiled_convolution_op, _jit_compiled_convolution_op, _jit_compiled_convolution_op, _jit_compiled_convolution_op, _jit_compiled_convolution_op while saving (showing 5 of 459). These functions will not be directly callable after loading.\n"
     ]
    },
    {
     "name": "stdout",
     "output_type": "stream",
     "text": [
      "289/289 [==============================] - 249s 863ms/step - loss: 0.6852 - acc: 0.9994 - val_loss: 0.6998 - val_acc: 0.9811\n",
      "Epoch 84/400\n",
      "289/289 [==============================] - ETA: 0s - loss: 0.6801 - acc: 0.9994"
     ]
    },
    {
     "name": "stderr",
     "output_type": "stream",
     "text": [
      "WARNING:absl:Found untraced functions such as _jit_compiled_convolution_op, _jit_compiled_convolution_op, _jit_compiled_convolution_op, _jit_compiled_convolution_op, _jit_compiled_convolution_op while saving (showing 5 of 459). These functions will not be directly callable after loading.\n"
     ]
    },
    {
     "name": "stdout",
     "output_type": "stream",
     "text": [
      "289/289 [==============================] - 249s 861ms/step - loss: 0.6801 - acc: 0.9994 - val_loss: 0.6920 - val_acc: 0.9833\n",
      "Epoch 85/400\n",
      "289/289 [==============================] - 170s 587ms/step - loss: 0.6749 - acc: 0.9994 - val_loss: 0.6921 - val_acc: 0.9806\n",
      "Epoch 86/400\n",
      "289/289 [==============================] - ETA: 0s - loss: 0.6698 - acc: 0.9994"
     ]
    },
    {
     "name": "stderr",
     "output_type": "stream",
     "text": [
      "WARNING:absl:Found untraced functions such as _jit_compiled_convolution_op, _jit_compiled_convolution_op, _jit_compiled_convolution_op, _jit_compiled_convolution_op, _jit_compiled_convolution_op while saving (showing 5 of 459). These functions will not be directly callable after loading.\n"
     ]
    },
    {
     "name": "stdout",
     "output_type": "stream",
     "text": [
      "289/289 [==============================] - 248s 859ms/step - loss: 0.6698 - acc: 0.9994 - val_loss: 0.6825 - val_acc: 0.9830\n",
      "Epoch 87/400\n",
      "289/289 [==============================] - ETA: 0s - loss: 0.6647 - acc: 0.9994"
     ]
    },
    {
     "name": "stderr",
     "output_type": "stream",
     "text": [
      "WARNING:absl:Found untraced functions such as _jit_compiled_convolution_op, _jit_compiled_convolution_op, _jit_compiled_convolution_op, _jit_compiled_convolution_op, _jit_compiled_convolution_op while saving (showing 5 of 459). These functions will not be directly callable after loading.\n"
     ]
    },
    {
     "name": "stdout",
     "output_type": "stream",
     "text": [
      "289/289 [==============================] - 254s 881ms/step - loss: 0.6647 - acc: 0.9994 - val_loss: 0.6790 - val_acc: 0.9825\n",
      "Epoch 88/400\n",
      "289/289 [==============================] - ETA: 0s - loss: 0.6596 - acc: 0.9994"
     ]
    },
    {
     "name": "stderr",
     "output_type": "stream",
     "text": [
      "WARNING:absl:Found untraced functions such as _jit_compiled_convolution_op, _jit_compiled_convolution_op, _jit_compiled_convolution_op, _jit_compiled_convolution_op, _jit_compiled_convolution_op while saving (showing 5 of 459). These functions will not be directly callable after loading.\n"
     ]
    },
    {
     "name": "stdout",
     "output_type": "stream",
     "text": [
      "289/289 [==============================] - 253s 877ms/step - loss: 0.6596 - acc: 0.9994 - val_loss: 0.6767 - val_acc: 0.9808\n",
      "Epoch 89/400\n",
      "289/289 [==============================] - ETA: 0s - loss: 0.6545 - acc: 0.9994"
     ]
    },
    {
     "name": "stderr",
     "output_type": "stream",
     "text": [
      "WARNING:absl:Found untraced functions such as _jit_compiled_convolution_op, _jit_compiled_convolution_op, _jit_compiled_convolution_op, _jit_compiled_convolution_op, _jit_compiled_convolution_op while saving (showing 5 of 459). These functions will not be directly callable after loading.\n"
     ]
    },
    {
     "name": "stdout",
     "output_type": "stream",
     "text": [
      "289/289 [==============================] - 249s 862ms/step - loss: 0.6545 - acc: 0.9994 - val_loss: 0.6704 - val_acc: 0.9816\n",
      "Epoch 90/400\n",
      "289/289 [==============================] - ETA: 0s - loss: 0.6494 - acc: 0.9995"
     ]
    },
    {
     "name": "stderr",
     "output_type": "stream",
     "text": [
      "WARNING:absl:Found untraced functions such as _jit_compiled_convolution_op, _jit_compiled_convolution_op, _jit_compiled_convolution_op, _jit_compiled_convolution_op, _jit_compiled_convolution_op while saving (showing 5 of 459). These functions will not be directly callable after loading.\n"
     ]
    },
    {
     "name": "stdout",
     "output_type": "stream",
     "text": [
      "289/289 [==============================] - 251s 870ms/step - loss: 0.6494 - acc: 0.9995 - val_loss: 0.6652 - val_acc: 0.9811\n",
      "Epoch 91/400\n",
      "289/289 [==============================] - ETA: 0s - loss: 0.6444 - acc: 0.9994"
     ]
    },
    {
     "name": "stderr",
     "output_type": "stream",
     "text": [
      "WARNING:absl:Found untraced functions such as _jit_compiled_convolution_op, _jit_compiled_convolution_op, _jit_compiled_convolution_op, _jit_compiled_convolution_op, _jit_compiled_convolution_op while saving (showing 5 of 459). These functions will not be directly callable after loading.\n"
     ]
    },
    {
     "name": "stdout",
     "output_type": "stream",
     "text": [
      "289/289 [==============================] - 253s 875ms/step - loss: 0.6444 - acc: 0.9994 - val_loss: 0.6606 - val_acc: 0.9821\n",
      "Epoch 92/400\n",
      "289/289 [==============================] - ETA: 0s - loss: 0.6394 - acc: 0.9995"
     ]
    },
    {
     "name": "stderr",
     "output_type": "stream",
     "text": [
      "WARNING:absl:Found untraced functions such as _jit_compiled_convolution_op, _jit_compiled_convolution_op, _jit_compiled_convolution_op, _jit_compiled_convolution_op, _jit_compiled_convolution_op while saving (showing 5 of 459). These functions will not be directly callable after loading.\n"
     ]
    },
    {
     "name": "stdout",
     "output_type": "stream",
     "text": [
      "289/289 [==============================] - 246s 852ms/step - loss: 0.6394 - acc: 0.9995 - val_loss: 0.6547 - val_acc: 0.9815\n",
      "Epoch 93/400\n",
      "289/289 [==============================] - ETA: 0s - loss: 0.6344 - acc: 0.9995"
     ]
    },
    {
     "name": "stderr",
     "output_type": "stream",
     "text": [
      "WARNING:absl:Found untraced functions such as _jit_compiled_convolution_op, _jit_compiled_convolution_op, _jit_compiled_convolution_op, _jit_compiled_convolution_op, _jit_compiled_convolution_op while saving (showing 5 of 459). These functions will not be directly callable after loading.\n"
     ]
    },
    {
     "name": "stdout",
     "output_type": "stream",
     "text": [
      "289/289 [==============================] - 254s 879ms/step - loss: 0.6344 - acc: 0.9995 - val_loss: 0.6497 - val_acc: 0.9826\n",
      "Epoch 94/400\n",
      "289/289 [==============================] - ETA: 0s - loss: 0.6294 - acc: 0.9995"
     ]
    },
    {
     "name": "stderr",
     "output_type": "stream",
     "text": [
      "WARNING:absl:Found untraced functions such as _jit_compiled_convolution_op, _jit_compiled_convolution_op, _jit_compiled_convolution_op, _jit_compiled_convolution_op, _jit_compiled_convolution_op while saving (showing 5 of 459). These functions will not be directly callable after loading.\n"
     ]
    },
    {
     "name": "stdout",
     "output_type": "stream",
     "text": [
      "289/289 [==============================] - 249s 862ms/step - loss: 0.6294 - acc: 0.9995 - val_loss: 0.6421 - val_acc: 0.9842\n",
      "Epoch 95/400\n",
      "289/289 [==============================] - ETA: 0s - loss: 0.6245 - acc: 0.9995"
     ]
    },
    {
     "name": "stderr",
     "output_type": "stream",
     "text": [
      "WARNING:absl:Found untraced functions such as _jit_compiled_convolution_op, _jit_compiled_convolution_op, _jit_compiled_convolution_op, _jit_compiled_convolution_op, _jit_compiled_convolution_op while saving (showing 5 of 459). These functions will not be directly callable after loading.\n"
     ]
    },
    {
     "name": "stdout",
     "output_type": "stream",
     "text": [
      "289/289 [==============================] - 253s 875ms/step - loss: 0.6245 - acc: 0.9995 - val_loss: 0.6397 - val_acc: 0.9822\n",
      "Epoch 96/400\n",
      "289/289 [==============================] - 169s 584ms/step - loss: 0.6195 - acc: 0.9995 - val_loss: 0.6458 - val_acc: 0.9775\n",
      "Epoch 97/400\n",
      "289/289 [==============================] - ETA: 0s - loss: 0.6146 - acc: 0.9995"
     ]
    },
    {
     "name": "stderr",
     "output_type": "stream",
     "text": [
      "WARNING:absl:Found untraced functions such as _jit_compiled_convolution_op, _jit_compiled_convolution_op, _jit_compiled_convolution_op, _jit_compiled_convolution_op, _jit_compiled_convolution_op while saving (showing 5 of 459). These functions will not be directly callable after loading.\n"
     ]
    },
    {
     "name": "stdout",
     "output_type": "stream",
     "text": [
      "289/289 [==============================] - 249s 862ms/step - loss: 0.6146 - acc: 0.9995 - val_loss: 0.6283 - val_acc: 0.9836\n",
      "Epoch 98/400\n",
      "289/289 [==============================] - 168s 583ms/step - loss: 0.6097 - acc: 0.9995 - val_loss: 0.6289 - val_acc: 0.9804\n",
      "Epoch 99/400\n",
      "289/289 [==============================] - ETA: 0s - loss: 0.6048 - acc: 0.9995"
     ]
    },
    {
     "name": "stderr",
     "output_type": "stream",
     "text": [
      "WARNING:absl:Found untraced functions such as _jit_compiled_convolution_op, _jit_compiled_convolution_op, _jit_compiled_convolution_op, _jit_compiled_convolution_op, _jit_compiled_convolution_op while saving (showing 5 of 459). These functions will not be directly callable after loading.\n"
     ]
    },
    {
     "name": "stdout",
     "output_type": "stream",
     "text": [
      "289/289 [==============================] - 255s 884ms/step - loss: 0.6048 - acc: 0.9995 - val_loss: 0.6239 - val_acc: 0.9809\n",
      "Epoch 100/400\n",
      "289/289 [==============================] - ETA: 0s - loss: 0.6000 - acc: 0.9996"
     ]
    },
    {
     "name": "stderr",
     "output_type": "stream",
     "text": [
      "WARNING:absl:Found untraced functions such as _jit_compiled_convolution_op, _jit_compiled_convolution_op, _jit_compiled_convolution_op, _jit_compiled_convolution_op, _jit_compiled_convolution_op while saving (showing 5 of 459). These functions will not be directly callable after loading.\n"
     ]
    },
    {
     "name": "stdout",
     "output_type": "stream",
     "text": [
      "289/289 [==============================] - 258s 894ms/step - loss: 0.6000 - acc: 0.9996 - val_loss: 0.6205 - val_acc: 0.9806\n",
      "Epoch 101/400\n",
      "289/289 [==============================] - 166s 575ms/step - loss: 0.5951 - acc: 0.9996 - val_loss: 0.6207 - val_acc: 0.9781\n",
      "Epoch 102/400\n",
      "289/289 [==============================] - ETA: 0s - loss: 0.5903 - acc: 0.9995"
     ]
    },
    {
     "name": "stderr",
     "output_type": "stream",
     "text": [
      "WARNING:absl:Found untraced functions such as _jit_compiled_convolution_op, _jit_compiled_convolution_op, _jit_compiled_convolution_op, _jit_compiled_convolution_op, _jit_compiled_convolution_op while saving (showing 5 of 459). These functions will not be directly callable after loading.\n"
     ]
    },
    {
     "name": "stdout",
     "output_type": "stream",
     "text": [
      "289/289 [==============================] - 253s 878ms/step - loss: 0.5903 - acc: 0.9995 - val_loss: 0.6089 - val_acc: 0.9821\n",
      "Epoch 103/400\n",
      "289/289 [==============================] - ETA: 0s - loss: 0.5855 - acc: 0.9996"
     ]
    },
    {
     "name": "stderr",
     "output_type": "stream",
     "text": [
      "WARNING:absl:Found untraced functions such as _jit_compiled_convolution_op, _jit_compiled_convolution_op, _jit_compiled_convolution_op, _jit_compiled_convolution_op, _jit_compiled_convolution_op while saving (showing 5 of 459). These functions will not be directly callable after loading.\n"
     ]
    },
    {
     "name": "stdout",
     "output_type": "stream",
     "text": [
      "289/289 [==============================] - 255s 884ms/step - loss: 0.5855 - acc: 0.9996 - val_loss: 0.5995 - val_acc: 0.9837\n",
      "Epoch 104/400\n",
      "289/289 [==============================] - 174s 602ms/step - loss: 0.5808 - acc: 0.9996 - val_loss: 0.6015 - val_acc: 0.9803\n",
      "Epoch 105/400\n",
      "289/289 [==============================] - ETA: 0s - loss: 0.5760 - acc: 0.9996"
     ]
    },
    {
     "name": "stderr",
     "output_type": "stream",
     "text": [
      "WARNING:absl:Found untraced functions such as _jit_compiled_convolution_op, _jit_compiled_convolution_op, _jit_compiled_convolution_op, _jit_compiled_convolution_op, _jit_compiled_convolution_op while saving (showing 5 of 459). These functions will not be directly callable after loading.\n"
     ]
    },
    {
     "name": "stdout",
     "output_type": "stream",
     "text": [
      "289/289 [==============================] - 257s 892ms/step - loss: 0.5760 - acc: 0.9996 - val_loss: 0.5963 - val_acc: 0.9812\n",
      "Epoch 106/400\n",
      "289/289 [==============================] - ETA: 0s - loss: 0.5713 - acc: 0.9996"
     ]
    },
    {
     "name": "stderr",
     "output_type": "stream",
     "text": [
      "WARNING:absl:Found untraced functions such as _jit_compiled_convolution_op, _jit_compiled_convolution_op, _jit_compiled_convolution_op, _jit_compiled_convolution_op, _jit_compiled_convolution_op while saving (showing 5 of 459). These functions will not be directly callable after loading.\n"
     ]
    },
    {
     "name": "stdout",
     "output_type": "stream",
     "text": [
      "289/289 [==============================] - 254s 879ms/step - loss: 0.5713 - acc: 0.9996 - val_loss: 0.5910 - val_acc: 0.9812\n",
      "Epoch 107/400\n",
      "289/289 [==============================] - ETA: 0s - loss: 0.5665 - acc: 0.9996"
     ]
    },
    {
     "name": "stderr",
     "output_type": "stream",
     "text": [
      "WARNING:absl:Found untraced functions such as _jit_compiled_convolution_op, _jit_compiled_convolution_op, _jit_compiled_convolution_op, _jit_compiled_convolution_op, _jit_compiled_convolution_op while saving (showing 5 of 459). These functions will not be directly callable after loading.\n"
     ]
    },
    {
     "name": "stdout",
     "output_type": "stream",
     "text": [
      "289/289 [==============================] - 246s 852ms/step - loss: 0.5665 - acc: 0.9996 - val_loss: 0.5831 - val_acc: 0.9828\n",
      "Epoch 108/400\n",
      "289/289 [==============================] - ETA: 0s - loss: 0.5619 - acc: 0.9996"
     ]
    },
    {
     "name": "stderr",
     "output_type": "stream",
     "text": [
      "WARNING:absl:Found untraced functions such as _jit_compiled_convolution_op, _jit_compiled_convolution_op, _jit_compiled_convolution_op, _jit_compiled_convolution_op, _jit_compiled_convolution_op while saving (showing 5 of 459). These functions will not be directly callable after loading.\n"
     ]
    },
    {
     "name": "stdout",
     "output_type": "stream",
     "text": [
      "289/289 [==============================] - 252s 873ms/step - loss: 0.5619 - acc: 0.9996 - val_loss: 0.5786 - val_acc: 0.9827\n",
      "Epoch 109/400\n",
      "289/289 [==============================] - ETA: 0s - loss: 0.5572 - acc: 0.9996"
     ]
    },
    {
     "name": "stderr",
     "output_type": "stream",
     "text": [
      "WARNING:absl:Found untraced functions such as _jit_compiled_convolution_op, _jit_compiled_convolution_op, _jit_compiled_convolution_op, _jit_compiled_convolution_op, _jit_compiled_convolution_op while saving (showing 5 of 459). These functions will not be directly callable after loading.\n"
     ]
    },
    {
     "name": "stdout",
     "output_type": "stream",
     "text": [
      "289/289 [==============================] - 254s 879ms/step - loss: 0.5572 - acc: 0.9996 - val_loss: 0.5770 - val_acc: 0.9815\n",
      "Epoch 110/400\n",
      "289/289 [==============================] - ETA: 0s - loss: 0.5525 - acc: 0.9996"
     ]
    },
    {
     "name": "stderr",
     "output_type": "stream",
     "text": [
      "WARNING:absl:Found untraced functions such as _jit_compiled_convolution_op, _jit_compiled_convolution_op, _jit_compiled_convolution_op, _jit_compiled_convolution_op, _jit_compiled_convolution_op while saving (showing 5 of 459). These functions will not be directly callable after loading.\n"
     ]
    },
    {
     "name": "stdout",
     "output_type": "stream",
     "text": [
      "289/289 [==============================] - 250s 865ms/step - loss: 0.5525 - acc: 0.9996 - val_loss: 0.5758 - val_acc: 0.9806\n",
      "Epoch 111/400\n",
      "289/289 [==============================] - ETA: 0s - loss: 0.5479 - acc: 0.9996"
     ]
    },
    {
     "name": "stderr",
     "output_type": "stream",
     "text": [
      "WARNING:absl:Found untraced functions such as _jit_compiled_convolution_op, _jit_compiled_convolution_op, _jit_compiled_convolution_op, _jit_compiled_convolution_op, _jit_compiled_convolution_op while saving (showing 5 of 459). These functions will not be directly callable after loading.\n"
     ]
    },
    {
     "name": "stdout",
     "output_type": "stream",
     "text": [
      "289/289 [==============================] - 249s 864ms/step - loss: 0.5479 - acc: 0.9996 - val_loss: 0.5649 - val_acc: 0.9832\n",
      "Epoch 112/400\n",
      "289/289 [==============================] - 169s 586ms/step - loss: 0.5433 - acc: 0.9996 - val_loss: 0.5672 - val_acc: 0.9807\n",
      "Epoch 113/400\n",
      "289/289 [==============================] - ETA: 0s - loss: 0.5387 - acc: 0.9996"
     ]
    },
    {
     "name": "stderr",
     "output_type": "stream",
     "text": [
      "WARNING:absl:Found untraced functions such as _jit_compiled_convolution_op, _jit_compiled_convolution_op, _jit_compiled_convolution_op, _jit_compiled_convolution_op, _jit_compiled_convolution_op while saving (showing 5 of 459). These functions will not be directly callable after loading.\n"
     ]
    },
    {
     "name": "stdout",
     "output_type": "stream",
     "text": [
      "289/289 [==============================] - 249s 864ms/step - loss: 0.5387 - acc: 0.9996 - val_loss: 0.5646 - val_acc: 0.9796\n",
      "Epoch 114/400\n",
      "289/289 [==============================] - 166s 573ms/step - loss: 0.5341 - acc: 0.9996 - val_loss: 0.5652 - val_acc: 0.9773\n",
      "Epoch 115/400\n",
      "289/289 [==============================] - 168s 582ms/step - loss: 0.5295 - acc: 0.9996 - val_loss: 0.5673 - val_acc: 0.9765\n",
      "Epoch 116/400\n",
      "289/289 [==============================] - ETA: 0s - loss: 0.5250 - acc: 0.9997"
     ]
    },
    {
     "name": "stderr",
     "output_type": "stream",
     "text": [
      "WARNING:absl:Found untraced functions such as _jit_compiled_convolution_op, _jit_compiled_convolution_op, _jit_compiled_convolution_op, _jit_compiled_convolution_op, _jit_compiled_convolution_op while saving (showing 5 of 459). These functions will not be directly callable after loading.\n"
     ]
    },
    {
     "name": "stdout",
     "output_type": "stream",
     "text": [
      "289/289 [==============================] - 257s 891ms/step - loss: 0.5250 - acc: 0.9997 - val_loss: 0.5523 - val_acc: 0.9798\n",
      "Epoch 117/400\n",
      "289/289 [==============================] - ETA: 0s - loss: 0.5205 - acc: 0.9997"
     ]
    },
    {
     "name": "stderr",
     "output_type": "stream",
     "text": [
      "WARNING:absl:Found untraced functions such as _jit_compiled_convolution_op, _jit_compiled_convolution_op, _jit_compiled_convolution_op, _jit_compiled_convolution_op, _jit_compiled_convolution_op while saving (showing 5 of 459). These functions will not be directly callable after loading.\n"
     ]
    },
    {
     "name": "stdout",
     "output_type": "stream",
     "text": [
      "289/289 [==============================] - 249s 864ms/step - loss: 0.5205 - acc: 0.9997 - val_loss: 0.5436 - val_acc: 0.9812\n",
      "Epoch 118/400\n",
      "289/289 [==============================] - ETA: 0s - loss: 0.5160 - acc: 0.9997"
     ]
    },
    {
     "name": "stderr",
     "output_type": "stream",
     "text": [
      "WARNING:absl:Found untraced functions such as _jit_compiled_convolution_op, _jit_compiled_convolution_op, _jit_compiled_convolution_op, _jit_compiled_convolution_op, _jit_compiled_convolution_op while saving (showing 5 of 459). These functions will not be directly callable after loading.\n"
     ]
    },
    {
     "name": "stdout",
     "output_type": "stream",
     "text": [
      "289/289 [==============================] - 252s 873ms/step - loss: 0.5160 - acc: 0.9997 - val_loss: 0.5397 - val_acc: 0.9805\n",
      "Epoch 119/400\n",
      "289/289 [==============================] - ETA: 0s - loss: 0.5115 - acc: 0.9997"
     ]
    },
    {
     "name": "stderr",
     "output_type": "stream",
     "text": [
      "WARNING:absl:Found untraced functions such as _jit_compiled_convolution_op, _jit_compiled_convolution_op, _jit_compiled_convolution_op, _jit_compiled_convolution_op, _jit_compiled_convolution_op while saving (showing 5 of 459). These functions will not be directly callable after loading.\n"
     ]
    },
    {
     "name": "stdout",
     "output_type": "stream",
     "text": [
      "289/289 [==============================] - 246s 853ms/step - loss: 0.5115 - acc: 0.9997 - val_loss: 0.5323 - val_acc: 0.9817\n",
      "Epoch 120/400\n",
      "289/289 [==============================] - ETA: 0s - loss: 0.5070 - acc: 0.9997"
     ]
    },
    {
     "name": "stderr",
     "output_type": "stream",
     "text": [
      "WARNING:absl:Found untraced functions such as _jit_compiled_convolution_op, _jit_compiled_convolution_op, _jit_compiled_convolution_op, _jit_compiled_convolution_op, _jit_compiled_convolution_op while saving (showing 5 of 459). These functions will not be directly callable after loading.\n"
     ]
    },
    {
     "name": "stdout",
     "output_type": "stream",
     "text": [
      "289/289 [==============================] - 253s 876ms/step - loss: 0.5070 - acc: 0.9997 - val_loss: 0.5261 - val_acc: 0.9833\n",
      "Epoch 121/400\n",
      "289/289 [==============================] - 167s 578ms/step - loss: 0.5026 - acc: 0.9997 - val_loss: 0.5322 - val_acc: 0.9788\n",
      "Epoch 122/400\n",
      "289/289 [==============================] - ETA: 0s - loss: 0.4981 - acc: 0.9997"
     ]
    },
    {
     "name": "stderr",
     "output_type": "stream",
     "text": [
      "WARNING:absl:Found untraced functions such as _jit_compiled_convolution_op, _jit_compiled_convolution_op, _jit_compiled_convolution_op, _jit_compiled_convolution_op, _jit_compiled_convolution_op while saving (showing 5 of 459). These functions will not be directly callable after loading.\n"
     ]
    },
    {
     "name": "stdout",
     "output_type": "stream",
     "text": [
      "289/289 [==============================] - 246s 851ms/step - loss: 0.4981 - acc: 0.9997 - val_loss: 0.5230 - val_acc: 0.9815\n",
      "Epoch 123/400\n",
      "289/289 [==============================] - ETA: 0s - loss: 0.4937 - acc: 0.9997"
     ]
    },
    {
     "name": "stderr",
     "output_type": "stream",
     "text": [
      "WARNING:absl:Found untraced functions such as _jit_compiled_convolution_op, _jit_compiled_convolution_op, _jit_compiled_convolution_op, _jit_compiled_convolution_op, _jit_compiled_convolution_op while saving (showing 5 of 459). These functions will not be directly callable after loading.\n"
     ]
    },
    {
     "name": "stdout",
     "output_type": "stream",
     "text": [
      "289/289 [==============================] - 244s 844ms/step - loss: 0.4937 - acc: 0.9997 - val_loss: 0.5157 - val_acc: 0.9818\n",
      "Epoch 124/400\n",
      "289/289 [==============================] - 168s 581ms/step - loss: 0.4894 - acc: 0.9997 - val_loss: 0.5183 - val_acc: 0.9802\n",
      "Epoch 125/400\n",
      "289/289 [==============================] - ETA: 0s - loss: 0.4850 - acc: 0.9997"
     ]
    },
    {
     "name": "stderr",
     "output_type": "stream",
     "text": [
      "WARNING:absl:Found untraced functions such as _jit_compiled_convolution_op, _jit_compiled_convolution_op, _jit_compiled_convolution_op, _jit_compiled_convolution_op, _jit_compiled_convolution_op while saving (showing 5 of 459). These functions will not be directly callable after loading.\n"
     ]
    },
    {
     "name": "stdout",
     "output_type": "stream",
     "text": [
      "289/289 [==============================] - 246s 852ms/step - loss: 0.4850 - acc: 0.9997 - val_loss: 0.5082 - val_acc: 0.9810\n",
      "Epoch 126/400\n",
      "289/289 [==============================] - ETA: 0s - loss: 0.4807 - acc: 0.9997"
     ]
    },
    {
     "name": "stderr",
     "output_type": "stream",
     "text": [
      "WARNING:absl:Found untraced functions such as _jit_compiled_convolution_op, _jit_compiled_convolution_op, _jit_compiled_convolution_op, _jit_compiled_convolution_op, _jit_compiled_convolution_op while saving (showing 5 of 459). These functions will not be directly callable after loading.\n"
     ]
    },
    {
     "name": "stdout",
     "output_type": "stream",
     "text": [
      "289/289 [==============================] - 243s 840ms/step - loss: 0.4807 - acc: 0.9997 - val_loss: 0.5070 - val_acc: 0.9800\n",
      "Epoch 127/400\n",
      "289/289 [==============================] - ETA: 0s - loss: 0.4763 - acc: 0.9997"
     ]
    },
    {
     "name": "stderr",
     "output_type": "stream",
     "text": [
      "WARNING:absl:Found untraced functions such as _jit_compiled_convolution_op, _jit_compiled_convolution_op, _jit_compiled_convolution_op, _jit_compiled_convolution_op, _jit_compiled_convolution_op while saving (showing 5 of 459). These functions will not be directly callable after loading.\n"
     ]
    },
    {
     "name": "stdout",
     "output_type": "stream",
     "text": [
      "289/289 [==============================] - 246s 851ms/step - loss: 0.4763 - acc: 0.9997 - val_loss: 0.4959 - val_acc: 0.9823\n",
      "Epoch 128/400\n",
      "289/289 [==============================] - ETA: 0s - loss: 0.4720 - acc: 0.9997"
     ]
    },
    {
     "name": "stderr",
     "output_type": "stream",
     "text": [
      "WARNING:absl:Found untraced functions such as _jit_compiled_convolution_op, _jit_compiled_convolution_op, _jit_compiled_convolution_op, _jit_compiled_convolution_op, _jit_compiled_convolution_op while saving (showing 5 of 459). These functions will not be directly callable after loading.\n"
     ]
    },
    {
     "name": "stdout",
     "output_type": "stream",
     "text": [
      "289/289 [==============================] - 245s 848ms/step - loss: 0.4720 - acc: 0.9997 - val_loss: 0.4950 - val_acc: 0.9815\n",
      "Epoch 129/400\n",
      "289/289 [==============================] - 168s 580ms/step - loss: 0.4677 - acc: 0.9997 - val_loss: 0.4969 - val_acc: 0.9801\n",
      "Epoch 130/400\n",
      "289/289 [==============================] - ETA: 0s - loss: 0.4635 - acc: 0.9998"
     ]
    },
    {
     "name": "stderr",
     "output_type": "stream",
     "text": [
      "WARNING:absl:Found untraced functions such as _jit_compiled_convolution_op, _jit_compiled_convolution_op, _jit_compiled_convolution_op, _jit_compiled_convolution_op, _jit_compiled_convolution_op while saving (showing 5 of 459). These functions will not be directly callable after loading.\n"
     ]
    },
    {
     "name": "stdout",
     "output_type": "stream",
     "text": [
      "289/289 [==============================] - 246s 853ms/step - loss: 0.4635 - acc: 0.9998 - val_loss: 0.4909 - val_acc: 0.9811\n",
      "Epoch 131/400\n",
      "289/289 [==============================] - ETA: 0s - loss: 0.4592 - acc: 0.9998"
     ]
    },
    {
     "name": "stderr",
     "output_type": "stream",
     "text": [
      "WARNING:absl:Found untraced functions such as _jit_compiled_convolution_op, _jit_compiled_convolution_op, _jit_compiled_convolution_op, _jit_compiled_convolution_op, _jit_compiled_convolution_op while saving (showing 5 of 459). These functions will not be directly callable after loading.\n"
     ]
    },
    {
     "name": "stdout",
     "output_type": "stream",
     "text": [
      "289/289 [==============================] - 241s 836ms/step - loss: 0.4592 - acc: 0.9998 - val_loss: 0.4893 - val_acc: 0.9808\n",
      "Epoch 132/400\n",
      "289/289 [==============================] - ETA: 0s - loss: 0.4550 - acc: 0.9997"
     ]
    },
    {
     "name": "stderr",
     "output_type": "stream",
     "text": [
      "WARNING:absl:Found untraced functions such as _jit_compiled_convolution_op, _jit_compiled_convolution_op, _jit_compiled_convolution_op, _jit_compiled_convolution_op, _jit_compiled_convolution_op while saving (showing 5 of 459). These functions will not be directly callable after loading.\n"
     ]
    },
    {
     "name": "stdout",
     "output_type": "stream",
     "text": [
      "289/289 [==============================] - 245s 850ms/step - loss: 0.4550 - acc: 0.9997 - val_loss: 0.4836 - val_acc: 0.9807\n",
      "Epoch 133/400\n",
      "289/289 [==============================] - ETA: 0s - loss: 0.4508 - acc: 0.9997"
     ]
    },
    {
     "name": "stderr",
     "output_type": "stream",
     "text": [
      "WARNING:absl:Found untraced functions such as _jit_compiled_convolution_op, _jit_compiled_convolution_op, _jit_compiled_convolution_op, _jit_compiled_convolution_op, _jit_compiled_convolution_op while saving (showing 5 of 459). These functions will not be directly callable after loading.\n"
     ]
    },
    {
     "name": "stdout",
     "output_type": "stream",
     "text": [
      "289/289 [==============================] - 247s 855ms/step - loss: 0.4508 - acc: 0.9997 - val_loss: 0.4756 - val_acc: 0.9815\n",
      "Epoch 134/400\n",
      "289/289 [==============================] - ETA: 0s - loss: 0.4466 - acc: 0.9997"
     ]
    },
    {
     "name": "stderr",
     "output_type": "stream",
     "text": [
      "WARNING:absl:Found untraced functions such as _jit_compiled_convolution_op, _jit_compiled_convolution_op, _jit_compiled_convolution_op, _jit_compiled_convolution_op, _jit_compiled_convolution_op while saving (showing 5 of 459). These functions will not be directly callable after loading.\n"
     ]
    },
    {
     "name": "stdout",
     "output_type": "stream",
     "text": [
      "289/289 [==============================] - 250s 867ms/step - loss: 0.4466 - acc: 0.9997 - val_loss: 0.4707 - val_acc: 0.9818\n",
      "Epoch 135/400\n",
      "289/289 [==============================] - ETA: 0s - loss: 0.4425 - acc: 0.9997"
     ]
    },
    {
     "name": "stderr",
     "output_type": "stream",
     "text": [
      "WARNING:absl:Found untraced functions such as _jit_compiled_convolution_op, _jit_compiled_convolution_op, _jit_compiled_convolution_op, _jit_compiled_convolution_op, _jit_compiled_convolution_op while saving (showing 5 of 459). These functions will not be directly callable after loading.\n"
     ]
    },
    {
     "name": "stdout",
     "output_type": "stream",
     "text": [
      "289/289 [==============================] - 250s 865ms/step - loss: 0.4425 - acc: 0.9997 - val_loss: 0.4672 - val_acc: 0.9813\n",
      "Epoch 136/400\n",
      "289/289 [==============================] - ETA: 0s - loss: 0.4383 - acc: 0.9997"
     ]
    },
    {
     "name": "stderr",
     "output_type": "stream",
     "text": [
      "WARNING:absl:Found untraced functions such as _jit_compiled_convolution_op, _jit_compiled_convolution_op, _jit_compiled_convolution_op, _jit_compiled_convolution_op, _jit_compiled_convolution_op while saving (showing 5 of 459). These functions will not be directly callable after loading.\n"
     ]
    },
    {
     "name": "stdout",
     "output_type": "stream",
     "text": [
      "289/289 [==============================] - 248s 859ms/step - loss: 0.4383 - acc: 0.9997 - val_loss: 0.4662 - val_acc: 0.9806\n",
      "Epoch 137/400\n",
      "289/289 [==============================] - ETA: 0s - loss: 0.4342 - acc: 0.9998"
     ]
    },
    {
     "name": "stderr",
     "output_type": "stream",
     "text": [
      "WARNING:absl:Found untraced functions such as _jit_compiled_convolution_op, _jit_compiled_convolution_op, _jit_compiled_convolution_op, _jit_compiled_convolution_op, _jit_compiled_convolution_op while saving (showing 5 of 459). These functions will not be directly callable after loading.\n"
     ]
    },
    {
     "name": "stdout",
     "output_type": "stream",
     "text": [
      "289/289 [==============================] - 249s 862ms/step - loss: 0.4342 - acc: 0.9998 - val_loss: 0.4602 - val_acc: 0.9817\n",
      "Epoch 138/400\n",
      "289/289 [==============================] - ETA: 0s - loss: 0.4301 - acc: 0.9998"
     ]
    },
    {
     "name": "stderr",
     "output_type": "stream",
     "text": [
      "WARNING:absl:Found untraced functions such as _jit_compiled_convolution_op, _jit_compiled_convolution_op, _jit_compiled_convolution_op, _jit_compiled_convolution_op, _jit_compiled_convolution_op while saving (showing 5 of 459). These functions will not be directly callable after loading.\n"
     ]
    },
    {
     "name": "stdout",
     "output_type": "stream",
     "text": [
      "289/289 [==============================] - 249s 861ms/step - loss: 0.4301 - acc: 0.9998 - val_loss: 0.4577 - val_acc: 0.9812\n",
      "Epoch 139/400\n",
      "289/289 [==============================] - 167s 577ms/step - loss: 0.4260 - acc: 0.9998 - val_loss: 0.4663 - val_acc: 0.9776\n",
      "Epoch 140/400\n",
      "289/289 [==============================] - ETA: 0s - loss: 0.4219 - acc: 0.9998"
     ]
    },
    {
     "name": "stderr",
     "output_type": "stream",
     "text": [
      "WARNING:absl:Found untraced functions such as _jit_compiled_convolution_op, _jit_compiled_convolution_op, _jit_compiled_convolution_op, _jit_compiled_convolution_op, _jit_compiled_convolution_op while saving (showing 5 of 459). These functions will not be directly callable after loading.\n"
     ]
    },
    {
     "name": "stdout",
     "output_type": "stream",
     "text": [
      "289/289 [==============================] - 250s 866ms/step - loss: 0.4219 - acc: 0.9998 - val_loss: 0.4516 - val_acc: 0.9805\n",
      "Epoch 141/400\n",
      "289/289 [==============================] - ETA: 0s - loss: 0.4179 - acc: 0.9998"
     ]
    },
    {
     "name": "stderr",
     "output_type": "stream",
     "text": [
      "WARNING:absl:Found untraced functions such as _jit_compiled_convolution_op, _jit_compiled_convolution_op, _jit_compiled_convolution_op, _jit_compiled_convolution_op, _jit_compiled_convolution_op while saving (showing 5 of 459). These functions will not be directly callable after loading.\n"
     ]
    },
    {
     "name": "stdout",
     "output_type": "stream",
     "text": [
      "289/289 [==============================] - 251s 861ms/step - loss: 0.4179 - acc: 0.9998 - val_loss: 0.4447 - val_acc: 0.9808\n",
      "Epoch 142/400\n",
      "289/289 [==============================] - ETA: 0s - loss: 0.4138 - acc: 0.9997"
     ]
    },
    {
     "name": "stderr",
     "output_type": "stream",
     "text": [
      "WARNING:absl:Found untraced functions such as _jit_compiled_convolution_op, _jit_compiled_convolution_op, _jit_compiled_convolution_op, _jit_compiled_convolution_op, _jit_compiled_convolution_op while saving (showing 5 of 459). These functions will not be directly callable after loading.\n"
     ]
    },
    {
     "name": "stdout",
     "output_type": "stream",
     "text": [
      "289/289 [==============================] - 248s 858ms/step - loss: 0.4138 - acc: 0.9997 - val_loss: 0.4402 - val_acc: 0.9817\n",
      "Epoch 143/400\n",
      "289/289 [==============================] - ETA: 0s - loss: 0.4098 - acc: 0.9998"
     ]
    },
    {
     "name": "stderr",
     "output_type": "stream",
     "text": [
      "WARNING:absl:Found untraced functions such as _jit_compiled_convolution_op, _jit_compiled_convolution_op, _jit_compiled_convolution_op, _jit_compiled_convolution_op, _jit_compiled_convolution_op while saving (showing 5 of 459). These functions will not be directly callable after loading.\n"
     ]
    },
    {
     "name": "stdout",
     "output_type": "stream",
     "text": [
      "289/289 [==============================] - 248s 861ms/step - loss: 0.4098 - acc: 0.9998 - val_loss: 0.4337 - val_acc: 0.9825\n",
      "Epoch 144/400\n",
      "289/289 [==============================] - ETA: 0s - loss: 0.4058 - acc: 0.9998"
     ]
    },
    {
     "name": "stderr",
     "output_type": "stream",
     "text": [
      "WARNING:absl:Found untraced functions such as _jit_compiled_convolution_op, _jit_compiled_convolution_op, _jit_compiled_convolution_op, _jit_compiled_convolution_op, _jit_compiled_convolution_op while saving (showing 5 of 459). These functions will not be directly callable after loading.\n"
     ]
    },
    {
     "name": "stdout",
     "output_type": "stream",
     "text": [
      "289/289 [==============================] - 247s 854ms/step - loss: 0.4058 - acc: 0.9998 - val_loss: 0.4284 - val_acc: 0.9831\n",
      "Epoch 145/400\n",
      "289/289 [==============================] - 166s 576ms/step - loss: 0.4018 - acc: 0.9998 - val_loss: 0.4362 - val_acc: 0.9794\n",
      "Epoch 146/400\n",
      "289/289 [==============================] - 168s 582ms/step - loss: 0.3979 - acc: 0.9998 - val_loss: 0.4361 - val_acc: 0.9784\n",
      "Epoch 147/400\n",
      "289/289 [==============================] - ETA: 0s - loss: 0.3940 - acc: 0.9998"
     ]
    },
    {
     "name": "stderr",
     "output_type": "stream",
     "text": [
      "WARNING:absl:Found untraced functions such as _jit_compiled_convolution_op, _jit_compiled_convolution_op, _jit_compiled_convolution_op, _jit_compiled_convolution_op, _jit_compiled_convolution_op while saving (showing 5 of 459). These functions will not be directly callable after loading.\n"
     ]
    },
    {
     "name": "stdout",
     "output_type": "stream",
     "text": [
      "289/289 [==============================] - 243s 841ms/step - loss: 0.3940 - acc: 0.9998 - val_loss: 0.4224 - val_acc: 0.9816\n",
      "Epoch 148/400\n",
      "289/289 [==============================] - ETA: 0s - loss: 0.3901 - acc: 0.9998"
     ]
    },
    {
     "name": "stderr",
     "output_type": "stream",
     "text": [
      "WARNING:absl:Found untraced functions such as _jit_compiled_convolution_op, _jit_compiled_convolution_op, _jit_compiled_convolution_op, _jit_compiled_convolution_op, _jit_compiled_convolution_op while saving (showing 5 of 459). These functions will not be directly callable after loading.\n"
     ]
    },
    {
     "name": "stdout",
     "output_type": "stream",
     "text": [
      "289/289 [==============================] - 248s 860ms/step - loss: 0.3901 - acc: 0.9998 - val_loss: 0.4203 - val_acc: 0.9813\n",
      "Epoch 149/400\n",
      "289/289 [==============================] - ETA: 0s - loss: 0.3862 - acc: 0.9998"
     ]
    },
    {
     "name": "stderr",
     "output_type": "stream",
     "text": [
      "WARNING:absl:Found untraced functions such as _jit_compiled_convolution_op, _jit_compiled_convolution_op, _jit_compiled_convolution_op, _jit_compiled_convolution_op, _jit_compiled_convolution_op while saving (showing 5 of 459). These functions will not be directly callable after loading.\n"
     ]
    },
    {
     "name": "stdout",
     "output_type": "stream",
     "text": [
      "289/289 [==============================] - 248s 858ms/step - loss: 0.3862 - acc: 0.9998 - val_loss: 0.4168 - val_acc: 0.9808\n",
      "Epoch 150/400\n",
      "289/289 [==============================] - ETA: 0s - loss: 0.3823 - acc: 0.9998"
     ]
    },
    {
     "name": "stderr",
     "output_type": "stream",
     "text": [
      "WARNING:absl:Found untraced functions such as _jit_compiled_convolution_op, _jit_compiled_convolution_op, _jit_compiled_convolution_op, _jit_compiled_convolution_op, _jit_compiled_convolution_op while saving (showing 5 of 459). These functions will not be directly callable after loading.\n"
     ]
    },
    {
     "name": "stdout",
     "output_type": "stream",
     "text": [
      "289/289 [==============================] - 249s 861ms/step - loss: 0.3823 - acc: 0.9998 - val_loss: 0.4144 - val_acc: 0.9807\n",
      "Epoch 151/400\n",
      "289/289 [==============================] - ETA: 0s - loss: 0.3784 - acc: 0.9998"
     ]
    },
    {
     "name": "stderr",
     "output_type": "stream",
     "text": [
      "WARNING:absl:Found untraced functions such as _jit_compiled_convolution_op, _jit_compiled_convolution_op, _jit_compiled_convolution_op, _jit_compiled_convolution_op, _jit_compiled_convolution_op while saving (showing 5 of 459). These functions will not be directly callable after loading.\n"
     ]
    },
    {
     "name": "stdout",
     "output_type": "stream",
     "text": [
      "289/289 [==============================] - 249s 861ms/step - loss: 0.3784 - acc: 0.9998 - val_loss: 0.4096 - val_acc: 0.9801\n",
      "Epoch 152/400\n",
      "289/289 [==============================] - ETA: 0s - loss: 0.3746 - acc: 0.9998"
     ]
    },
    {
     "name": "stderr",
     "output_type": "stream",
     "text": [
      "WARNING:absl:Found untraced functions such as _jit_compiled_convolution_op, _jit_compiled_convolution_op, _jit_compiled_convolution_op, _jit_compiled_convolution_op, _jit_compiled_convolution_op while saving (showing 5 of 459). These functions will not be directly callable after loading.\n"
     ]
    },
    {
     "name": "stdout",
     "output_type": "stream",
     "text": [
      "289/289 [==============================] - 252s 872ms/step - loss: 0.3746 - acc: 0.9998 - val_loss: 0.4045 - val_acc: 0.9811\n",
      "Epoch 153/400\n",
      "289/289 [==============================] - ETA: 0s - loss: 0.3708 - acc: 0.9998"
     ]
    },
    {
     "name": "stderr",
     "output_type": "stream",
     "text": [
      "WARNING:absl:Found untraced functions such as _jit_compiled_convolution_op, _jit_compiled_convolution_op, _jit_compiled_convolution_op, _jit_compiled_convolution_op, _jit_compiled_convolution_op while saving (showing 5 of 459). These functions will not be directly callable after loading.\n"
     ]
    },
    {
     "name": "stdout",
     "output_type": "stream",
     "text": [
      "289/289 [==============================] - 252s 871ms/step - loss: 0.3708 - acc: 0.9998 - val_loss: 0.4000 - val_acc: 0.9814\n",
      "Epoch 154/400\n",
      "289/289 [==============================] - 167s 579ms/step - loss: 0.3670 - acc: 0.9998 - val_loss: 0.4018 - val_acc: 0.9796\n",
      "Epoch 155/400\n",
      "289/289 [==============================] - ETA: 0s - loss: 0.3632 - acc: 0.9998"
     ]
    },
    {
     "name": "stderr",
     "output_type": "stream",
     "text": [
      "WARNING:absl:Found untraced functions such as _jit_compiled_convolution_op, _jit_compiled_convolution_op, _jit_compiled_convolution_op, _jit_compiled_convolution_op, _jit_compiled_convolution_op while saving (showing 5 of 459). These functions will not be directly callable after loading.\n"
     ]
    },
    {
     "name": "stdout",
     "output_type": "stream",
     "text": [
      "289/289 [==============================] - 249s 863ms/step - loss: 0.3632 - acc: 0.9998 - val_loss: 0.3903 - val_acc: 0.9820\n",
      "Epoch 156/400\n",
      "289/289 [==============================] - ETA: 0s - loss: 0.3595 - acc: 0.9998"
     ]
    },
    {
     "name": "stderr",
     "output_type": "stream",
     "text": [
      "WARNING:absl:Found untraced functions such as _jit_compiled_convolution_op, _jit_compiled_convolution_op, _jit_compiled_convolution_op, _jit_compiled_convolution_op, _jit_compiled_convolution_op while saving (showing 5 of 459). These functions will not be directly callable after loading.\n"
     ]
    },
    {
     "name": "stdout",
     "output_type": "stream",
     "text": [
      "289/289 [==============================] - 249s 862ms/step - loss: 0.3595 - acc: 0.9998 - val_loss: 0.3854 - val_acc: 0.9828\n",
      "Epoch 157/400\n",
      "289/289 [==============================] - ETA: 0s - loss: 0.3557 - acc: 0.9998"
     ]
    },
    {
     "name": "stderr",
     "output_type": "stream",
     "text": [
      "WARNING:absl:Found untraced functions such as _jit_compiled_convolution_op, _jit_compiled_convolution_op, _jit_compiled_convolution_op, _jit_compiled_convolution_op, _jit_compiled_convolution_op while saving (showing 5 of 459). These functions will not be directly callable after loading.\n"
     ]
    },
    {
     "name": "stdout",
     "output_type": "stream",
     "text": [
      "289/289 [==============================] - 248s 861ms/step - loss: 0.3557 - acc: 0.9998 - val_loss: 0.3847 - val_acc: 0.9820\n",
      "Epoch 158/400\n",
      "289/289 [==============================] - 168s 581ms/step - loss: 0.3520 - acc: 0.9998 - val_loss: 0.3849 - val_acc: 0.9808\n",
      "Epoch 159/400\n",
      "289/289 [==============================] - ETA: 0s - loss: 0.3483 - acc: 0.9998"
     ]
    },
    {
     "name": "stderr",
     "output_type": "stream",
     "text": [
      "WARNING:absl:Found untraced functions such as _jit_compiled_convolution_op, _jit_compiled_convolution_op, _jit_compiled_convolution_op, _jit_compiled_convolution_op, _jit_compiled_convolution_op while saving (showing 5 of 459). These functions will not be directly callable after loading.\n"
     ]
    },
    {
     "name": "stdout",
     "output_type": "stream",
     "text": [
      "289/289 [==============================] - 249s 863ms/step - loss: 0.3483 - acc: 0.9998 - val_loss: 0.3791 - val_acc: 0.9815\n",
      "Epoch 160/400\n",
      "289/289 [==============================] - ETA: 0s - loss: 0.3446 - acc: 0.9998"
     ]
    },
    {
     "name": "stderr",
     "output_type": "stream",
     "text": [
      "WARNING:absl:Found untraced functions such as _jit_compiled_convolution_op, _jit_compiled_convolution_op, _jit_compiled_convolution_op, _jit_compiled_convolution_op, _jit_compiled_convolution_op while saving (showing 5 of 459). These functions will not be directly callable after loading.\n"
     ]
    },
    {
     "name": "stdout",
     "output_type": "stream",
     "text": [
      "289/289 [==============================] - 250s 867ms/step - loss: 0.3446 - acc: 0.9998 - val_loss: 0.3732 - val_acc: 0.9821\n",
      "Epoch 161/400\n",
      "289/289 [==============================] - 170s 588ms/step - loss: 0.3410 - acc: 0.9998 - val_loss: 0.3736 - val_acc: 0.9808\n",
      "Epoch 162/400\n",
      "289/289 [==============================] - 169s 584ms/step - loss: 0.3373 - acc: 0.9998 - val_loss: 0.3754 - val_acc: 0.9795\n",
      "Epoch 163/400\n",
      "289/289 [==============================] - ETA: 0s - loss: 0.3337 - acc: 0.9998"
     ]
    },
    {
     "name": "stderr",
     "output_type": "stream",
     "text": [
      "WARNING:absl:Found untraced functions such as _jit_compiled_convolution_op, _jit_compiled_convolution_op, _jit_compiled_convolution_op, _jit_compiled_convolution_op, _jit_compiled_convolution_op while saving (showing 5 of 459). These functions will not be directly callable after loading.\n"
     ]
    },
    {
     "name": "stdout",
     "output_type": "stream",
     "text": [
      "289/289 [==============================] - 250s 867ms/step - loss: 0.3337 - acc: 0.9998 - val_loss: 0.3615 - val_acc: 0.9825\n",
      "Epoch 164/400\n",
      "289/289 [==============================] - 170s 589ms/step - loss: 0.3301 - acc: 0.9998 - val_loss: 0.3707 - val_acc: 0.9790\n",
      "Epoch 165/400\n",
      "289/289 [==============================] - 168s 582ms/step - loss: 0.3266 - acc: 0.9998 - val_loss: 0.3650 - val_acc: 0.9798\n",
      "Epoch 166/400\n",
      "289/289 [==============================] - ETA: 0s - loss: 0.3230 - acc: 0.9998"
     ]
    },
    {
     "name": "stderr",
     "output_type": "stream",
     "text": [
      "WARNING:absl:Found untraced functions such as _jit_compiled_convolution_op, _jit_compiled_convolution_op, _jit_compiled_convolution_op, _jit_compiled_convolution_op, _jit_compiled_convolution_op while saving (showing 5 of 459). These functions will not be directly callable after loading.\n"
     ]
    },
    {
     "name": "stdout",
     "output_type": "stream",
     "text": [
      "289/289 [==============================] - 247s 855ms/step - loss: 0.3230 - acc: 0.9998 - val_loss: 0.3577 - val_acc: 0.9803\n",
      "Epoch 167/400\n",
      "289/289 [==============================] - 171s 591ms/step - loss: 0.3195 - acc: 0.9998 - val_loss: 0.3658 - val_acc: 0.9774\n",
      "Epoch 168/400\n",
      "289/289 [==============================] - ETA: 0s - loss: 0.3160 - acc: 0.9998"
     ]
    },
    {
     "name": "stderr",
     "output_type": "stream",
     "text": [
      "WARNING:absl:Found untraced functions such as _jit_compiled_convolution_op, _jit_compiled_convolution_op, _jit_compiled_convolution_op, _jit_compiled_convolution_op, _jit_compiled_convolution_op while saving (showing 5 of 459). These functions will not be directly callable after loading.\n"
     ]
    },
    {
     "name": "stdout",
     "output_type": "stream",
     "text": [
      "289/289 [==============================] - 249s 864ms/step - loss: 0.3160 - acc: 0.9998 - val_loss: 0.3442 - val_acc: 0.9825\n",
      "Epoch 169/400\n",
      "289/289 [==============================] - ETA: 0s - loss: 0.3125 - acc: 0.9998"
     ]
    },
    {
     "name": "stderr",
     "output_type": "stream",
     "text": [
      "WARNING:absl:Found untraced functions such as _jit_compiled_convolution_op, _jit_compiled_convolution_op, _jit_compiled_convolution_op, _jit_compiled_convolution_op, _jit_compiled_convolution_op while saving (showing 5 of 459). These functions will not be directly callable after loading.\n"
     ]
    },
    {
     "name": "stdout",
     "output_type": "stream",
     "text": [
      "289/289 [==============================] - 248s 860ms/step - loss: 0.3125 - acc: 0.9998 - val_loss: 0.3435 - val_acc: 0.9814\n",
      "Epoch 170/400\n",
      "289/289 [==============================] - ETA: 0s - loss: 0.3090 - acc: 0.9998"
     ]
    },
    {
     "name": "stderr",
     "output_type": "stream",
     "text": [
      "WARNING:absl:Found untraced functions such as _jit_compiled_convolution_op, _jit_compiled_convolution_op, _jit_compiled_convolution_op, _jit_compiled_convolution_op, _jit_compiled_convolution_op while saving (showing 5 of 459). These functions will not be directly callable after loading.\n"
     ]
    },
    {
     "name": "stdout",
     "output_type": "stream",
     "text": [
      "289/289 [==============================] - 251s 868ms/step - loss: 0.3090 - acc: 0.9998 - val_loss: 0.3359 - val_acc: 0.9830\n",
      "Epoch 171/400\n",
      "289/289 [==============================] - 168s 581ms/step - loss: 0.3056 - acc: 0.9998 - val_loss: 0.3379 - val_acc: 0.9812\n",
      "Epoch 172/400\n",
      "289/289 [==============================] - ETA: 0s - loss: 0.3022 - acc: 0.9998"
     ]
    },
    {
     "name": "stderr",
     "output_type": "stream",
     "text": [
      "WARNING:absl:Found untraced functions such as _jit_compiled_convolution_op, _jit_compiled_convolution_op, _jit_compiled_convolution_op, _jit_compiled_convolution_op, _jit_compiled_convolution_op while saving (showing 5 of 459). These functions will not be directly callable after loading.\n"
     ]
    },
    {
     "name": "stdout",
     "output_type": "stream",
     "text": [
      "289/289 [==============================] - 256s 886ms/step - loss: 0.3022 - acc: 0.9998 - val_loss: 0.3331 - val_acc: 0.9818\n",
      "Epoch 173/400\n",
      "289/289 [==============================] - ETA: 0s - loss: 0.2987 - acc: 0.9998"
     ]
    },
    {
     "name": "stderr",
     "output_type": "stream",
     "text": [
      "WARNING:absl:Found untraced functions such as _jit_compiled_convolution_op, _jit_compiled_convolution_op, _jit_compiled_convolution_op, _jit_compiled_convolution_op, _jit_compiled_convolution_op while saving (showing 5 of 459). These functions will not be directly callable after loading.\n"
     ]
    },
    {
     "name": "stdout",
     "output_type": "stream",
     "text": [
      "289/289 [==============================] - 253s 877ms/step - loss: 0.2987 - acc: 0.9998 - val_loss: 0.3328 - val_acc: 0.9810\n",
      "Epoch 174/400\n",
      "289/289 [==============================] - ETA: 0s - loss: 0.2953 - acc: 0.9999"
     ]
    },
    {
     "name": "stderr",
     "output_type": "stream",
     "text": [
      "WARNING:absl:Found untraced functions such as _jit_compiled_convolution_op, _jit_compiled_convolution_op, _jit_compiled_convolution_op, _jit_compiled_convolution_op, _jit_compiled_convolution_op while saving (showing 5 of 459). These functions will not be directly callable after loading.\n"
     ]
    },
    {
     "name": "stdout",
     "output_type": "stream",
     "text": [
      "289/289 [==============================] - 254s 879ms/step - loss: 0.2953 - acc: 0.9999 - val_loss: 0.3327 - val_acc: 0.9804\n",
      "Epoch 175/400\n",
      "289/289 [==============================] - ETA: 0s - loss: 0.2920 - acc: 0.9999"
     ]
    },
    {
     "name": "stderr",
     "output_type": "stream",
     "text": [
      "WARNING:absl:Found untraced functions such as _jit_compiled_convolution_op, _jit_compiled_convolution_op, _jit_compiled_convolution_op, _jit_compiled_convolution_op, _jit_compiled_convolution_op while saving (showing 5 of 459). These functions will not be directly callable after loading.\n"
     ]
    },
    {
     "name": "stdout",
     "output_type": "stream",
     "text": [
      "289/289 [==============================] - 254s 880ms/step - loss: 0.2920 - acc: 0.9999 - val_loss: 0.3262 - val_acc: 0.9816\n",
      "Epoch 176/400\n",
      "289/289 [==============================] - ETA: 0s - loss: 0.2886 - acc: 0.9998"
     ]
    },
    {
     "name": "stderr",
     "output_type": "stream",
     "text": [
      "WARNING:absl:Found untraced functions such as _jit_compiled_convolution_op, _jit_compiled_convolution_op, _jit_compiled_convolution_op, _jit_compiled_convolution_op, _jit_compiled_convolution_op while saving (showing 5 of 459). These functions will not be directly callable after loading.\n"
     ]
    },
    {
     "name": "stdout",
     "output_type": "stream",
     "text": [
      "289/289 [==============================] - 255s 885ms/step - loss: 0.2886 - acc: 0.9998 - val_loss: 0.3252 - val_acc: 0.9802\n",
      "Epoch 177/400\n",
      "289/289 [==============================] - ETA: 0s - loss: 0.2853 - acc: 0.9998"
     ]
    },
    {
     "name": "stderr",
     "output_type": "stream",
     "text": [
      "WARNING:absl:Found untraced functions such as _jit_compiled_convolution_op, _jit_compiled_convolution_op, _jit_compiled_convolution_op, _jit_compiled_convolution_op, _jit_compiled_convolution_op while saving (showing 5 of 459). These functions will not be directly callable after loading.\n"
     ]
    },
    {
     "name": "stdout",
     "output_type": "stream",
     "text": [
      "289/289 [==============================] - 251s 870ms/step - loss: 0.2853 - acc: 0.9998 - val_loss: 0.3194 - val_acc: 0.9812\n",
      "Epoch 178/400\n",
      "289/289 [==============================] - ETA: 0s - loss: 0.2820 - acc: 0.9998"
     ]
    },
    {
     "name": "stderr",
     "output_type": "stream",
     "text": [
      "WARNING:absl:Found untraced functions such as _jit_compiled_convolution_op, _jit_compiled_convolution_op, _jit_compiled_convolution_op, _jit_compiled_convolution_op, _jit_compiled_convolution_op while saving (showing 5 of 459). These functions will not be directly callable after loading.\n"
     ]
    },
    {
     "name": "stdout",
     "output_type": "stream",
     "text": [
      "289/289 [==============================] - 253s 876ms/step - loss: 0.2820 - acc: 0.9998 - val_loss: 0.3116 - val_acc: 0.9823\n",
      "Epoch 179/400\n",
      "289/289 [==============================] - 170s 587ms/step - loss: 0.2787 - acc: 0.9998 - val_loss: 0.3140 - val_acc: 0.9806\n",
      "Epoch 180/400\n",
      "289/289 [==============================] - ETA: 0s - loss: 0.2754 - acc: 0.9998"
     ]
    },
    {
     "name": "stderr",
     "output_type": "stream",
     "text": [
      "WARNING:absl:Found untraced functions such as _jit_compiled_convolution_op, _jit_compiled_convolution_op, _jit_compiled_convolution_op, _jit_compiled_convolution_op, _jit_compiled_convolution_op while saving (showing 5 of 459). These functions will not be directly callable after loading.\n"
     ]
    },
    {
     "name": "stdout",
     "output_type": "stream",
     "text": [
      "289/289 [==============================] - 247s 855ms/step - loss: 0.2754 - acc: 0.9998 - val_loss: 0.3092 - val_acc: 0.9809\n",
      "Epoch 181/400\n",
      "289/289 [==============================] - ETA: 0s - loss: 0.2721 - acc: 0.9999"
     ]
    },
    {
     "name": "stderr",
     "output_type": "stream",
     "text": [
      "WARNING:absl:Found untraced functions such as _jit_compiled_convolution_op, _jit_compiled_convolution_op, _jit_compiled_convolution_op, _jit_compiled_convolution_op, _jit_compiled_convolution_op while saving (showing 5 of 459). These functions will not be directly callable after loading.\n"
     ]
    },
    {
     "name": "stdout",
     "output_type": "stream",
     "text": [
      "289/289 [==============================] - 248s 858ms/step - loss: 0.2721 - acc: 0.9999 - val_loss: 0.3027 - val_acc: 0.9820\n",
      "Epoch 182/400\n",
      "289/289 [==============================] - 167s 576ms/step - loss: 0.2689 - acc: 0.9999 - val_loss: 0.3095 - val_acc: 0.9797\n",
      "Epoch 183/400\n",
      "289/289 [==============================] - ETA: 0s - loss: 0.2657 - acc: 0.9999"
     ]
    },
    {
     "name": "stderr",
     "output_type": "stream",
     "text": [
      "WARNING:absl:Found untraced functions such as _jit_compiled_convolution_op, _jit_compiled_convolution_op, _jit_compiled_convolution_op, _jit_compiled_convolution_op, _jit_compiled_convolution_op while saving (showing 5 of 459). These functions will not be directly callable after loading.\n"
     ]
    },
    {
     "name": "stdout",
     "output_type": "stream",
     "text": [
      "289/289 [==============================] - 248s 860ms/step - loss: 0.2657 - acc: 0.9999 - val_loss: 0.2972 - val_acc: 0.9824\n",
      "Epoch 184/400\n",
      "289/289 [==============================] - ETA: 0s - loss: 0.2625 - acc: 0.9999"
     ]
    },
    {
     "name": "stderr",
     "output_type": "stream",
     "text": [
      "WARNING:absl:Found untraced functions such as _jit_compiled_convolution_op, _jit_compiled_convolution_op, _jit_compiled_convolution_op, _jit_compiled_convolution_op, _jit_compiled_convolution_op while saving (showing 5 of 459). These functions will not be directly callable after loading.\n"
     ]
    },
    {
     "name": "stdout",
     "output_type": "stream",
     "text": [
      "289/289 [==============================] - 248s 860ms/step - loss: 0.2625 - acc: 0.9999 - val_loss: 0.2948 - val_acc: 0.9824\n",
      "Epoch 185/400\n",
      "289/289 [==============================] - 166s 576ms/step - loss: 0.2593 - acc: 0.9998 - val_loss: 0.2958 - val_acc: 0.9807\n",
      "Epoch 186/400\n",
      "289/289 [==============================] - ETA: 0s - loss: 0.2562 - acc: 0.9998"
     ]
    },
    {
     "name": "stderr",
     "output_type": "stream",
     "text": [
      "WARNING:absl:Found untraced functions such as _jit_compiled_convolution_op, _jit_compiled_convolution_op, _jit_compiled_convolution_op, _jit_compiled_convolution_op, _jit_compiled_convolution_op while saving (showing 5 of 459). These functions will not be directly callable after loading.\n"
     ]
    },
    {
     "name": "stdout",
     "output_type": "stream",
     "text": [
      "289/289 [==============================] - 248s 858ms/step - loss: 0.2562 - acc: 0.9998 - val_loss: 0.2891 - val_acc: 0.9815\n",
      "Epoch 187/400\n",
      "289/289 [==============================] - ETA: 0s - loss: 0.2530 - acc: 0.9998"
     ]
    },
    {
     "name": "stderr",
     "output_type": "stream",
     "text": [
      "WARNING:absl:Found untraced functions such as _jit_compiled_convolution_op, _jit_compiled_convolution_op, _jit_compiled_convolution_op, _jit_compiled_convolution_op, _jit_compiled_convolution_op while saving (showing 5 of 459). These functions will not be directly callable after loading.\n"
     ]
    },
    {
     "name": "stdout",
     "output_type": "stream",
     "text": [
      "289/289 [==============================] - 249s 864ms/step - loss: 0.2530 - acc: 0.9998 - val_loss: 0.2847 - val_acc: 0.9821\n",
      "Epoch 188/400\n",
      "289/289 [==============================] - ETA: 0s - loss: 0.2499 - acc: 0.9998"
     ]
    },
    {
     "name": "stderr",
     "output_type": "stream",
     "text": [
      "WARNING:absl:Found untraced functions such as _jit_compiled_convolution_op, _jit_compiled_convolution_op, _jit_compiled_convolution_op, _jit_compiled_convolution_op, _jit_compiled_convolution_op while saving (showing 5 of 459). These functions will not be directly callable after loading.\n"
     ]
    },
    {
     "name": "stdout",
     "output_type": "stream",
     "text": [
      "289/289 [==============================] - 249s 863ms/step - loss: 0.2499 - acc: 0.9998 - val_loss: 0.2816 - val_acc: 0.9820\n",
      "Epoch 189/400\n",
      "289/289 [==============================] - 168s 583ms/step - loss: 0.2468 - acc: 0.9998 - val_loss: 0.2842 - val_acc: 0.9804\n",
      "Epoch 190/400\n",
      "289/289 [==============================] - 167s 577ms/step - loss: 0.2437 - acc: 0.9999 - val_loss: 0.2824 - val_acc: 0.9803\n",
      "Epoch 191/400\n",
      "289/289 [==============================] - ETA: 0s - loss: 0.2407 - acc: 0.9999"
     ]
    },
    {
     "name": "stderr",
     "output_type": "stream",
     "text": [
      "WARNING:absl:Found untraced functions such as _jit_compiled_convolution_op, _jit_compiled_convolution_op, _jit_compiled_convolution_op, _jit_compiled_convolution_op, _jit_compiled_convolution_op while saving (showing 5 of 459). These functions will not be directly callable after loading.\n"
     ]
    },
    {
     "name": "stdout",
     "output_type": "stream",
     "text": [
      "289/289 [==============================] - 247s 854ms/step - loss: 0.2407 - acc: 0.9999 - val_loss: 0.2702 - val_acc: 0.9828\n",
      "Epoch 192/400\n",
      "289/289 [==============================] - 167s 578ms/step - loss: 0.2377 - acc: 0.9999 - val_loss: 0.2713 - val_acc: 0.9821\n",
      "Epoch 193/400\n",
      "289/289 [==============================] - 166s 573ms/step - loss: 0.2346 - acc: 0.9999 - val_loss: 0.2755 - val_acc: 0.9800\n",
      "Epoch 194/400\n",
      "289/289 [==============================] - ETA: 0s - loss: 0.2316 - acc: 0.9999"
     ]
    },
    {
     "name": "stderr",
     "output_type": "stream",
     "text": [
      "WARNING:absl:Found untraced functions such as _jit_compiled_convolution_op, _jit_compiled_convolution_op, _jit_compiled_convolution_op, _jit_compiled_convolution_op, _jit_compiled_convolution_op while saving (showing 5 of 459). These functions will not be directly callable after loading.\n"
     ]
    },
    {
     "name": "stdout",
     "output_type": "stream",
     "text": [
      "289/289 [==============================] - 244s 846ms/step - loss: 0.2316 - acc: 0.9999 - val_loss: 0.2650 - val_acc: 0.9823\n",
      "Epoch 195/400\n",
      "289/289 [==============================] - ETA: 0s - loss: 0.2287 - acc: 0.9998"
     ]
    },
    {
     "name": "stderr",
     "output_type": "stream",
     "text": [
      "WARNING:absl:Found untraced functions such as _jit_compiled_convolution_op, _jit_compiled_convolution_op, _jit_compiled_convolution_op, _jit_compiled_convolution_op, _jit_compiled_convolution_op while saving (showing 5 of 459). These functions will not be directly callable after loading.\n"
     ]
    },
    {
     "name": "stdout",
     "output_type": "stream",
     "text": [
      "289/289 [==============================] - 246s 852ms/step - loss: 0.2287 - acc: 0.9998 - val_loss: 0.2591 - val_acc: 0.9821\n",
      "Epoch 196/400\n",
      "289/289 [==============================] - 167s 578ms/step - loss: 0.2257 - acc: 0.9998 - val_loss: 0.2597 - val_acc: 0.9815\n",
      "Epoch 197/400\n",
      "289/289 [==============================] - ETA: 0s - loss: 0.2228 - acc: 0.9999"
     ]
    },
    {
     "name": "stderr",
     "output_type": "stream",
     "text": [
      "WARNING:absl:Found untraced functions such as _jit_compiled_convolution_op, _jit_compiled_convolution_op, _jit_compiled_convolution_op, _jit_compiled_convolution_op, _jit_compiled_convolution_op while saving (showing 5 of 459). These functions will not be directly callable after loading.\n"
     ]
    },
    {
     "name": "stdout",
     "output_type": "stream",
     "text": [
      "289/289 [==============================] - 247s 856ms/step - loss: 0.2228 - acc: 0.9999 - val_loss: 0.2583 - val_acc: 0.9809\n",
      "Epoch 198/400\n",
      "289/289 [==============================] - ETA: 0s - loss: 0.2198 - acc: 0.9999"
     ]
    },
    {
     "name": "stderr",
     "output_type": "stream",
     "text": [
      "WARNING:absl:Found untraced functions such as _jit_compiled_convolution_op, _jit_compiled_convolution_op, _jit_compiled_convolution_op, _jit_compiled_convolution_op, _jit_compiled_convolution_op while saving (showing 5 of 459). These functions will not be directly callable after loading.\n"
     ]
    },
    {
     "name": "stdout",
     "output_type": "stream",
     "text": [
      "289/289 [==============================] - 246s 854ms/step - loss: 0.2198 - acc: 0.9999 - val_loss: 0.2549 - val_acc: 0.9818\n",
      "Epoch 199/400\n",
      "289/289 [==============================] - ETA: 0s - loss: 0.2169 - acc: 0.9999"
     ]
    },
    {
     "name": "stderr",
     "output_type": "stream",
     "text": [
      "WARNING:absl:Found untraced functions such as _jit_compiled_convolution_op, _jit_compiled_convolution_op, _jit_compiled_convolution_op, _jit_compiled_convolution_op, _jit_compiled_convolution_op while saving (showing 5 of 459). These functions will not be directly callable after loading.\n"
     ]
    },
    {
     "name": "stdout",
     "output_type": "stream",
     "text": [
      "289/289 [==============================] - 252s 874ms/step - loss: 0.2169 - acc: 0.9999 - val_loss: 0.2522 - val_acc: 0.9820\n",
      "Epoch 200/400\n",
      "289/289 [==============================] - 166s 575ms/step - loss: 0.2141 - acc: 0.9999 - val_loss: 0.2540 - val_acc: 0.9806\n",
      "Epoch 201/400\n",
      "289/289 [==============================] - ETA: 0s - loss: 0.2112 - acc: 0.9999"
     ]
    },
    {
     "name": "stderr",
     "output_type": "stream",
     "text": [
      "WARNING:absl:Found untraced functions such as _jit_compiled_convolution_op, _jit_compiled_convolution_op, _jit_compiled_convolution_op, _jit_compiled_convolution_op, _jit_compiled_convolution_op while saving (showing 5 of 459). These functions will not be directly callable after loading.\n"
     ]
    },
    {
     "name": "stdout",
     "output_type": "stream",
     "text": [
      "289/289 [==============================] - 249s 864ms/step - loss: 0.2112 - acc: 0.9999 - val_loss: 0.2509 - val_acc: 0.9798\n",
      "Epoch 202/400\n",
      "289/289 [==============================] - 167s 578ms/step - loss: 0.2084 - acc: 0.9999 - val_loss: 0.2529 - val_acc: 0.9789\n",
      "Epoch 203/400\n",
      "289/289 [==============================] - ETA: 0s - loss: 0.2055 - acc: 0.9999"
     ]
    },
    {
     "name": "stderr",
     "output_type": "stream",
     "text": [
      "WARNING:absl:Found untraced functions such as _jit_compiled_convolution_op, _jit_compiled_convolution_op, _jit_compiled_convolution_op, _jit_compiled_convolution_op, _jit_compiled_convolution_op while saving (showing 5 of 459). These functions will not be directly callable after loading.\n"
     ]
    },
    {
     "name": "stdout",
     "output_type": "stream",
     "text": [
      "289/289 [==============================] - 250s 865ms/step - loss: 0.2055 - acc: 0.9999 - val_loss: 0.2312 - val_acc: 0.9840\n",
      "Epoch 204/400\n",
      "289/289 [==============================] - 165s 571ms/step - loss: 0.2027 - acc: 0.9999 - val_loss: 0.2442 - val_acc: 0.9797\n",
      "Epoch 205/400\n",
      "289/289 [==============================] - 170s 587ms/step - loss: 0.2000 - acc: 0.9999 - val_loss: 0.2333 - val_acc: 0.9818\n",
      "Epoch 206/400\n",
      "289/289 [==============================] - 167s 578ms/step - loss: 0.1972 - acc: 0.9999 - val_loss: 0.2380 - val_acc: 0.9806\n",
      "Epoch 207/400\n",
      "289/289 [==============================] - ETA: 0s - loss: 0.1945 - acc: 0.9999"
     ]
    },
    {
     "name": "stderr",
     "output_type": "stream",
     "text": [
      "WARNING:absl:Found untraced functions such as _jit_compiled_convolution_op, _jit_compiled_convolution_op, _jit_compiled_convolution_op, _jit_compiled_convolution_op, _jit_compiled_convolution_op while saving (showing 5 of 459). These functions will not be directly callable after loading.\n"
     ]
    },
    {
     "name": "stdout",
     "output_type": "stream",
     "text": [
      "289/289 [==============================] - 245s 849ms/step - loss: 0.1945 - acc: 0.9999 - val_loss: 0.2228 - val_acc: 0.9837\n",
      "Epoch 208/400\n",
      "289/289 [==============================] - 165s 572ms/step - loss: 0.1917 - acc: 0.9999 - val_loss: 0.2285 - val_acc: 0.9814\n",
      "Epoch 209/400\n",
      "289/289 [==============================] - 169s 585ms/step - loss: 0.1890 - acc: 0.9999 - val_loss: 0.2303 - val_acc: 0.9795\n",
      "Epoch 210/400\n",
      "289/289 [==============================] - ETA: 0s - loss: 0.1864 - acc: 0.9999"
     ]
    },
    {
     "name": "stderr",
     "output_type": "stream",
     "text": [
      "WARNING:absl:Found untraced functions such as _jit_compiled_convolution_op, _jit_compiled_convolution_op, _jit_compiled_convolution_op, _jit_compiled_convolution_op, _jit_compiled_convolution_op while saving (showing 5 of 459). These functions will not be directly callable after loading.\n"
     ]
    },
    {
     "name": "stdout",
     "output_type": "stream",
     "text": [
      "289/289 [==============================] - 248s 860ms/step - loss: 0.1864 - acc: 0.9999 - val_loss: 0.2197 - val_acc: 0.9817\n",
      "Epoch 211/400\n",
      "289/289 [==============================] - 168s 580ms/step - loss: 0.1837 - acc: 0.9999 - val_loss: 0.2253 - val_acc: 0.9796\n",
      "Epoch 212/400\n",
      "289/289 [==============================] - ETA: 0s - loss: 0.1810 - acc: 0.9999"
     ]
    },
    {
     "name": "stderr",
     "output_type": "stream",
     "text": [
      "WARNING:absl:Found untraced functions such as _jit_compiled_convolution_op, _jit_compiled_convolution_op, _jit_compiled_convolution_op, _jit_compiled_convolution_op, _jit_compiled_convolution_op while saving (showing 5 of 459). These functions will not be directly callable after loading.\n"
     ]
    },
    {
     "name": "stdout",
     "output_type": "stream",
     "text": [
      "289/289 [==============================] - 253s 877ms/step - loss: 0.1810 - acc: 0.9999 - val_loss: 0.2161 - val_acc: 0.9816\n",
      "Epoch 213/400\n",
      "289/289 [==============================] - ETA: 0s - loss: 0.1784 - acc: 0.9999"
     ]
    },
    {
     "name": "stderr",
     "output_type": "stream",
     "text": [
      "WARNING:absl:Found untraced functions such as _jit_compiled_convolution_op, _jit_compiled_convolution_op, _jit_compiled_convolution_op, _jit_compiled_convolution_op, _jit_compiled_convolution_op while saving (showing 5 of 459). These functions will not be directly callable after loading.\n"
     ]
    },
    {
     "name": "stdout",
     "output_type": "stream",
     "text": [
      "289/289 [==============================] - 257s 890ms/step - loss: 0.1784 - acc: 0.9999 - val_loss: 0.2124 - val_acc: 0.9818\n",
      "Epoch 214/400\n",
      "289/289 [==============================] - ETA: 0s - loss: 0.1758 - acc: 0.9999"
     ]
    },
    {
     "name": "stderr",
     "output_type": "stream",
     "text": [
      "WARNING:absl:Found untraced functions such as _jit_compiled_convolution_op, _jit_compiled_convolution_op, _jit_compiled_convolution_op, _jit_compiled_convolution_op, _jit_compiled_convolution_op while saving (showing 5 of 459). These functions will not be directly callable after loading.\n"
     ]
    },
    {
     "name": "stdout",
     "output_type": "stream",
     "text": [
      "289/289 [==============================] - 256s 886ms/step - loss: 0.1758 - acc: 0.9999 - val_loss: 0.2098 - val_acc: 0.9824\n",
      "Epoch 215/400\n",
      "289/289 [==============================] - ETA: 0s - loss: 0.1732 - acc: 0.9999"
     ]
    },
    {
     "name": "stderr",
     "output_type": "stream",
     "text": [
      "WARNING:absl:Found untraced functions such as _jit_compiled_convolution_op, _jit_compiled_convolution_op, _jit_compiled_convolution_op, _jit_compiled_convolution_op, _jit_compiled_convolution_op while saving (showing 5 of 459). These functions will not be directly callable after loading.\n"
     ]
    },
    {
     "name": "stdout",
     "output_type": "stream",
     "text": [
      "289/289 [==============================] - 246s 851ms/step - loss: 0.1732 - acc: 0.9999 - val_loss: 0.1992 - val_acc: 0.9851\n",
      "Epoch 216/400\n",
      "289/289 [==============================] - 167s 578ms/step - loss: 0.1707 - acc: 0.9999 - val_loss: 0.2068 - val_acc: 0.9817\n",
      "Epoch 217/400\n",
      "289/289 [==============================] - 168s 582ms/step - loss: 0.1681 - acc: 0.9999 - val_loss: 0.2011 - val_acc: 0.9826\n",
      "Epoch 218/400\n",
      "289/289 [==============================] - 168s 580ms/step - loss: 0.1656 - acc: 0.9999 - val_loss: 0.2043 - val_acc: 0.9810\n",
      "Epoch 219/400\n",
      "289/289 [==============================] - ETA: 0s - loss: 0.1631 - acc: 0.9999"
     ]
    },
    {
     "name": "stderr",
     "output_type": "stream",
     "text": [
      "WARNING:absl:Found untraced functions such as _jit_compiled_convolution_op, _jit_compiled_convolution_op, _jit_compiled_convolution_op, _jit_compiled_convolution_op, _jit_compiled_convolution_op while saving (showing 5 of 459). These functions will not be directly callable after loading.\n"
     ]
    },
    {
     "name": "stdout",
     "output_type": "stream",
     "text": [
      "289/289 [==============================] - 255s 885ms/step - loss: 0.1631 - acc: 0.9999 - val_loss: 0.1934 - val_acc: 0.9833\n",
      "Epoch 220/400\n",
      "289/289 [==============================] - 168s 581ms/step - loss: 0.1606 - acc: 0.9999 - val_loss: 0.2009 - val_acc: 0.9807\n",
      "Epoch 221/400\n",
      "289/289 [==============================] - 169s 587ms/step - loss: 0.1581 - acc: 0.9999 - val_loss: 0.1968 - val_acc: 0.9810\n",
      "Epoch 222/400\n",
      "289/289 [==============================] - ETA: 0s - loss: 0.1557 - acc: 0.9999"
     ]
    },
    {
     "name": "stderr",
     "output_type": "stream",
     "text": [
      "WARNING:absl:Found untraced functions such as _jit_compiled_convolution_op, _jit_compiled_convolution_op, _jit_compiled_convolution_op, _jit_compiled_convolution_op, _jit_compiled_convolution_op while saving (showing 5 of 459). These functions will not be directly callable after loading.\n"
     ]
    },
    {
     "name": "stdout",
     "output_type": "stream",
     "text": [
      "289/289 [==============================] - 251s 870ms/step - loss: 0.1557 - acc: 0.9999 - val_loss: 0.1851 - val_acc: 0.9830\n",
      "Epoch 223/400\n",
      "289/289 [==============================] - 167s 576ms/step - loss: 0.1533 - acc: 0.9999 - val_loss: 0.1879 - val_acc: 0.9817\n",
      "Epoch 224/400\n",
      "289/289 [==============================] - 167s 579ms/step - loss: 0.1509 - acc: 0.9999 - val_loss: 0.1870 - val_acc: 0.9815\n",
      "Epoch 225/400\n",
      "289/289 [==============================] - 170s 588ms/step - loss: 0.1485 - acc: 0.9999 - val_loss: 0.1873 - val_acc: 0.9810\n",
      "Epoch 226/400\n",
      "289/289 [==============================] - ETA: 0s - loss: 0.1461 - acc: 0.9999"
     ]
    },
    {
     "name": "stderr",
     "output_type": "stream",
     "text": [
      "WARNING:absl:Found untraced functions such as _jit_compiled_convolution_op, _jit_compiled_convolution_op, _jit_compiled_convolution_op, _jit_compiled_convolution_op, _jit_compiled_convolution_op while saving (showing 5 of 459). These functions will not be directly callable after loading.\n"
     ]
    },
    {
     "name": "stdout",
     "output_type": "stream",
     "text": [
      "289/289 [==============================] - 258s 893ms/step - loss: 0.1461 - acc: 0.9999 - val_loss: 0.1801 - val_acc: 0.9825\n",
      "Epoch 227/400\n",
      "289/289 [==============================] - ETA: 0s - loss: 0.1438 - acc: 0.9999"
     ]
    },
    {
     "name": "stderr",
     "output_type": "stream",
     "text": [
      "WARNING:absl:Found untraced functions such as _jit_compiled_convolution_op, _jit_compiled_convolution_op, _jit_compiled_convolution_op, _jit_compiled_convolution_op, _jit_compiled_convolution_op while saving (showing 5 of 459). These functions will not be directly callable after loading.\n"
     ]
    },
    {
     "name": "stdout",
     "output_type": "stream",
     "text": [
      "289/289 [==============================] - 260s 899ms/step - loss: 0.1438 - acc: 0.9999 - val_loss: 0.1769 - val_acc: 0.9825\n",
      "Epoch 228/400\n",
      "289/289 [==============================] - 170s 589ms/step - loss: 0.1414 - acc: 0.9999 - val_loss: 0.1823 - val_acc: 0.9803\n",
      "Epoch 229/400\n",
      "289/289 [==============================] - ETA: 0s - loss: 0.1391 - acc: 0.9999"
     ]
    },
    {
     "name": "stderr",
     "output_type": "stream",
     "text": [
      "WARNING:absl:Found untraced functions such as _jit_compiled_convolution_op, _jit_compiled_convolution_op, _jit_compiled_convolution_op, _jit_compiled_convolution_op, _jit_compiled_convolution_op while saving (showing 5 of 459). These functions will not be directly callable after loading.\n"
     ]
    },
    {
     "name": "stdout",
     "output_type": "stream",
     "text": [
      "289/289 [==============================] - 254s 880ms/step - loss: 0.1391 - acc: 0.9999 - val_loss: 0.1750 - val_acc: 0.9819\n",
      "Epoch 230/400\n",
      "289/289 [==============================] - 167s 579ms/step - loss: 0.1368 - acc: 0.9999 - val_loss: 0.1778 - val_acc: 0.9808\n",
      "Epoch 231/400\n",
      "289/289 [==============================] - ETA: 0s - loss: 0.1346 - acc: 0.9999"
     ]
    },
    {
     "name": "stderr",
     "output_type": "stream",
     "text": [
      "WARNING:absl:Found untraced functions such as _jit_compiled_convolution_op, _jit_compiled_convolution_op, _jit_compiled_convolution_op, _jit_compiled_convolution_op, _jit_compiled_convolution_op while saving (showing 5 of 459). These functions will not be directly callable after loading.\n"
     ]
    },
    {
     "name": "stdout",
     "output_type": "stream",
     "text": [
      "289/289 [==============================] - 251s 871ms/step - loss: 0.1346 - acc: 0.9999 - val_loss: 0.1700 - val_acc: 0.9823\n",
      "Epoch 232/400\n",
      "289/289 [==============================] - 168s 580ms/step - loss: 0.1323 - acc: 0.9999 - val_loss: 0.1732 - val_acc: 0.9812\n",
      "Epoch 233/400\n",
      "289/289 [==============================] - 168s 582ms/step - loss: 0.1301 - acc: 0.9999 - val_loss: 0.1771 - val_acc: 0.9792\n",
      "Epoch 234/400\n",
      "289/289 [==============================] - ETA: 0s - loss: 0.1279 - acc: 0.9999"
     ]
    },
    {
     "name": "stderr",
     "output_type": "stream",
     "text": [
      "WARNING:absl:Found untraced functions such as _jit_compiled_convolution_op, _jit_compiled_convolution_op, _jit_compiled_convolution_op, _jit_compiled_convolution_op, _jit_compiled_convolution_op while saving (showing 5 of 459). These functions will not be directly callable after loading.\n"
     ]
    },
    {
     "name": "stdout",
     "output_type": "stream",
     "text": [
      "289/289 [==============================] - 250s 868ms/step - loss: 0.1279 - acc: 0.9999 - val_loss: 0.1630 - val_acc: 0.9823\n",
      "Epoch 235/400\n",
      "289/289 [==============================] - ETA: 0s - loss: 0.1257 - acc: 0.9999"
     ]
    },
    {
     "name": "stderr",
     "output_type": "stream",
     "text": [
      "WARNING:absl:Found untraced functions such as _jit_compiled_convolution_op, _jit_compiled_convolution_op, _jit_compiled_convolution_op, _jit_compiled_convolution_op, _jit_compiled_convolution_op while saving (showing 5 of 459). These functions will not be directly callable after loading.\n"
     ]
    },
    {
     "name": "stdout",
     "output_type": "stream",
     "text": [
      "289/289 [==============================] - 252s 873ms/step - loss: 0.1257 - acc: 0.9999 - val_loss: 0.1574 - val_acc: 0.9831\n",
      "Epoch 236/400\n",
      "289/289 [==============================] - 169s 584ms/step - loss: 0.1235 - acc: 0.9999 - val_loss: 0.1636 - val_acc: 0.9807\n",
      "Epoch 237/400\n",
      "289/289 [==============================] - 168s 583ms/step - loss: 0.1213 - acc: 0.9999 - val_loss: 0.1650 - val_acc: 0.9802\n",
      "Epoch 238/400\n",
      "289/289 [==============================] - ETA: 0s - loss: 0.1192 - acc: 0.9999"
     ]
    },
    {
     "name": "stderr",
     "output_type": "stream",
     "text": [
      "WARNING:absl:Found untraced functions such as _jit_compiled_convolution_op, _jit_compiled_convolution_op, _jit_compiled_convolution_op, _jit_compiled_convolution_op, _jit_compiled_convolution_op while saving (showing 5 of 459). These functions will not be directly callable after loading.\n"
     ]
    },
    {
     "name": "stdout",
     "output_type": "stream",
     "text": [
      "289/289 [==============================] - 250s 866ms/step - loss: 0.1192 - acc: 0.9999 - val_loss: 0.1524 - val_acc: 0.9830\n",
      "Epoch 239/400\n",
      "289/289 [==============================] - 166s 575ms/step - loss: 0.1171 - acc: 0.9999 - val_loss: 0.1612 - val_acc: 0.9804\n",
      "Epoch 240/400\n",
      "289/289 [==============================] - ETA: 0s - loss: 0.1150 - acc: 0.9999"
     ]
    },
    {
     "name": "stderr",
     "output_type": "stream",
     "text": [
      "WARNING:absl:Found untraced functions such as _jit_compiled_convolution_op, _jit_compiled_convolution_op, _jit_compiled_convolution_op, _jit_compiled_convolution_op, _jit_compiled_convolution_op while saving (showing 5 of 459). These functions will not be directly callable after loading.\n"
     ]
    },
    {
     "name": "stdout",
     "output_type": "stream",
     "text": [
      "289/289 [==============================] - 251s 868ms/step - loss: 0.1150 - acc: 0.9999 - val_loss: 0.1478 - val_acc: 0.9833\n",
      "Epoch 241/400\n",
      "289/289 [==============================] - 168s 580ms/step - loss: 0.1129 - acc: 0.9999 - val_loss: 0.1500 - val_acc: 0.9818\n",
      "Epoch 242/400\n",
      "289/289 [==============================] - 167s 577ms/step - loss: 0.1109 - acc: 0.9999 - val_loss: 0.1510 - val_acc: 0.9816\n",
      "Epoch 243/400\n",
      "289/289 [==============================] - 169s 585ms/step - loss: 0.1088 - acc: 0.9999 - val_loss: 0.1500 - val_acc: 0.9808\n",
      "Epoch 244/400\n",
      "289/289 [==============================] - 166s 574ms/step - loss: 0.1068 - acc: 0.9999 - val_loss: 0.1493 - val_acc: 0.9805\n",
      "Epoch 245/400\n",
      "289/289 [==============================] - ETA: 0s - loss: 0.1048 - acc: 0.9999"
     ]
    },
    {
     "name": "stderr",
     "output_type": "stream",
     "text": [
      "WARNING:absl:Found untraced functions such as _jit_compiled_convolution_op, _jit_compiled_convolution_op, _jit_compiled_convolution_op, _jit_compiled_convolution_op, _jit_compiled_convolution_op while saving (showing 5 of 459). These functions will not be directly callable after loading.\n"
     ]
    },
    {
     "name": "stdout",
     "output_type": "stream",
     "text": [
      "289/289 [==============================] - 251s 870ms/step - loss: 0.1048 - acc: 0.9999 - val_loss: 0.1464 - val_acc: 0.9803\n",
      "Epoch 246/400\n",
      "289/289 [==============================] - ETA: 0s - loss: 0.1029 - acc: 0.9999"
     ]
    },
    {
     "name": "stderr",
     "output_type": "stream",
     "text": [
      "WARNING:absl:Found untraced functions such as _jit_compiled_convolution_op, _jit_compiled_convolution_op, _jit_compiled_convolution_op, _jit_compiled_convolution_op, _jit_compiled_convolution_op while saving (showing 5 of 459). These functions will not be directly callable after loading.\n"
     ]
    },
    {
     "name": "stdout",
     "output_type": "stream",
     "text": [
      "289/289 [==============================] - 252s 872ms/step - loss: 0.1029 - acc: 0.9999 - val_loss: 0.1385 - val_acc: 0.9823\n",
      "Epoch 247/400\n",
      "289/289 [==============================] - ETA: 0s - loss: 0.1009 - acc: 0.9999"
     ]
    },
    {
     "name": "stderr",
     "output_type": "stream",
     "text": [
      "WARNING:absl:Found untraced functions such as _jit_compiled_convolution_op, _jit_compiled_convolution_op, _jit_compiled_convolution_op, _jit_compiled_convolution_op, _jit_compiled_convolution_op while saving (showing 5 of 459). These functions will not be directly callable after loading.\n"
     ]
    },
    {
     "name": "stdout",
     "output_type": "stream",
     "text": [
      "289/289 [==============================] - 252s 874ms/step - loss: 0.1009 - acc: 0.9999 - val_loss: 0.1344 - val_acc: 0.9823\n",
      "Epoch 248/400\n",
      "289/289 [==============================] - 168s 582ms/step - loss: 0.0990 - acc: 0.9999 - val_loss: 0.1363 - val_acc: 0.9818\n",
      "Epoch 249/400\n",
      "289/289 [==============================] - 166s 574ms/step - loss: 0.0970 - acc: 0.9999 - val_loss: 0.1368 - val_acc: 0.9815\n",
      "Epoch 250/400\n",
      "289/289 [==============================] - 168s 582ms/step - loss: 0.0951 - acc: 0.9999 - val_loss: 0.1351 - val_acc: 0.9813\n",
      "Epoch 251/400\n",
      "289/289 [==============================] - ETA: 0s - loss: 0.0933 - acc: 0.9999"
     ]
    },
    {
     "name": "stderr",
     "output_type": "stream",
     "text": [
      "WARNING:absl:Found untraced functions such as _jit_compiled_convolution_op, _jit_compiled_convolution_op, _jit_compiled_convolution_op, _jit_compiled_convolution_op, _jit_compiled_convolution_op while saving (showing 5 of 459). These functions will not be directly callable after loading.\n"
     ]
    },
    {
     "name": "stdout",
     "output_type": "stream",
     "text": [
      "289/289 [==============================] - 251s 870ms/step - loss: 0.0933 - acc: 0.9999 - val_loss: 0.1262 - val_acc: 0.9830\n",
      "Epoch 252/400\n",
      "289/289 [==============================] - ETA: 0s - loss: 0.0914 - acc: 0.9999"
     ]
    },
    {
     "name": "stderr",
     "output_type": "stream",
     "text": [
      "WARNING:absl:Found untraced functions such as _jit_compiled_convolution_op, _jit_compiled_convolution_op, _jit_compiled_convolution_op, _jit_compiled_convolution_op, _jit_compiled_convolution_op while saving (showing 5 of 459). These functions will not be directly callable after loading.\n"
     ]
    },
    {
     "name": "stdout",
     "output_type": "stream",
     "text": [
      "289/289 [==============================] - 252s 874ms/step - loss: 0.0914 - acc: 0.9999 - val_loss: 0.1232 - val_acc: 0.9835\n",
      "Epoch 253/400\n",
      "289/289 [==============================] - 170s 587ms/step - loss: 0.0896 - acc: 0.9999 - val_loss: 0.1277 - val_acc: 0.9816\n",
      "Epoch 254/400\n",
      "289/289 [==============================] - ETA: 0s - loss: 0.0877 - acc: 0.9999"
     ]
    },
    {
     "name": "stderr",
     "output_type": "stream",
     "text": [
      "WARNING:absl:Found untraced functions such as _jit_compiled_convolution_op, _jit_compiled_convolution_op, _jit_compiled_convolution_op, _jit_compiled_convolution_op, _jit_compiled_convolution_op while saving (showing 5 of 459). These functions will not be directly callable after loading.\n"
     ]
    },
    {
     "name": "stdout",
     "output_type": "stream",
     "text": [
      "289/289 [==============================] - 250s 867ms/step - loss: 0.0877 - acc: 0.9999 - val_loss: 0.1229 - val_acc: 0.9825\n",
      "Epoch 255/400\n",
      "289/289 [==============================] - ETA: 0s - loss: 0.0859 - acc: 0.9999"
     ]
    },
    {
     "name": "stderr",
     "output_type": "stream",
     "text": [
      "WARNING:absl:Found untraced functions such as _jit_compiled_convolution_op, _jit_compiled_convolution_op, _jit_compiled_convolution_op, _jit_compiled_convolution_op, _jit_compiled_convolution_op while saving (showing 5 of 459). These functions will not be directly callable after loading.\n"
     ]
    },
    {
     "name": "stdout",
     "output_type": "stream",
     "text": [
      "289/289 [==============================] - 244s 846ms/step - loss: 0.0859 - acc: 0.9999 - val_loss: 0.1208 - val_acc: 0.9825\n",
      "Epoch 256/400\n",
      "289/289 [==============================] - ETA: 0s - loss: 0.0842 - acc: 0.9999"
     ]
    },
    {
     "name": "stderr",
     "output_type": "stream",
     "text": [
      "WARNING:absl:Found untraced functions such as _jit_compiled_convolution_op, _jit_compiled_convolution_op, _jit_compiled_convolution_op, _jit_compiled_convolution_op, _jit_compiled_convolution_op while saving (showing 5 of 459). These functions will not be directly callable after loading.\n"
     ]
    },
    {
     "name": "stdout",
     "output_type": "stream",
     "text": [
      "289/289 [==============================] - 246s 851ms/step - loss: 0.0842 - acc: 0.9999 - val_loss: 0.1206 - val_acc: 0.9822\n",
      "Epoch 257/400\n",
      "289/289 [==============================] - ETA: 0s - loss: 0.0824 - acc: 0.9999"
     ]
    },
    {
     "name": "stderr",
     "output_type": "stream",
     "text": [
      "WARNING:absl:Found untraced functions such as _jit_compiled_convolution_op, _jit_compiled_convolution_op, _jit_compiled_convolution_op, _jit_compiled_convolution_op, _jit_compiled_convolution_op while saving (showing 5 of 459). These functions will not be directly callable after loading.\n"
     ]
    },
    {
     "name": "stdout",
     "output_type": "stream",
     "text": [
      "289/289 [==============================] - 249s 862ms/step - loss: 0.0824 - acc: 0.9999 - val_loss: 0.1119 - val_acc: 0.9844\n",
      "Epoch 258/400\n",
      "289/289 [==============================] - 167s 577ms/step - loss: 0.0806 - acc: 0.9999 - val_loss: 0.1149 - val_acc: 0.9829\n",
      "Epoch 259/400\n",
      "289/289 [==============================] - 168s 582ms/step - loss: 0.0789 - acc: 0.9999 - val_loss: 0.1192 - val_acc: 0.9809\n",
      "Epoch 260/400\n",
      "289/289 [==============================] - 166s 575ms/step - loss: 0.0772 - acc: 0.9999 - val_loss: 0.1239 - val_acc: 0.9794\n",
      "Epoch 261/400\n",
      "289/289 [==============================] - 167s 579ms/step - loss: 0.0755 - acc: 0.9999 - val_loss: 0.1160 - val_acc: 0.9812\n",
      "Epoch 262/400\n",
      "289/289 [==============================] - 168s 583ms/step - loss: 0.0739 - acc: 0.9999 - val_loss: 0.1197 - val_acc: 0.9794\n",
      "Epoch 263/400\n",
      "289/289 [==============================] - ETA: 0s - loss: 0.0722 - acc: 0.9999"
     ]
    },
    {
     "name": "stderr",
     "output_type": "stream",
     "text": [
      "WARNING:absl:Found untraced functions such as _jit_compiled_convolution_op, _jit_compiled_convolution_op, _jit_compiled_convolution_op, _jit_compiled_convolution_op, _jit_compiled_convolution_op while saving (showing 5 of 459). These functions will not be directly callable after loading.\n"
     ]
    },
    {
     "name": "stdout",
     "output_type": "stream",
     "text": [
      "289/289 [==============================] - 252s 872ms/step - loss: 0.0722 - acc: 0.9999 - val_loss: 0.1096 - val_acc: 0.9817\n",
      "Epoch 264/400\n",
      "289/289 [==============================] - 167s 578ms/step - loss: 0.0706 - acc: 0.9999 - val_loss: 0.1107 - val_acc: 0.9808\n",
      "Epoch 265/400\n",
      "289/289 [==============================] - ETA: 0s - loss: 0.0690 - acc: 0.9999"
     ]
    },
    {
     "name": "stderr",
     "output_type": "stream",
     "text": [
      "WARNING:absl:Found untraced functions such as _jit_compiled_convolution_op, _jit_compiled_convolution_op, _jit_compiled_convolution_op, _jit_compiled_convolution_op, _jit_compiled_convolution_op while saving (showing 5 of 459). These functions will not be directly callable after loading.\n"
     ]
    },
    {
     "name": "stdout",
     "output_type": "stream",
     "text": [
      "289/289 [==============================] - 253s 876ms/step - loss: 0.0690 - acc: 0.9999 - val_loss: 0.1040 - val_acc: 0.9826\n",
      "Epoch 266/400\n",
      "289/289 [==============================] - 166s 574ms/step - loss: 0.0674 - acc: 0.9999 - val_loss: 0.1096 - val_acc: 0.9805\n",
      "Epoch 267/400\n",
      "289/289 [==============================] - ETA: 0s - loss: 0.0658 - acc: 0.9999"
     ]
    },
    {
     "name": "stderr",
     "output_type": "stream",
     "text": [
      "WARNING:absl:Found untraced functions such as _jit_compiled_convolution_op, _jit_compiled_convolution_op, _jit_compiled_convolution_op, _jit_compiled_convolution_op, _jit_compiled_convolution_op while saving (showing 5 of 459). These functions will not be directly callable after loading.\n"
     ]
    },
    {
     "name": "stdout",
     "output_type": "stream",
     "text": [
      "289/289 [==============================] - 250s 868ms/step - loss: 0.0658 - acc: 0.9999 - val_loss: 0.1019 - val_acc: 0.9821\n",
      "Epoch 268/400\n",
      "289/289 [==============================] - 168s 580ms/step - loss: 0.0643 - acc: 0.9999 - val_loss: 0.1060 - val_acc: 0.9802\n",
      "Epoch 269/400\n",
      "289/289 [==============================] - ETA: 0s - loss: 0.0628 - acc: 0.9999"
     ]
    },
    {
     "name": "stderr",
     "output_type": "stream",
     "text": [
      "WARNING:absl:Found untraced functions such as _jit_compiled_convolution_op, _jit_compiled_convolution_op, _jit_compiled_convolution_op, _jit_compiled_convolution_op, _jit_compiled_convolution_op while saving (showing 5 of 459). These functions will not be directly callable after loading.\n"
     ]
    },
    {
     "name": "stdout",
     "output_type": "stream",
     "text": [
      "289/289 [==============================] - 249s 863ms/step - loss: 0.0628 - acc: 0.9999 - val_loss: 0.0993 - val_acc: 0.9812\n",
      "Epoch 270/400\n",
      "289/289 [==============================] - ETA: 0s - loss: 0.0612 - acc: 0.9999"
     ]
    },
    {
     "name": "stderr",
     "output_type": "stream",
     "text": [
      "WARNING:absl:Found untraced functions such as _jit_compiled_convolution_op, _jit_compiled_convolution_op, _jit_compiled_convolution_op, _jit_compiled_convolution_op, _jit_compiled_convolution_op while saving (showing 5 of 459). These functions will not be directly callable after loading.\n"
     ]
    },
    {
     "name": "stdout",
     "output_type": "stream",
     "text": [
      "289/289 [==============================] - 251s 870ms/step - loss: 0.0612 - acc: 0.9999 - val_loss: 0.0925 - val_acc: 0.9838\n",
      "Epoch 271/400\n",
      "289/289 [==============================] - 170s 587ms/step - loss: 0.0597 - acc: 0.9999 - val_loss: 0.0932 - val_acc: 0.9829\n",
      "Epoch 272/400\n",
      "289/289 [==============================] - 174s 602ms/step - loss: 0.0583 - acc: 0.9999 - val_loss: 0.0984 - val_acc: 0.9814\n",
      "Epoch 273/400\n",
      "289/289 [==============================] - 172s 594ms/step - loss: 0.0568 - acc: 0.9999 - val_loss: 0.0948 - val_acc: 0.9818\n",
      "Epoch 274/400\n",
      "289/289 [==============================] - ETA: 0s - loss: 0.0554 - acc: 0.9999"
     ]
    },
    {
     "name": "stderr",
     "output_type": "stream",
     "text": [
      "WARNING:absl:Found untraced functions such as _jit_compiled_convolution_op, _jit_compiled_convolution_op, _jit_compiled_convolution_op, _jit_compiled_convolution_op, _jit_compiled_convolution_op while saving (showing 5 of 459). These functions will not be directly callable after loading.\n"
     ]
    },
    {
     "name": "stdout",
     "output_type": "stream",
     "text": [
      "289/289 [==============================] - 252s 871ms/step - loss: 0.0554 - acc: 0.9999 - val_loss: 0.0871 - val_acc: 0.9836\n",
      "Epoch 275/400\n",
      "289/289 [==============================] - ETA: 0s - loss: 0.0540 - acc: 0.9999"
     ]
    },
    {
     "name": "stderr",
     "output_type": "stream",
     "text": [
      "WARNING:absl:Found untraced functions such as _jit_compiled_convolution_op, _jit_compiled_convolution_op, _jit_compiled_convolution_op, _jit_compiled_convolution_op, _jit_compiled_convolution_op while saving (showing 5 of 459). These functions will not be directly callable after loading.\n"
     ]
    },
    {
     "name": "stdout",
     "output_type": "stream",
     "text": [
      "289/289 [==============================] - 253s 875ms/step - loss: 0.0540 - acc: 0.9999 - val_loss: 0.0851 - val_acc: 0.9839\n",
      "Epoch 276/400\n",
      "289/289 [==============================] - 173s 600ms/step - loss: 0.0526 - acc: 0.9999 - val_loss: 0.0871 - val_acc: 0.9821\n",
      "Epoch 277/400\n",
      "289/289 [==============================] - 167s 579ms/step - loss: 0.0512 - acc: 0.9999 - val_loss: 0.0888 - val_acc: 0.9812\n",
      "Epoch 278/400\n",
      "289/289 [==============================] - ETA: 0s - loss: 0.0499 - acc: 0.9999"
     ]
    },
    {
     "name": "stderr",
     "output_type": "stream",
     "text": [
      "WARNING:absl:Found untraced functions such as _jit_compiled_convolution_op, _jit_compiled_convolution_op, _jit_compiled_convolution_op, _jit_compiled_convolution_op, _jit_compiled_convolution_op while saving (showing 5 of 459). These functions will not be directly callable after loading.\n"
     ]
    },
    {
     "name": "stdout",
     "output_type": "stream",
     "text": [
      "289/289 [==============================] - 247s 855ms/step - loss: 0.0499 - acc: 0.9999 - val_loss: 0.0848 - val_acc: 0.9827\n",
      "Epoch 279/400\n",
      "289/289 [==============================] - 168s 580ms/step - loss: 0.0485 - acc: 0.9999 - val_loss: 0.0865 - val_acc: 0.9810\n",
      "Epoch 280/400\n",
      "289/289 [==============================] - ETA: 0s - loss: 0.0472 - acc: 0.9999"
     ]
    },
    {
     "name": "stderr",
     "output_type": "stream",
     "text": [
      "WARNING:absl:Found untraced functions such as _jit_compiled_convolution_op, _jit_compiled_convolution_op, _jit_compiled_convolution_op, _jit_compiled_convolution_op, _jit_compiled_convolution_op while saving (showing 5 of 459). These functions will not be directly callable after loading.\n"
     ]
    },
    {
     "name": "stdout",
     "output_type": "stream",
     "text": [
      "289/289 [==============================] - 248s 860ms/step - loss: 0.0472 - acc: 0.9999 - val_loss: 0.0810 - val_acc: 0.9819\n",
      "Epoch 281/400\n",
      "289/289 [==============================] - ETA: 0s - loss: 0.0459 - acc: 0.9999"
     ]
    },
    {
     "name": "stderr",
     "output_type": "stream",
     "text": [
      "WARNING:absl:Found untraced functions such as _jit_compiled_convolution_op, _jit_compiled_convolution_op, _jit_compiled_convolution_op, _jit_compiled_convolution_op, _jit_compiled_convolution_op while saving (showing 5 of 459). These functions will not be directly callable after loading.\n"
     ]
    },
    {
     "name": "stdout",
     "output_type": "stream",
     "text": [
      "289/289 [==============================] - 248s 859ms/step - loss: 0.0459 - acc: 0.9999 - val_loss: 0.0748 - val_acc: 0.9834\n",
      "Epoch 282/400\n",
      "289/289 [==============================] - 171s 593ms/step - loss: 0.0446 - acc: 0.9999 - val_loss: 0.0846 - val_acc: 0.9805\n",
      "Epoch 283/400\n",
      "289/289 [==============================] - 170s 587ms/step - loss: 0.0434 - acc: 0.9999 - val_loss: 0.0826 - val_acc: 0.9810\n",
      "Epoch 284/400\n",
      "289/289 [==============================] - 167s 578ms/step - loss: 0.0421 - acc: 0.9999 - val_loss: 0.0808 - val_acc: 0.9818\n",
      "Epoch 285/400\n",
      "289/289 [==============================] - 167s 577ms/step - loss: 0.0409 - acc: 0.9999 - val_loss: 0.0845 - val_acc: 0.9800\n",
      "Epoch 286/400\n",
      "289/289 [==============================] - 168s 582ms/step - loss: 0.0397 - acc: 0.9999 - val_loss: 0.0778 - val_acc: 0.9812\n",
      "Epoch 287/400\n",
      "289/289 [==============================] - 168s 581ms/step - loss: 0.0385 - acc: 0.9999 - val_loss: 0.0767 - val_acc: 0.9810\n",
      "Epoch 288/400\n",
      "289/289 [==============================] - ETA: 0s - loss: 0.0373 - acc: 0.9999"
     ]
    },
    {
     "name": "stderr",
     "output_type": "stream",
     "text": [
      "WARNING:absl:Found untraced functions such as _jit_compiled_convolution_op, _jit_compiled_convolution_op, _jit_compiled_convolution_op, _jit_compiled_convolution_op, _jit_compiled_convolution_op while saving (showing 5 of 459). These functions will not be directly callable after loading.\n"
     ]
    },
    {
     "name": "stdout",
     "output_type": "stream",
     "text": [
      "289/289 [==============================] - 247s 857ms/step - loss: 0.0373 - acc: 0.9999 - val_loss: 0.0720 - val_acc: 0.9823\n",
      "Epoch 289/400\n",
      "289/289 [==============================] - 169s 586ms/step - loss: 0.0362 - acc: 0.9999 - val_loss: 0.0759 - val_acc: 0.9806\n",
      "Epoch 290/400\n",
      "289/289 [==============================] - 168s 582ms/step - loss: 0.0351 - acc: 0.9999 - val_loss: 0.0732 - val_acc: 0.9807\n",
      "Epoch 291/400\n",
      "289/289 [==============================] - 167s 578ms/step - loss: 0.0340 - acc: 0.9999 - val_loss: 0.0753 - val_acc: 0.9801\n",
      "Epoch 292/400\n",
      "289/289 [==============================] - ETA: 0s - loss: 0.0329 - acc: 0.9999"
     ]
    },
    {
     "name": "stderr",
     "output_type": "stream",
     "text": [
      "WARNING:absl:Found untraced functions such as _jit_compiled_convolution_op, _jit_compiled_convolution_op, _jit_compiled_convolution_op, _jit_compiled_convolution_op, _jit_compiled_convolution_op while saving (showing 5 of 459). These functions will not be directly callable after loading.\n"
     ]
    },
    {
     "name": "stdout",
     "output_type": "stream",
     "text": [
      "289/289 [==============================] - 247s 856ms/step - loss: 0.0329 - acc: 0.9999 - val_loss: 0.0702 - val_acc: 0.9814\n",
      "Epoch 293/400\n",
      "289/289 [==============================] - 170s 588ms/step - loss: 0.0318 - acc: 0.9999 - val_loss: 0.0738 - val_acc: 0.9802\n",
      "Epoch 294/400\n",
      "289/289 [==============================] - 166s 575ms/step - loss: 0.0307 - acc: 0.9999 - val_loss: 0.0732 - val_acc: 0.9805\n",
      "Epoch 295/400\n",
      "289/289 [==============================] - 167s 577ms/step - loss: 0.0297 - acc: 0.9999 - val_loss: 0.0758 - val_acc: 0.9791\n",
      "Epoch 296/400\n",
      "289/289 [==============================] - ETA: 0s - loss: 0.0287 - acc: 0.9999"
     ]
    },
    {
     "name": "stderr",
     "output_type": "stream",
     "text": [
      "WARNING:absl:Found untraced functions such as _jit_compiled_convolution_op, _jit_compiled_convolution_op, _jit_compiled_convolution_op, _jit_compiled_convolution_op, _jit_compiled_convolution_op while saving (showing 5 of 459). These functions will not be directly callable after loading.\n"
     ]
    },
    {
     "name": "stdout",
     "output_type": "stream",
     "text": [
      "289/289 [==============================] - 246s 852ms/step - loss: 0.0287 - acc: 0.9999 - val_loss: 0.0615 - val_acc: 0.9828\n",
      "Epoch 297/400\n",
      "289/289 [==============================] - 167s 578ms/step - loss: 0.0277 - acc: 0.9999 - val_loss: 0.0633 - val_acc: 0.9814\n",
      "Epoch 298/400\n",
      "289/289 [==============================] - ETA: 0s - loss: 0.0267 - acc: 0.9999"
     ]
    },
    {
     "name": "stderr",
     "output_type": "stream",
     "text": [
      "WARNING:absl:Found untraced functions such as _jit_compiled_convolution_op, _jit_compiled_convolution_op, _jit_compiled_convolution_op, _jit_compiled_convolution_op, _jit_compiled_convolution_op while saving (showing 5 of 459). These functions will not be directly callable after loading.\n"
     ]
    },
    {
     "name": "stdout",
     "output_type": "stream",
     "text": [
      "289/289 [==============================] - 253s 877ms/step - loss: 0.0267 - acc: 0.9999 - val_loss: 0.0583 - val_acc: 0.9829\n",
      "Epoch 299/400\n",
      "289/289 [==============================] - 170s 587ms/step - loss: 0.0258 - acc: 0.9999 - val_loss: 0.0615 - val_acc: 0.9816\n",
      "Epoch 300/400\n",
      "289/289 [==============================] - 168s 580ms/step - loss: 0.0248 - acc: 0.9999 - val_loss: 0.0619 - val_acc: 0.9810\n",
      "Epoch 301/400\n",
      "289/289 [==============================] - ETA: 0s - loss: 0.0239 - acc: 0.9999"
     ]
    },
    {
     "name": "stderr",
     "output_type": "stream",
     "text": [
      "WARNING:absl:Found untraced functions such as _jit_compiled_convolution_op, _jit_compiled_convolution_op, _jit_compiled_convolution_op, _jit_compiled_convolution_op, _jit_compiled_convolution_op while saving (showing 5 of 459). These functions will not be directly callable after loading.\n"
     ]
    },
    {
     "name": "stdout",
     "output_type": "stream",
     "text": [
      "289/289 [==============================] - 246s 852ms/step - loss: 0.0239 - acc: 0.9999 - val_loss: 0.0577 - val_acc: 0.9822\n",
      "Epoch 302/400\n",
      "289/289 [==============================] - 168s 582ms/step - loss: 0.0230 - acc: 0.9999 - val_loss: 0.0614 - val_acc: 0.9805\n",
      "Epoch 303/400\n",
      "289/289 [==============================] - ETA: 0s - loss: 0.0221 - acc: 0.9999"
     ]
    },
    {
     "name": "stderr",
     "output_type": "stream",
     "text": [
      "WARNING:absl:Found untraced functions such as _jit_compiled_convolution_op, _jit_compiled_convolution_op, _jit_compiled_convolution_op, _jit_compiled_convolution_op, _jit_compiled_convolution_op while saving (showing 5 of 459). These functions will not be directly callable after loading.\n"
     ]
    },
    {
     "name": "stdout",
     "output_type": "stream",
     "text": [
      "289/289 [==============================] - 251s 869ms/step - loss: 0.0221 - acc: 0.9999 - val_loss: 0.0575 - val_acc: 0.9818\n",
      "Epoch 304/400\n",
      "289/289 [==============================] - ETA: 0s - loss: 0.0213 - acc: 0.9999"
     ]
    },
    {
     "name": "stderr",
     "output_type": "stream",
     "text": [
      "WARNING:absl:Found untraced functions such as _jit_compiled_convolution_op, _jit_compiled_convolution_op, _jit_compiled_convolution_op, _jit_compiled_convolution_op, _jit_compiled_convolution_op while saving (showing 5 of 459). These functions will not be directly callable after loading.\n"
     ]
    },
    {
     "name": "stdout",
     "output_type": "stream",
     "text": [
      "289/289 [==============================] - 253s 877ms/step - loss: 0.0213 - acc: 0.9999 - val_loss: 0.0535 - val_acc: 0.9830\n",
      "Epoch 305/400\n",
      "289/289 [==============================] - 170s 589ms/step - loss: 0.0204 - acc: 0.9999 - val_loss: 0.0601 - val_acc: 0.9801\n",
      "Epoch 306/400\n",
      "289/289 [==============================] - ETA: 0s - loss: 0.0196 - acc: 0.9999"
     ]
    },
    {
     "name": "stderr",
     "output_type": "stream",
     "text": [
      "WARNING:absl:Found untraced functions such as _jit_compiled_convolution_op, _jit_compiled_convolution_op, _jit_compiled_convolution_op, _jit_compiled_convolution_op, _jit_compiled_convolution_op while saving (showing 5 of 459). These functions will not be directly callable after loading.\n"
     ]
    },
    {
     "name": "stdout",
     "output_type": "stream",
     "text": [
      "289/289 [==============================] - 247s 856ms/step - loss: 0.0196 - acc: 0.9999 - val_loss: 0.0526 - val_acc: 0.9823\n",
      "Epoch 307/400\n",
      "289/289 [==============================] - 171s 591ms/step - loss: 0.0188 - acc: 0.9999 - val_loss: 0.0548 - val_acc: 0.9807\n",
      "Epoch 308/400\n",
      "289/289 [==============================] - ETA: 0s - loss: 0.0180 - acc: 0.9999"
     ]
    },
    {
     "name": "stderr",
     "output_type": "stream",
     "text": [
      "WARNING:absl:Found untraced functions such as _jit_compiled_convolution_op, _jit_compiled_convolution_op, _jit_compiled_convolution_op, _jit_compiled_convolution_op, _jit_compiled_convolution_op while saving (showing 5 of 459). These functions will not be directly callable after loading.\n"
     ]
    },
    {
     "name": "stdout",
     "output_type": "stream",
     "text": [
      "289/289 [==============================] - 255s 882ms/step - loss: 0.0180 - acc: 0.9999 - val_loss: 0.0487 - val_acc: 0.9825\n",
      "Epoch 309/400\n",
      "289/289 [==============================] - 167s 578ms/step - loss: 0.0173 - acc: 0.9999 - val_loss: 0.0504 - val_acc: 0.9816\n",
      "Epoch 310/400\n",
      "289/289 [==============================] - 171s 593ms/step - loss: 0.0165 - acc: 0.9999 - val_loss: 0.0497 - val_acc: 0.9814\n",
      "Epoch 311/400\n",
      "289/289 [==============================] - 170s 588ms/step - loss: 0.0158 - acc: 0.9999 - val_loss: 0.0510 - val_acc: 0.9812\n",
      "Epoch 312/400\n",
      "289/289 [==============================] - 169s 585ms/step - loss: 0.0151 - acc: 0.9999 - val_loss: 0.0508 - val_acc: 0.9809\n",
      "Epoch 313/400\n",
      "289/289 [==============================] - ETA: 0s - loss: 0.0144 - acc: 0.9999"
     ]
    },
    {
     "name": "stderr",
     "output_type": "stream",
     "text": [
      "WARNING:absl:Found untraced functions such as _jit_compiled_convolution_op, _jit_compiled_convolution_op, _jit_compiled_convolution_op, _jit_compiled_convolution_op, _jit_compiled_convolution_op while saving (showing 5 of 459). These functions will not be directly callable after loading.\n"
     ]
    },
    {
     "name": "stdout",
     "output_type": "stream",
     "text": [
      "289/289 [==============================] - 248s 859ms/step - loss: 0.0144 - acc: 0.9999 - val_loss: 0.0485 - val_acc: 0.9817\n",
      "Epoch 314/400\n",
      "289/289 [==============================] - 167s 576ms/step - loss: 0.0137 - acc: 0.9999 - val_loss: 0.0503 - val_acc: 0.9807\n",
      "Epoch 315/400\n",
      "289/289 [==============================] - ETA: 0s - loss: 0.0130 - acc: 0.9999"
     ]
    },
    {
     "name": "stderr",
     "output_type": "stream",
     "text": [
      "WARNING:absl:Found untraced functions such as _jit_compiled_convolution_op, _jit_compiled_convolution_op, _jit_compiled_convolution_op, _jit_compiled_convolution_op, _jit_compiled_convolution_op while saving (showing 5 of 459). These functions will not be directly callable after loading.\n"
     ]
    },
    {
     "name": "stdout",
     "output_type": "stream",
     "text": [
      "289/289 [==============================] - 248s 860ms/step - loss: 0.0130 - acc: 0.9999 - val_loss: 0.0363 - val_acc: 0.9851\n",
      "Epoch 316/400\n",
      "289/289 [==============================] - 170s 587ms/step - loss: 0.0124 - acc: 0.9999 - val_loss: 0.0478 - val_acc: 0.9807\n",
      "Epoch 317/400\n",
      "289/289 [==============================] - 170s 587ms/step - loss: 0.0118 - acc: 0.9999 - val_loss: 0.0411 - val_acc: 0.9827\n",
      "Epoch 318/400\n",
      "289/289 [==============================] - 168s 581ms/step - loss: 0.0112 - acc: 0.9999 - val_loss: 0.0450 - val_acc: 0.9811\n",
      "Epoch 319/400\n",
      "289/289 [==============================] - 168s 582ms/step - loss: 0.0106 - acc: 0.9999 - val_loss: 0.0535 - val_acc: 0.9771\n",
      "Epoch 320/400\n",
      "289/289 [==============================] - 168s 583ms/step - loss: 0.0100 - acc: 0.9999 - val_loss: 0.0431 - val_acc: 0.9813\n",
      "Epoch 321/400\n",
      "289/289 [==============================] - ETA: 0s - loss: 0.0095 - acc: 0.9999"
     ]
    },
    {
     "name": "stderr",
     "output_type": "stream",
     "text": [
      "WARNING:absl:Found untraced functions such as _jit_compiled_convolution_op, _jit_compiled_convolution_op, _jit_compiled_convolution_op, _jit_compiled_convolution_op, _jit_compiled_convolution_op while saving (showing 5 of 459). These functions will not be directly callable after loading.\n"
     ]
    },
    {
     "name": "stdout",
     "output_type": "stream",
     "text": [
      "289/289 [==============================] - 251s 869ms/step - loss: 0.0095 - acc: 0.9999 - val_loss: 0.0360 - val_acc: 0.9837\n",
      "Epoch 322/400\n",
      "289/289 [==============================] - 166s 574ms/step - loss: 0.0089 - acc: 0.9999 - val_loss: 0.0408 - val_acc: 0.9815\n",
      "Epoch 323/400\n",
      "289/289 [==============================] - 169s 586ms/step - loss: 0.0084 - acc: 0.9999 - val_loss: 0.0398 - val_acc: 0.9820\n",
      "Epoch 324/400\n",
      "289/289 [==============================] - 166s 575ms/step - loss: 0.0079 - acc: 0.9999 - val_loss: 0.0439 - val_acc: 0.9804\n",
      "Epoch 325/400\n",
      "289/289 [==============================] - 167s 578ms/step - loss: 0.0075 - acc: 0.9999 - val_loss: 0.0437 - val_acc: 0.9798\n",
      "Epoch 326/400\n",
      "289/289 [==============================] - ETA: 0s - loss: 0.0070 - acc: 0.9999"
     ]
    },
    {
     "name": "stderr",
     "output_type": "stream",
     "text": [
      "WARNING:absl:Found untraced functions such as _jit_compiled_convolution_op, _jit_compiled_convolution_op, _jit_compiled_convolution_op, _jit_compiled_convolution_op, _jit_compiled_convolution_op while saving (showing 5 of 459). These functions will not be directly callable after loading.\n"
     ]
    },
    {
     "name": "stdout",
     "output_type": "stream",
     "text": [
      "289/289 [==============================] - 250s 866ms/step - loss: 0.0070 - acc: 0.9999 - val_loss: 0.0330 - val_acc: 0.9838\n",
      "Epoch 327/400\n",
      "289/289 [==============================] - 166s 573ms/step - loss: 0.0066 - acc: 0.9999 - val_loss: 0.0427 - val_acc: 0.9801\n",
      "Epoch 328/400\n",
      "289/289 [==============================] - 168s 583ms/step - loss: 0.0062 - acc: 0.9999 - val_loss: 0.0363 - val_acc: 0.9818\n",
      "Epoch 329/400\n",
      "289/289 [==============================] - 166s 573ms/step - loss: 0.0058 - acc: 0.9999 - val_loss: 0.0395 - val_acc: 0.9806\n",
      "Epoch 330/400\n",
      "289/289 [==============================] - 167s 579ms/step - loss: 0.0054 - acc: 0.9999 - val_loss: 0.0344 - val_acc: 0.9824\n",
      "Epoch 331/400\n",
      "289/289 [==============================] - 167s 579ms/step - loss: 0.0050 - acc: 0.9999 - val_loss: 0.0436 - val_acc: 0.9795\n",
      "Epoch 332/400\n",
      "289/289 [==============================] - ETA: 0s - loss: 0.0046 - acc: 0.9999"
     ]
    },
    {
     "name": "stderr",
     "output_type": "stream",
     "text": [
      "WARNING:absl:Found untraced functions such as _jit_compiled_convolution_op, _jit_compiled_convolution_op, _jit_compiled_convolution_op, _jit_compiled_convolution_op, _jit_compiled_convolution_op while saving (showing 5 of 459). These functions will not be directly callable after loading.\n"
     ]
    },
    {
     "name": "stdout",
     "output_type": "stream",
     "text": [
      "289/289 [==============================] - 249s 864ms/step - loss: 0.0046 - acc: 0.9999 - val_loss: 0.0321 - val_acc: 0.9827\n",
      "Epoch 333/400\n",
      "289/289 [==============================] - 170s 587ms/step - loss: 0.0043 - acc: 0.9999 - val_loss: 0.0434 - val_acc: 0.9792\n",
      "Epoch 334/400\n",
      "289/289 [==============================] - 170s 588ms/step - loss: 0.0040 - acc: 0.9999 - val_loss: 0.0357 - val_acc: 0.9812\n",
      "Epoch 335/400\n",
      "289/289 [==============================] - 167s 579ms/step - loss: 0.0037 - acc: 0.9998 - val_loss: 0.0406 - val_acc: 0.9785\n",
      "Epoch 336/400\n",
      "289/289 [==============================] - ETA: 0s - loss: 0.0034 - acc: 0.9998"
     ]
    },
    {
     "name": "stderr",
     "output_type": "stream",
     "text": [
      "WARNING:absl:Found untraced functions such as _jit_compiled_convolution_op, _jit_compiled_convolution_op, _jit_compiled_convolution_op, _jit_compiled_convolution_op, _jit_compiled_convolution_op while saving (showing 5 of 459). These functions will not be directly callable after loading.\n"
     ]
    },
    {
     "name": "stdout",
     "output_type": "stream",
     "text": [
      "289/289 [==============================] - 252s 871ms/step - loss: 0.0034 - acc: 0.9998 - val_loss: 0.0278 - val_acc: 0.9836\n",
      "Epoch 337/400\n",
      "289/289 [==============================] - ETA: 0s - loss: 0.0032 - acc: 0.9998"
     ]
    },
    {
     "name": "stderr",
     "output_type": "stream",
     "text": [
      "WARNING:absl:Found untraced functions such as _jit_compiled_convolution_op, _jit_compiled_convolution_op, _jit_compiled_convolution_op, _jit_compiled_convolution_op, _jit_compiled_convolution_op while saving (showing 5 of 459). These functions will not be directly callable after loading.\n"
     ]
    },
    {
     "name": "stdout",
     "output_type": "stream",
     "text": [
      "289/289 [==============================] - 252s 873ms/step - loss: 0.0032 - acc: 0.9998 - val_loss: 0.0240 - val_acc: 0.9842\n",
      "Epoch 338/400\n",
      "289/289 [==============================] - ETA: 0s - loss: 0.0029 - acc: 0.9998"
     ]
    },
    {
     "name": "stderr",
     "output_type": "stream",
     "text": [
      "WARNING:absl:Found untraced functions such as _jit_compiled_convolution_op, _jit_compiled_convolution_op, _jit_compiled_convolution_op, _jit_compiled_convolution_op, _jit_compiled_convolution_op while saving (showing 5 of 459). These functions will not be directly callable after loading.\n"
     ]
    },
    {
     "name": "stdout",
     "output_type": "stream",
     "text": [
      "289/289 [==============================] - 250s 867ms/step - loss: 0.0029 - acc: 0.9998 - val_loss: 0.0227 - val_acc: 0.9847\n",
      "Epoch 339/400\n",
      "289/289 [==============================] - 167s 578ms/step - loss: 0.0027 - acc: 0.9998 - val_loss: 0.0281 - val_acc: 0.9821\n",
      "Epoch 340/400\n",
      "289/289 [==============================] - 167s 577ms/step - loss: 0.0025 - acc: 0.9998 - val_loss: 0.0384 - val_acc: 0.9789\n",
      "Epoch 341/400\n",
      "289/289 [==============================] - 168s 581ms/step - loss: 0.0023 - acc: 0.9998 - val_loss: 0.0384 - val_acc: 0.9789\n",
      "Epoch 342/400\n",
      "289/289 [==============================] - 167s 577ms/step - loss: 0.0022 - acc: 0.9998 - val_loss: 0.0287 - val_acc: 0.9825\n",
      "Epoch 343/400\n",
      "289/289 [==============================] - 165s 572ms/step - loss: 0.0020 - acc: 0.9998 - val_loss: 0.0305 - val_acc: 0.9807\n",
      "Epoch 344/400\n",
      "289/289 [==============================] - ETA: 0s - loss: 0.0019 - acc: 0.9997"
     ]
    },
    {
     "name": "stderr",
     "output_type": "stream",
     "text": [
      "WARNING:absl:Found untraced functions such as _jit_compiled_convolution_op, _jit_compiled_convolution_op, _jit_compiled_convolution_op, _jit_compiled_convolution_op, _jit_compiled_convolution_op while saving (showing 5 of 459). These functions will not be directly callable after loading.\n"
     ]
    },
    {
     "name": "stdout",
     "output_type": "stream",
     "text": [
      "289/289 [==============================] - 252s 874ms/step - loss: 0.0019 - acc: 0.9997 - val_loss: 0.0227 - val_acc: 0.9834\n",
      "Epoch 345/400\n",
      "289/289 [==============================] - 168s 581ms/step - loss: 0.0018 - acc: 0.9997 - val_loss: 0.0270 - val_acc: 0.9814\n",
      "Epoch 346/400\n",
      "289/289 [==============================] - 169s 584ms/step - loss: 0.0017 - acc: 0.9997 - val_loss: 0.0267 - val_acc: 0.9814\n",
      "Epoch 347/400\n",
      "289/289 [==============================] - 167s 579ms/step - loss: 0.0016 - acc: 0.9997 - val_loss: 0.0328 - val_acc: 0.9794\n",
      "Epoch 348/400\n",
      "289/289 [==============================] - 167s 576ms/step - loss: 0.0015 - acc: 0.9997 - val_loss: 0.0398 - val_acc: 0.9774\n",
      "Epoch 349/400\n",
      "289/289 [==============================] - 168s 580ms/step - loss: 0.0015 - acc: 0.9995 - val_loss: 0.0269 - val_acc: 0.9799\n",
      "Epoch 350/400\n",
      "289/289 [==============================] - 167s 577ms/step - loss: 0.0015 - acc: 0.9990 - val_loss: 0.0229 - val_acc: 0.9788\n",
      "Epoch 351/400\n",
      "289/289 [==============================] - 172s 596ms/step - loss: 0.0014 - acc: 0.9995 - val_loss: 0.0283 - val_acc: 0.9775\n",
      "Epoch 352/400\n",
      "289/289 [==============================] - 167s 579ms/step - loss: 0.0013 - acc: 0.9997 - val_loss: 0.0290 - val_acc: 0.9794\n",
      "Epoch 353/400\n",
      "289/289 [==============================] - 167s 577ms/step - loss: 0.0012 - acc: 0.9998 - val_loss: 0.0324 - val_acc: 0.9794\n",
      "Epoch 354/400\n",
      "289/289 [==============================] - 169s 583ms/step - loss: 0.0012 - acc: 0.9998 - val_loss: 0.0348 - val_acc: 0.9792\n",
      "Epoch 355/400\n",
      "289/289 [==============================] - 168s 582ms/step - loss: 0.0011 - acc: 0.9998 - val_loss: 0.0397 - val_acc: 0.9784\n",
      "Epoch 356/400\n",
      "289/289 [==============================] - 170s 589ms/step - loss: 0.0011 - acc: 0.9998 - val_loss: 0.0447 - val_acc: 0.9772\n",
      "Epoch 357/400\n",
      "289/289 [==============================] - 169s 584ms/step - loss: 0.0011 - acc: 0.9998 - val_loss: 0.0398 - val_acc: 0.9784\n",
      "Epoch 358/400\n",
      "289/289 [==============================] - 168s 582ms/step - loss: 0.0010 - acc: 0.9997 - val_loss: 0.0342 - val_acc: 0.9797\n",
      "Epoch 359/400\n",
      "289/289 [==============================] - 169s 584ms/step - loss: 0.0010 - acc: 0.9996 - val_loss: 0.0459 - val_acc: 0.9751\n",
      "Epoch 360/400\n",
      "289/289 [==============================] - 169s 584ms/step - loss: 9.9853e-04 - acc: 0.9997 - val_loss: 0.0382 - val_acc: 0.9775\n",
      "Epoch 361/400\n",
      "289/289 [==============================] - 170s 587ms/step - loss: 9.6443e-04 - acc: 0.9997 - val_loss: 0.0322 - val_acc: 0.9797\n",
      "Epoch 362/400\n",
      "289/289 [==============================] - 170s 586ms/step - loss: 9.4424e-04 - acc: 0.9997 - val_loss: 0.0478 - val_acc: 0.9748\n",
      "Epoch 363/400\n",
      "289/289 [==============================] - 169s 586ms/step - loss: 9.2527e-04 - acc: 0.9997 - val_loss: 0.0447 - val_acc: 0.9760\n",
      "Epoch 364/400\n",
      "289/289 [==============================] - 170s 587ms/step - loss: 9.1436e-04 - acc: 0.9997 - val_loss: 0.0389 - val_acc: 0.9774\n",
      "Epoch 365/400\n",
      "289/289 [==============================] - 168s 582ms/step - loss: 9.0236e-04 - acc: 0.9997 - val_loss: 0.0515 - val_acc: 0.9728\n",
      "Epoch 366/400\n",
      "289/289 [==============================] - 170s 589ms/step - loss: 8.8657e-04 - acc: 0.9997 - val_loss: 0.0352 - val_acc: 0.9784\n",
      "Epoch 367/400\n",
      "289/289 [==============================] - 170s 590ms/step - loss: 8.5392e-04 - acc: 0.9998 - val_loss: 0.0340 - val_acc: 0.9792\n",
      "Epoch 368/400\n",
      "289/289 [==============================] - 170s 587ms/step - loss: 8.3630e-04 - acc: 0.9998 - val_loss: 0.0498 - val_acc: 0.9750\n",
      "Epoch 369/400\n",
      "289/289 [==============================] - 168s 582ms/step - loss: 8.4054e-04 - acc: 0.9997 - val_loss: 0.0390 - val_acc: 0.9784\n",
      "Epoch 370/400\n",
      "289/289 [==============================] - 173s 598ms/step - loss: 8.4258e-04 - acc: 0.9997 - val_loss: 0.0334 - val_acc: 0.9794\n",
      "Epoch 371/400\n",
      "289/289 [==============================] - 169s 584ms/step - loss: 8.3109e-04 - acc: 0.9997 - val_loss: 0.0438 - val_acc: 0.9750\n",
      "Epoch 372/400\n",
      "289/289 [==============================] - 170s 587ms/step - loss: 8.1502e-04 - acc: 0.9997 - val_loss: 0.0467 - val_acc: 0.9762\n",
      "Epoch 373/400\n",
      "289/289 [==============================] - 168s 580ms/step - loss: 7.9356e-04 - acc: 0.9997 - val_loss: 0.0440 - val_acc: 0.9764\n",
      "Epoch 374/400\n",
      "289/289 [==============================] - 169s 585ms/step - loss: 7.7678e-04 - acc: 0.9998 - val_loss: 0.0438 - val_acc: 0.9768\n",
      "Epoch 375/400\n",
      "289/289 [==============================] - 168s 583ms/step - loss: 7.6712e-04 - acc: 0.9998 - val_loss: 0.0365 - val_acc: 0.9789\n",
      "Epoch 376/400\n",
      "289/289 [==============================] - 168s 583ms/step - loss: 7.7086e-04 - acc: 0.9997 - val_loss: 0.0311 - val_acc: 0.9800\n",
      "Epoch 377/400\n",
      "289/289 [==============================] - 170s 589ms/step - loss: 7.6719e-04 - acc: 0.9997 - val_loss: 0.0402 - val_acc: 0.9775\n",
      "Epoch 378/400\n",
      "289/289 [==============================] - 168s 582ms/step - loss: 7.5764e-04 - acc: 0.9997 - val_loss: 0.0404 - val_acc: 0.9770\n",
      "Epoch 379/400\n",
      "289/289 [==============================] - 167s 576ms/step - loss: 7.4464e-04 - acc: 0.9997 - val_loss: 0.0407 - val_acc: 0.9773\n",
      "Epoch 380/400\n",
      "289/289 [==============================] - 168s 582ms/step - loss: 7.2875e-04 - acc: 0.9997 - val_loss: 0.0431 - val_acc: 0.9767\n",
      "Epoch 381/400\n",
      "289/289 [==============================] - 167s 578ms/step - loss: 7.1779e-04 - acc: 0.9998 - val_loss: 0.0479 - val_acc: 0.9752\n",
      "Epoch 382/400\n",
      "289/289 [==============================] - 168s 581ms/step - loss: 7.1478e-04 - acc: 0.9997 - val_loss: 0.0296 - val_acc: 0.9809\n",
      "Epoch 383/400\n",
      "289/289 [==============================] - 169s 583ms/step - loss: 7.0999e-04 - acc: 0.9997 - val_loss: 0.0444 - val_acc: 0.9761\n",
      "Epoch 384/400\n",
      "289/289 [==============================] - 168s 582ms/step - loss: 7.0898e-04 - acc: 0.9997 - val_loss: 0.0431 - val_acc: 0.9759\n",
      "Epoch 385/400\n",
      "289/289 [==============================] - 169s 584ms/step - loss: 7.2221e-04 - acc: 0.9996 - val_loss: 0.0388 - val_acc: 0.9774\n",
      "Epoch 386/400\n",
      "289/289 [==============================] - 168s 581ms/step - loss: 6.9964e-04 - acc: 0.9997 - val_loss: 0.0418 - val_acc: 0.9769\n",
      "Epoch 387/400\n",
      "289/289 [==============================] - 169s 586ms/step - loss: 6.7766e-04 - acc: 0.9998 - val_loss: 0.0347 - val_acc: 0.9792\n",
      "Epoch 388/400\n",
      "289/289 [==============================] - 169s 584ms/step - loss: 6.6171e-04 - acc: 0.9998 - val_loss: 0.0445 - val_acc: 0.9766\n",
      "Epoch 389/400\n",
      "289/289 [==============================] - 170s 589ms/step - loss: 6.5188e-04 - acc: 0.9998 - val_loss: 0.0540 - val_acc: 0.9746\n",
      "Epoch 390/400\n",
      "289/289 [==============================] - 169s 586ms/step - loss: 6.4923e-04 - acc: 0.9998 - val_loss: 0.0367 - val_acc: 0.9792\n",
      "Epoch 391/400\n",
      "289/289 [==============================] - 176s 608ms/step - loss: 6.5582e-04 - acc: 0.9997 - val_loss: 0.0450 - val_acc: 0.9759\n",
      "Epoch 392/400\n",
      "289/289 [==============================] - 169s 584ms/step - loss: 6.6306e-04 - acc: 0.9997 - val_loss: 0.0495 - val_acc: 0.9744\n",
      "Epoch 393/400\n",
      "289/289 [==============================] - 170s 587ms/step - loss: 6.5774e-04 - acc: 0.9997 - val_loss: 0.0454 - val_acc: 0.9739\n",
      "Epoch 394/400\n",
      "289/289 [==============================] - 169s 586ms/step - loss: 6.4818e-04 - acc: 0.9997 - val_loss: 0.0542 - val_acc: 0.9740\n",
      "Epoch 395/400\n",
      "289/289 [==============================] - 170s 587ms/step - loss: 6.3380e-04 - acc: 0.9997 - val_loss: 0.0377 - val_acc: 0.9788\n",
      "Epoch 396/400\n",
      "289/289 [==============================] - 173s 598ms/step - loss: 6.2817e-04 - acc: 0.9997 - val_loss: 0.0405 - val_acc: 0.9775\n",
      "Epoch 397/400\n",
      "289/289 [==============================] - 171s 591ms/step - loss: 6.2579e-04 - acc: 0.9997 - val_loss: 0.0430 - val_acc: 0.9763\n",
      "Epoch 398/400\n",
      "289/289 [==============================] - 168s 580ms/step - loss: 6.1796e-04 - acc: 0.9997 - val_loss: 0.0431 - val_acc: 0.9773\n",
      "Epoch 399/400\n",
      "289/289 [==============================] - 167s 578ms/step - loss: 6.0489e-04 - acc: 0.9998 - val_loss: 0.0441 - val_acc: 0.9764\n",
      "Epoch 400/400\n",
      "289/289 [==============================] - 167s 578ms/step - loss: 6.0003e-04 - acc: 0.9998 - val_loss: 0.0355 - val_acc: 0.9787\n",
      "Time needed for training: 1420.2829528133075\n"
     ]
    },
    {
     "name": "stderr",
     "output_type": "stream",
     "text": [
      "WARNING:absl:Found untraced functions such as _jit_compiled_convolution_op, _jit_compiled_convolution_op, _jit_compiled_convolution_op, _jit_compiled_convolution_op, _jit_compiled_convolution_op while saving (showing 5 of 459). These functions will not be directly callable after loading.\n"
     ]
    }
   ],
   "source": [
    "models = ['Unet', 'Attention_Unet', 'Vnet', 'USE_net', 'Dense2_Unet', 'Trans_Unet']\n",
    "mod_instances = [\n",
    "ProstateLesionDetectionUtils.DetectionModels.Models3D.UnetModel3D.UNET.TrainUnet,\n",
    "ProstateLesionDetectionUtils.DetectionModels.Models3D.AttentionUNet3D.AttentionUNet.TrainAttentionUnet,\n",
    "ProstateLesionDetectionUtils.DetectionModels.Models3D.VNet.vnet.TrainVnet,\n",
    "ProstateLesionDetectionUtils.DetectionModels.Models3D.USENet3D.USENET.TrainUSEnet,\n",
    "ProstateLesionDetectionUtils.DetectionModels.Models3D.Dense2VNet.D2Vnet.TrainDenseVnet,\n",
    "ProstateLesionDetectionUtils.DetectionModels.Models3D.TransUnet3D.transunet3d.TrainTransUnet,\n",
    "]\n",
    "\n",
    "TrainParams = {\"LOSS\":LOSS, \"OPTIMIZER\":OPTIMIZER, \"CALLBACKS\":None,\"POOL_SIZE\":Pool_size,\n",
    "            \"BATCH_SIZE\":BATCH_SIZE, \"FILTERS\":FILTERS, \"INPUT_SIZE\":INPUT_SIZE, \"METRICS\":METRICS,\n",
    "            \"INITIAL_WEIGHTS\":None,\n",
    "            \"WEIGHTS\":None,\n",
    "            \"VOLUME_SIZE\":24, \"EPOCHS\":EPOCHS, \n",
    "            \"TRAIN_DATASET\":{\"DATA\":Xtrain,\"LABELS\":Ytrain},\"VAL_DATASET\":{\"DATA\":Xtest,\"LABELS\":Ytest},\n",
    "            \"DENSE_SIZE\":32, \"GROWTH_RATE\": 2, \"DROPOUT_RATE\": 0.3, \"DENSE_BLOCKS\": 2,\n",
    "            \"PATCH_SIZE_XY\": 3,\n",
    "            \"PATCH_SIZE_Z\": 1,\n",
    "            \"TRANSF_HEADS\": 8,\n",
    "            \"TRANSF_LAYERS\": 8,\n",
    "            \"DROP_RATE\": 0.3}\n",
    "\n",
    "for mdl_pth, mdl in zip(models,mod_instances):\n",
    "    if mdl_pth == \"Dense2_Unet\" or mdl_pth == \"Trans_Unet\":\n",
    "        pth_check = [\"EXPERIMENTS\",mdl_pth,\"fold_0\",\"Checkpoint_2048.tf\"]\n",
    "        pth_final = [\"EXPERIMENTS\",mdl_pth,\"fold_0\",\"Final_2048.tf\"]\n",
    "        pth_init = [\"EXPERIMENTS\",mdl_pth,\"init_weights_2048.h5\"]\n",
    "\n",
    "        CHECK_CB = tf.keras.callbacks.ModelCheckpoint(os.path.join(*pth_check),save_weights_only=False,save_best_only=True)\n",
    "        CALLBACKS=[CHECK_CB]#\n",
    "        TrainParams[\"CALLBACKS\"] = CALLBACKS\n",
    "        TrainParams[\"INITIAL_WEIGHTS\"] = os.path.join(*pth_init)\n",
    "        TrainParams[\"WEIGHTS\"] = os.path.join(*pth_final)\n",
    "\n",
    "        mod = mdl(TrainParams)\n",
    "        mod.ModelBuild()\n",
    "\n",
    "        if \"init_weights_2048.h5\" in os.listdir(os.path.join(\"EXPERIMENTS\",mdl_pth)):\n",
    "            mod.LoadTrained()\n",
    "        else:\n",
    "            mod.SaveInitWeights()\n",
    "        mod.LoadTrained()\n",
    "        mod.ModelCompile()\n",
    "        mod.ModelFit()\n",
    "\n",
    "        mod = mod.GetModel()\n",
    "        mod.save(TrainParams[\"WEIGHTS\"])"
   ]
  }
 ],
 "metadata": {
  "kernelspec": {
   "display_name": "TensorFlow27",
   "language": "python",
   "name": "python3"
  },
  "language_info": {
   "codemirror_mode": {
    "name": "ipython",
    "version": 3
   },
   "file_extension": ".py",
   "mimetype": "text/x-python",
   "name": "python",
   "nbconvert_exporter": "python",
   "pygments_lexer": "ipython3",
   "version": "3.10.11"
  },
  "orig_nbformat": 4
 },
 "nbformat": 4,
 "nbformat_minor": 2
}
