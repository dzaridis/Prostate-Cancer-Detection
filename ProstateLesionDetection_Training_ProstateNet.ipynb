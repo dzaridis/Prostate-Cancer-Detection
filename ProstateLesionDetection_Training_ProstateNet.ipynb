{
 "cells": [
  {
   "cell_type": "code",
   "execution_count": 1,
   "metadata": {},
   "outputs": [
    {
     "name": "stderr",
     "output_type": "stream",
     "text": [
      "c:\\Users\\dimza\\anaconda3\\envs\\TensorFlow27\\lib\\site-packages\\requests\\__init__.py:109: RequestsDependencyWarning: urllib3 (1.26.15) or chardet (None)/charset_normalizer (3.1.0) doesn't match a supported version!\n",
      "  warnings.warn(\n"
     ]
    }
   ],
   "source": [
    "import pickle\n",
    "import time\n",
    "start_time = time.time()\n",
    "import numpy as np\n",
    "import os\n",
    "import SimpleITK as sitk\n",
    "import json\n",
    "import ProstateLesionDetectionUtils\n",
    "import random\n",
    "import plotly.express as px\n",
    "import matplotlib.pyplot as plt\n",
    "from scipy import ndimage\n",
    "import math\n",
    "import tensorflow_addons as tfa\n",
    "import tensorflow as tf\n",
    "with open(r\"E:\\DIMITRIS_DEEP_LEARNING\\DATASETS\\UC1_Nifti_Datasets_Paths\\Datasets.json\", 'r') as f:\n",
    "    datasets = json.load(f)\n",
    "p158 = r\"E:\\DIMITRIS_DEEP_LEARNING\\DATASETS\\PROSTATE158\\DATASETPICKLE\\Nifti_files\"\n",
    "picai = r\"E:\\DIMITRIS_DEEP_LEARNING\\DATASETS\\PICAI_DATA\\Nifti_files\"\n",
    "prostatenet = r\"E:\\DIMITRIS_DEEP_LEARNING\\DATASETS\\PROSTATENET_UC1_LESIONS\\nnUNet_raw\\Dataset011_ProstateNet\"\n",
    "with open(r\"E:\\DIMITRIS_DEEP_LEARNING\\DATASETS\\PROSTATENET_UC1_LESIONS\\nnUNet_raw\\Dataset011_ProstateNet\\folds.json\", 'r') as f:\n",
    "    ValidationFolds = json.load(f)\n",
    "    \n",
    "\n",
    "def PrepareTraining(pat):\n",
    "    dataset, labels = {}, {}\n",
    "    for key in pat.keys():\n",
    "        dataset.update({key:np.transpose(np.stack([pat[key][\"T2\"], pat[key][\"ADC\"], pat[key][\"DWI\"]]),(1,2,3,0))}) # tf.convert_to_tensor\n",
    "        labels.update({key:np.expand_dims(pat[key][\"Lesions\"], axis = -1)}) # tf.convert_to_tensor\n",
    "    return dataset, labels"
   ]
  },
  {
   "cell_type": "code",
   "execution_count": 2,
   "metadata": {},
   "outputs": [],
   "source": [
    "loader = ProstateLesionDetectionUtils.DatasetsLoaders.Nifti_Loader.LoadSitkImages(ptdc = datasets[\"ProstateNet\"], folder = prostatenet)\n",
    "patients = loader.load_npobj()"
   ]
  },
  {
   "cell_type": "code",
   "execution_count": null,
   "metadata": {},
   "outputs": [],
   "source": [
    "vis = ProstateLesionDetectionUtils.DatasetsProcessing.Visualization.Visualizer(patients)\n",
    "vis.np_vis(\"DWI\", \"PCa-324365095643606010864476831387746614101\")"
   ]
  },
  {
   "cell_type": "code",
   "execution_count": null,
   "metadata": {},
   "outputs": [],
   "source": [
    "dt = ProstateLesionDetectionUtils.DetectionMetrics.ModelDetoriention.DetorientLesions(patients, rates = [15,40,50])\n",
    "dt.CreateZones()\n",
    "dt.CreateZaxisZone()\n",
    "dt.KeepZonesNonZeroImageValues()\n",
    "zones = dt.GetZones()\n",
    "zaxis = dt.GetZaxisZones()"
   ]
  },
  {
   "cell_type": "code",
   "execution_count": 3,
   "metadata": {},
   "outputs": [],
   "source": [
    "dataset, labels = PrepareTraining(patients)\n",
    "\n",
    "x_train = {key:dataset[key] for key in dataset.keys() if key not in ValidationFolds[\"Fold 0\"]}\n",
    "y_train = {key:labels[key] for key in labels.keys() if key not in ValidationFolds[\"Fold 0\"]}\n",
    "\n",
    "x_test = {key:dataset[key] for key in dataset.keys() if key in ValidationFolds[\"Fold 0\"]}\n",
    "y_test = {key:labels[key] for key in labels.keys() if key in ValidationFolds[\"Fold 0\"]}"
   ]
  },
  {
   "cell_type": "code",
   "execution_count": null,
   "metadata": {},
   "outputs": [],
   "source": [
    "len(x_train),len(y_train),len(x_test),len(y_test)"
   ]
  },
  {
   "cell_type": "code",
   "execution_count": 4,
   "metadata": {},
   "outputs": [],
   "source": [
    "Xtrain = list(x_train.values())\n",
    "Ytrain = list(y_train.values())\n",
    "Xtest = list(x_test.values())\n",
    "Ytest = list(y_test.values())"
   ]
  },
  {
   "cell_type": "code",
   "execution_count": 5,
   "metadata": {},
   "outputs": [
    {
     "name": "stdout",
     "output_type": "stream",
     "text": [
      "620.6974353790283\n"
     ]
    }
   ],
   "source": [
    "start_time = time.time()\n",
    "tf.compat.v1.logging.set_verbosity(tf.compat.v1.logging.ERROR)\n",
    "FILTERS = [32,64,128,256, 512, 1024, 2048]\n",
    "Pool_size = ((2,2,2),(2,2,2),(2,2,2), (1,2,2), (1,2,2), (1,2,2))\n",
    "VOLSIZE = 24\n",
    "INPSIZE = (24,192,192,3)\n",
    "BATCH_SIZE=1\n",
    "EPOCHS = 100\n",
    "INIT_LR = 1e-5\n",
    "MAX_LR = 1e-2\n",
    "TQDM_CB=tfa.callbacks.TQDMProgressBar()\n",
    "\n",
    "METRICS = \"acc\" # tfa.metrics.F1Score(num_classes=2, threshold=0.5)\n",
    "\n",
    "STEPS_PER_EPOCH = len(Xtrain) // BATCH_SIZE # len(train_data)\n",
    "\n",
    "# CLR = lr_schedule = tf.keras.optimizers.schedules.ExponentialDecay(\n",
    "#     0.001,\n",
    "#     decay_steps=STEPS_PER_EPOCH,  # Usually set to total number of training steps/epochs\n",
    "#     decay_rate=0.96,\n",
    "#     staircase=True\n",
    "#)\n",
    "CLR = tfa.optimizers.CyclicalLearningRate(initial_learning_rate=INIT_LR,\n",
    "    maximal_learning_rate=MAX_LR,\n",
    "    scale_fn=lambda x: 1/(2.**(x-1)),\n",
    "    step_size=2 * STEPS_PER_EPOCH)\n",
    "LOSS = tfa.losses.sigmoid_focal_crossentropy  #tfa.losses.sigmoid_focal_crossentropy\n",
    "OPTIMIZER = tf.keras.optimizers.Adam(CLR)\n",
    "\n",
    "name_folder = \"TransUnet_8translayers_8heads\"\n",
    "try:\n",
    "    os.mkdir(os.path.join(r\"E:\\DIMITRIS_DEEP_LEARNING\\RESULTS\\PROCANCER_UC1_RESULTS\",name_folder))\n",
    "except:\n",
    "    pass\n",
    "\n",
    "CHECK_CB = tf.keras.callbacks.ModelCheckpoint(os.path.join(r\"E:\\DIMITRIS_DEEP_LEARNING\\RESULTS\\PROCANCER_UC1_RESULTS\",name_folder+\"\\CheckPoint_Weights.tf\"),save_weights_only=False,save_best_only=True)\n",
    "#EARLY_STOP = tf.keras.callbacks.EarlyStopping(patience = 30)\n",
    "CALLBACKS=[CHECK_CB,TQDM_CB]#\n",
    "#train_dataset = tf.data.Dataset.from_tensor_slices((Xtrain, Ytrain))\n",
    "#val_dataset = tf.data.Dataset.from_tensor_slices((Xtest, Ytest))\n",
    "\n",
    "\n",
    "# train_dataset = train_dataset.batch(BATCH_SIZE)\n",
    "# val_dataset = val_dataset.batch(BATCH_SIZE)\n",
    "\n",
    "TrainParams = {\"LOSS\":LOSS, \"OPTIMIZER\":OPTIMIZER, \"CALLBACKS\":CALLBACKS,\"POOL_SIZE\":Pool_size,\n",
    "               \"BATCH_SIZE\":BATCH_SIZE, \"FILTERS\":FILTERS, \"INPUT_SIZE\":INPSIZE, \"METRICS\":METRICS,\n",
    "               \"WEIGHTS\":os.path.join(r\"E:\\DIMITRIS_DEEP_LEARNING\\RESULTS\\PROCANCER_UC1_RESULTS\",name_folder+\"\\CheckPoint_Weights.tf\"),\n",
    "               \"VOLUME_SIZE\":24, \"EPOCHS\":EPOCHS, \"TRAIN_DATASET\":{\"DATA\":Xtrain,\"LABELS\":Ytrain},\"VAL_DATASET\":{\"DATA\":Xtest,\"LABELS\":Ytest},\"DENSE_SIZE\":8, \"PATCH_SIZE_XY\": 2,\n",
    "                \"PATCH_SIZE_Z\": 1,\n",
    "                \"TRANSF_HEADS\": 4,\n",
    "                \"TRANSF_LAYERS\": 8,\n",
    "                \"DROP_RATE\": 0.4}\n",
    "\n",
    "print((time.time() - start_time))"
   ]
  },
  {
   "cell_type": "code",
   "execution_count": null,
   "metadata": {},
   "outputs": [],
   "source": [
    "start_time = time.time()\n",
    "TrainParams[\"POOL_SIZE\"] = ((2,2,2),(2,2,2),(2,2,2), (1,2,2), (1,2,2), (1,2,2))\n",
    "TrainParams[\"PATCH_SIZE_XY\"] = 3\n",
    "mod = ProstateLesionDetectionUtils.DetectionModels.Models3D.TransUnet3D.transunet3d.TrainTransUnet(TrainParams)\n",
    "mod.ModelBuild()\n",
    "mod.ModelCompile()\n",
    "#mod.LoadTrained()\n",
    "mod.ModelFit()\n",
    "#history = mod.GetHistory()\n",
    "transunet = mod.GetModel()\n",
    "transunet.save(os.path.join(r\"E:\\DIMITRIS_DEEP_LEARNING\\RESULTS\\PROCANCER_UC1_RESULTS\",name_folder+\"\\Final_2048_patch_3.tf\"))\n",
    "print((time.time() - start_time))"
   ]
  },
  {
   "cell_type": "markdown",
   "metadata": {},
   "source": [
    "# Evaluation"
   ]
  },
  {
   "cell_type": "code",
   "execution_count": null,
   "metadata": {},
   "outputs": [],
   "source": [
    "name_folder = \"TransUnet_8translayers_8heads\"\n",
    "TrainParams = {\"LOSS\":LOSS, \"OPTIMIZER\":OPTIMIZER, \"CALLBACKS\":CALLBACKS,\"POOL_SIZE\":Pool_size,\n",
    "               \"BATCH_SIZE\":BATCH_SIZE, \"FILTERS\":FILTERS, \"INPUT_SIZE\":INPSIZE, \"METRICS\":METRICS,\n",
    "               \"WEIGHTS\":os.path.join(r\"E:\\DIMITRIS_DEEP_LEARNING\\RESULTS\\PROCANCER_UC1_RESULTS\",name_folder+\"\\CheckPoint_Weights.tf\"),\n",
    "               \"VOLUME_SIZE\":24, \"EPOCHS\":EPOCHS, \"TRAIN_DATASET\":train_dataset,\"VAL_DATASET\":val_dataset,\"DENSE_SIZE\":8, \"PATCH_SIZE_XY\": 2,\n",
    "                \"PATCH_SIZE_Z\": 1,\n",
    "                \"TRANSF_HEADS\": 8,\n",
    "                \"TRANSF_LAYERS\": 8,\n",
    "                \"DROP_RATE\": 0.5}\n",
    "\n",
    "start_time = time.time()\n",
    "mod = ProstateLesionDetectionUtils.DetectionModels.Models3D.TransUnet3D.transunet3d.TrainTransUnet(TrainParams)\n",
    "mod.ModelBuild()\n",
    "mod.ModelCompile()\n",
    "mod.LoadTrained()\n",
    "#mod.ModelFit()\n",
    "#history = mod.GetHistory()\n",
    "transunet = mod.GetModel()\n",
    "\n",
    "print((time.time() - start_time))"
   ]
  },
  {
   "cell_type": "code",
   "execution_count": null,
   "metadata": {},
   "outputs": [],
   "source": [
    "name_folder = \"TransUnet_8translayers_8heads\"\n",
    "transunet = tf.keras.models.load_model(os.path.join(r\"E:\\DIMITRIS_DEEP_LEARNING\\RESULTS\\PROCANCER_UC1_RESULTS\",name_folder+\"\\Final.tf\"),compile = False)"
   ]
  },
  {
   "cell_type": "code",
   "execution_count": null,
   "metadata": {},
   "outputs": [],
   "source": [
    "transunet.summary()"
   ]
  },
  {
   "cell_type": "code",
   "execution_count": null,
   "metadata": {},
   "outputs": [],
   "source": [
    "#y_pred = {}\n",
    "for key in x_test.keys():\n",
    "    pred = tf.squeeze(tf.squeeze(transunet.predict(tf.expand_dims(x_test[key], axis = 0)), axis= 0), axis=-1).numpy()\n",
    "    patients[key][\"Pred\"] = pred\n",
    "\n",
    "    # {key:tf.squeeze(tf.squeeze(transunet.predict(tf.expand_dims(x_test[key], axis = 0)), axis= 0), axis=-1)}"
   ]
  },
  {
   "cell_type": "code",
   "execution_count": null,
   "metadata": {},
   "outputs": [],
   "source": [
    "x_test.keys()"
   ]
  },
  {
   "cell_type": "code",
   "execution_count": null,
   "metadata": {},
   "outputs": [],
   "source": [
    "ls = []\n",
    "for key in y_test.keys():\n",
    "    ls.append(sg.write_metrics(labels = [0,1], gdth_img = np.squeeze(y_test[key].numpy(), axis=-1), pred_img = y_pred[key].numpy()))\n"
   ]
  },
  {
   "cell_type": "code",
   "execution_count": null,
   "metadata": {},
   "outputs": [],
   "source": [
    "x_test.keys()"
   ]
  },
  {
   "cell_type": "code",
   "execution_count": null,
   "metadata": {},
   "outputs": [],
   "source": [
    "vis = ProstateLesionDetectionUtils.DatasetsProcessing.Visualization.Visualizer(patients)\n",
    "vis.np_vis(\"Pred\", 'PCa-271751484858119487045408524161595913267', alpha=0.3)"
   ]
  },
  {
   "cell_type": "code",
   "execution_count": null,
   "metadata": {},
   "outputs": [],
   "source": []
  }
 ],
 "metadata": {
  "kernelspec": {
   "display_name": "TensorFlow27",
   "language": "python",
   "name": "python3"
  },
  "language_info": {
   "codemirror_mode": {
    "name": "ipython",
    "version": 3
   },
   "file_extension": ".py",
   "mimetype": "text/x-python",
   "name": "python",
   "nbconvert_exporter": "python",
   "pygments_lexer": "ipython3",
   "version": "3.9.16"
  },
  "orig_nbformat": 4
 },
 "nbformat": 4,
 "nbformat_minor": 2
}
