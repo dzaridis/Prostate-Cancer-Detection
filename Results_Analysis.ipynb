{
 "cells": [
  {
   "cell_type": "code",
   "execution_count": null,
   "metadata": {},
   "outputs": [],
   "source": [
    "import pandas as pd, numpy as np, os, json\n",
    "def open_json(file):\n",
    "    with open(file, \"r\") as f:\n",
    "        metr = json.load(f)\n",
    "    return metr\n",
    "def create_dfs(metr):\n",
    "    l1,l2,l3,l4,l5,l6,l_pat =[],[],[],[],[],[],[]\n",
    "    for key,value in metr.items():\n",
    "        a,b,c,d,e,f,k= value[0]['dice'][0],value[0]['precision'][0], value[0]['recall'][0],value[0]['hd'][0],value[0]['Model'],value[0]['Number of Parameters'][0],key\n",
    "        l1.append(a),l2.append(b),l3.append(c),l4.append(d),l5.append(e),l6.append(f),l_pat.append(k)\n",
    "    df = pd.DataFrame({\"Dice\":l1, \"Precision\":l2,\"Recall\":l3,\"HD\":l4,\"Model\":l5,\"Parameters\":l6},index=l_pat)\n",
    "    return df"
   ]
  },
  {
   "cell_type": "code",
   "execution_count": null,
   "metadata": {},
   "outputs": [],
   "source": [
    "model_names = ['Unet', 'Attention_Unet', 'Vnet', 'USE_net', 'Dense2_Unet', 'Trans_Unet']\n",
    "base_path = \"EXPERIMENTS\"\n",
    "fold = \"fold_0\"\n",
    "weights_paths = [\"metrics_final_Checkpoint_1024.json\",\n",
    "                 \"metrics_final_Checkpoint_2048.json\",\n",
    "                 \"metrics_final_Final_1024.json\",\n",
    "                 \"metrics_final_Final_2048.json\"]\n",
    "params = [\"Check_1024\", \"Check_2048\", \"Final_1024\", \"Final_2048\"]\n",
    "\n",
    "dfs_mod = []\n",
    "for md_nm in model_names:\n",
    "    for weight, param in zip(weights_paths, params):\n",
    "        pth = [base_path, md_nm, fold, weight]\n",
    "        metr = open_json(os.path.join(*pth))\n",
    "        df = create_dfs(metr)\n",
    "        df[\"Size\"] = param\n",
    "        df[\"Fold\"] = \"Fold 0\"\n",
    "        dfs_mod.append(df)\n"
   ]
  },
  {
   "cell_type": "code",
   "execution_count": null,
   "metadata": {},
   "outputs": [],
   "source": [
    "df_a = pd.concat(dfs_mod, axis = 0)"
   ]
  },
  {
   "cell_type": "code",
   "execution_count": null,
   "metadata": {},
   "outputs": [],
   "source": [
    "df_a"
   ]
  },
  {
   "cell_type": "code",
   "execution_count": null,
   "metadata": {},
   "outputs": [],
   "source": [
    "df_a.groupby([\"Model\",\"Size\"]).median()"
   ]
  },
  {
   "cell_type": "code",
   "execution_count": null,
   "metadata": {},
   "outputs": [],
   "source": []
  }
 ],
 "metadata": {
  "kernelspec": {
   "display_name": "tf12",
   "language": "python",
   "name": "python3"
  },
  "language_info": {
   "codemirror_mode": {
    "name": "ipython",
    "version": 3
   },
   "file_extension": ".py",
   "mimetype": "text/x-python",
   "name": "python",
   "nbconvert_exporter": "python",
   "pygments_lexer": "ipython3",
   "version": "3.10.11"
  },
  "orig_nbformat": 4
 },
 "nbformat": 4,
 "nbformat_minor": 2
}
